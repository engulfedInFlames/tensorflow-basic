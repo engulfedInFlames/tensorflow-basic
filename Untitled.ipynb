{
 "cells": [
  {
   "cell_type": "code",
   "execution_count": 1,
   "id": "ca606e01",
   "metadata": {},
   "outputs": [
    {
     "name": "stderr",
     "output_type": "stream",
     "text": [
      "2023-05-17 10:21:16.347674: I tensorflow/core/util/port.cc:110] oneDNN custom operations are on. You may see slightly different numerical results due to floating-point round-off errors from different computation orders. To turn them off, set the environment variable `TF_ENABLE_ONEDNN_OPTS=0`.\n",
      "2023-05-17 10:21:16.348974: I tensorflow/tsl/cuda/cudart_stub.cc:28] Could not find cuda drivers on your machine, GPU will not be used.\n",
      "2023-05-17 10:21:16.377011: I tensorflow/tsl/cuda/cudart_stub.cc:28] Could not find cuda drivers on your machine, GPU will not be used.\n",
      "2023-05-17 10:21:16.377654: I tensorflow/core/platform/cpu_feature_guard.cc:182] This TensorFlow binary is optimized to use available CPU instructions in performance-critical operations.\n",
      "To enable the following instructions: AVX2 AVX_VNNI FMA, in other operations, rebuild TensorFlow with the appropriate compiler flags.\n",
      "2023-05-17 10:21:16.896339: W tensorflow/compiler/tf2tensorrt/utils/py_utils.cc:38] TF-TRT Warning: Could not find TensorRT\n"
     ]
    }
   ],
   "source": [
    "import tensorflow as tf"
   ]
  },
  {
   "attachments": {},
   "cell_type": "markdown",
   "id": "784786f7",
   "metadata": {},
   "source": [
    "One-hot Encoding\n",
    "\n",
    "&ensp; 컴퓨터는 자연어보다 수 데이터를 더 잘 처리합니다. 텐서 플로우에는 자연어를 수 데이터로 변환할 수 있는 여러가지 스킬들 이 있는데, 그중 하나가 One-hot Encoding입니다. One-hot Encoding은 자연어 데이터의 크기를 수 데이터의 크기로 삼아 인덱스를 부여합니다. 그리고 자연어 데이터의 인덱스에 일치하는 수 데이터 인덱스의 1의 값을 줍니다. 가령, 빨강, 초록, 파랑, 보라를 One-hot Encoding으로 다음과 같이 표현할 수 있습니다. 0부터 3까지 순서대로 빨강, 초록, 파랑 ,보라를 의미합니다.\n",
    "\n",
    "```python\n",
    "colors = [0, 1, 2, 3] # [빨강, 초록, 파랑, 보라]\n",
    "colors_encoded = tf.one_hot(colors, 4)\n",
    "print(colors_encoded)\n",
    "```\n",
    "\n",
    "&ensp; 출력 결과는 다음과 같습니다.\n",
    "\n",
    "```\n",
    "tf.Tensor(\n",
    "[[1. 0. 0. 0.]\n",
    " [0. 1. 0. 0.]\n",
    " [0. 0. 1. 0.]\n",
    " [0. 0. 0. 1.]], shape=(4, 4), dtype=float32)\n",
    "```\n",
    "\n",
    "&ensp; 빨강, 초록, 파랑, 보라 총 4가지 색상이므로, 크기가 4인 수 데이터를 생성하고, 각 색상의 인덱스에 맞게 1을 부여한 것을 확인할 수 있습니다. 빨강, 보라, 파랑, 초록은 One-hot Encoding은 다음과 같이 표현할 수 있습니다.\n",
    "\n",
    "```python\n",
    "colors = [0, 3, 2, 1] # [빨강, 보라, 파랑, 초록]\n",
    "colors_encoded = tf.one_hot(colors, 4)\n",
    "print(colors_encoded)\n",
    "```\n",
    "\n",
    "&ensp; 출력 결과는 다음과 같습니다.\n",
    "\n",
    "```\n",
    "tf.Tensor(\n",
    "[[1. 0. 0. 0.]\n",
    " [0. 0. 0. 1.]\n",
    " [0. 0. 1. 0.]\n",
    " [0. 1. 0. 0.]], shape=(4, 4), dtype=float32)\n",
    "```\n",
    "\n",
    "&ensp; `on_value`와 `off_value`로 1과 0이 아닌 다른 값이 들어가게 할 수 있습니다.\n",
    "\n",
    "```python\n",
    "colors = [0, 3, 2, 1] # [빨강, 보라, 파랑, 초록]\n",
    "colors_encoded = tf.one_hot(colors, 4, on_value=\"Hello\", off_value=\"Goodbye\")\n",
    "print(colors_encoded)\n",
    "```\n",
    "\n",
    "&ensp; 출력 결과는 다음과 같습니다.\n",
    "\n",
    "```\n",
    "tf.Tensor(\n",
    "[[b'Hello' b'Goodbye' b'Goodbye' b'Goodbye']\n",
    " [b'Goodbye' b'Goodbye' b'Goodbye' b'Hello']\n",
    " [b'Goodbye' b'Goodbye' b'Hello' b'Goodbye']\n",
    " [b'Goodbye' b'Hello' b'Goodbye' b'Goodbye']], shape=(4, 4), dtype=string)\n",
    "```\n",
    "\n",
    "[위키독스](https://wikidocs.net/22647)"
   ]
  },
  {
   "attachments": {},
   "cell_type": "markdown",
   "id": "7f619d8c",
   "metadata": {},
   "source": [
    "# Tensor with NumPy\n",
    "NumpPy는 다차원 배열의 수치 계산을 효율적으로 할 수 있는 파이썬 패키지입니다 NumPy의 배열은 TensorFlow의 텐서로 유연하게 변환될 수 있으며, 그 역도 가능합니다.\n",
    "\n",
    "```python\n",
    "import numpy as np\n",
    "\n",
    "# From np to tf\n",
    "tensor = tf.constant(np.array([1., 3., 5.]))\n",
    "tensor\n",
    "\n",
    "tensor.numpy(), type(tensor.numpy())\n",
    "\n",
    "# From tf to np\n",
    "np_array = np.array(tensor)\n",
    "np_array, type(np_array)\n",
    "\n",
    "# 디폴트 dtype이 다르다.\n",
    "np_array = tf.constant(np.array([1.,3.,5.]))\n",
    "tensor = tf.constant([1.,3.,5.])\n",
    "np_array.dtype, tensor.dtype\n",
    "```\n"
   ]
  },
  {
   "attachments": {},
   "cell_type": "markdown",
   "id": "43a3c1d1",
   "metadata": {},
   "source": [
    "# 기초 통계\n",
    "https://losskatsu.github.io/statistics/mean-vairance/#1-1-%ED%8F%89%EA%B7%A0mean\n",
    "\n",
    "- 분산(variance)\n",
    "- 표준 편차(standard deviation)\n",
    "\n",
    "```python\n",
    "C = tf.constant(np.random.randint(-20, 20, size=20))\n",
    "C = tf.cast(C, dtype=tf.float16)\n",
    "\n",
    "tf.math.reduce_variance(C)\n",
    "tf.math.reduce_std(C)"
   ]
  }
 ],
 "metadata": {
  "kernelspec": {
   "display_name": "Python 3 (ipykernel)",
   "language": "python",
   "name": "python3"
  },
  "language_info": {
   "codemirror_mode": {
    "name": "ipython",
    "version": 3
   },
   "file_extension": ".py",
   "mimetype": "text/x-python",
   "name": "python",
   "nbconvert_exporter": "python",
   "pygments_lexer": "ipython3",
   "version": "3.10.6"
  }
 },
 "nbformat": 4,
 "nbformat_minor": 5
}
