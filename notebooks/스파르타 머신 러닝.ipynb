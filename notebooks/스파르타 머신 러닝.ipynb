{
 "cells": [
  {
   "attachments": {},
   "cell_type": "markdown",
   "id": "06c21dd3",
   "metadata": {},
   "source": [
    "### 알고리즘이란?\n",
    "문제를 해결하기 위해 일련의 절차나 방법을 형식화한 것\n",
    "\n",
    "딥러닝 문제를 해결할 때 자주 사용하는 분석 방법으로 회귀(Regression)와 분류(Classification)가 있다. 회귀는 주로 선형 문제, 분류는 주로 비선형 문제에 적용한다. 단, 항상 정확하게 나뉘는 것은 아니다. 인풋과 아웃풋을 정의하고, 거기에 맞춰서 분석 방법을 적절히 선택한다.\n",
    "\n",
    "\n",
    "* 경사하강법(Gradient Descent Method)\n",
    "* 인공지능 vs 머신러닝 vs 딥러닝\n",
    "* 사이킷런\n",
    "* 인공 신경망"
   ]
  },
  {
   "attachments": {},
   "cell_type": "markdown",
   "id": "a3c0099b",
   "metadata": {},
   "source": [
    "### 문법\n",
    "Ctrl + Enter: 해당 셀 실행\n",
    "Shift + Enter: 현재 셀 실행 후 다음 셀로 이동 (다음 셀이 없으면 새로 생성)\n",
    "Alt + Enter: 현재 셀 실행 후 다음 셀 생성하여 이동\n",
    "\n",
    "### 시스템 명령어\n",
    "`!`를 앞에 붙이면 리눅스 명령어를 사용할 수 있다."
   ]
  },
  {
   "cell_type": "code",
   "execution_count": 1,
   "id": "40f81f44",
   "metadata": {},
   "outputs": [],
   "source": [
    "import os\n",
    "\n",
    "os.environ[\"KAGGLE_USERNAME\"] = \"gyeongsugim\"\n",
    "os.environ[\"KAGGLE_KEY\"] = \"13ef87a9410279c26d00c6ec2999b870\""
   ]
  },
  {
   "cell_type": "code",
   "execution_count": 2,
   "id": "d3e2bce5",
   "metadata": {},
   "outputs": [
    {
     "name": "stdout",
     "output_type": "stream",
     "text": [
      "advertising-dataset.zip: Skipping, found more recently modified local copy (use --force to force download)\r\n"
     ]
    }
   ],
   "source": [
    "# 캐글에서 데이터 세트 다운 받기\n",
    "# 원하는 데이터 세트의 페이지로 이동해서 Copy API Command를 클릭한 뒤에 명령어를 실핸한다.\n",
    "!kaggle datasets download -d ashydv/advertising-dataset"
   ]
  },
  {
   "cell_type": "code",
   "execution_count": 3,
   "id": "d228fc9a",
   "metadata": {},
   "outputs": [
    {
     "name": "stdout",
     "output_type": "stream",
     "text": [
      "Archive:  advertising-dataset.zip\n",
      "replace advertising.csv? [y]es, [n]o, [A]ll, [N]one, [r]ename: ^C\n"
     ]
    }
   ],
   "source": [
    "!unzip advertising-dataset.zip"
   ]
  },
  {
   "cell_type": "code",
   "execution_count": 4,
   "id": "b98ff35e",
   "metadata": {},
   "outputs": [
    {
     "name": "stdout",
     "output_type": "stream",
     "text": [
      "Hello!\n"
     ]
    }
   ],
   "source": [
    "print(\"Hello!\")"
   ]
  },
  {
   "cell_type": "code",
   "execution_count": 11,
   "id": "9e4fdb4f",
   "metadata": {},
   "outputs": [],
   "source": [
    "import tensorflow as tf\n",
    "import numpy as np\n",
    "import pandas as pd\n",
    "import matplotlib.pyplot as plt\n",
    "import seaborn as sbn\n",
    "from sklearn.model_selection import train_test_split"
   ]
  },
  {
   "cell_type": "code",
   "execution_count": 12,
   "id": "1f725fcf",
   "metadata": {},
   "outputs": [
    {
     "name": "stdout",
     "output_type": "stream",
     "text": [
      "Hello!\n"
     ]
    }
   ],
   "source": [
    "print(\"Hello!\")"
   ]
  },
  {
   "cell_type": "code",
   "execution_count": 20,
   "id": "f73ac370",
   "metadata": {},
   "outputs": [
    {
     "data": {
      "text/html": [
       "<div>\n",
       "<style scoped>\n",
       "    .dataframe tbody tr th:only-of-type {\n",
       "        vertical-align: middle;\n",
       "    }\n",
       "\n",
       "    .dataframe tbody tr th {\n",
       "        vertical-align: top;\n",
       "    }\n",
       "\n",
       "    .dataframe thead th {\n",
       "        text-align: right;\n",
       "    }\n",
       "</style>\n",
       "<table border=\"1\" class=\"dataframe\">\n",
       "  <thead>\n",
       "    <tr style=\"text-align: right;\">\n",
       "      <th></th>\n",
       "      <th>TV</th>\n",
       "      <th>Radio</th>\n",
       "      <th>Newspaper</th>\n",
       "      <th>Sales</th>\n",
       "    </tr>\n",
       "  </thead>\n",
       "  <tbody>\n",
       "    <tr>\n",
       "      <th>0</th>\n",
       "      <td>230.1</td>\n",
       "      <td>37.8</td>\n",
       "      <td>69.2</td>\n",
       "      <td>22.1</td>\n",
       "    </tr>\n",
       "    <tr>\n",
       "      <th>1</th>\n",
       "      <td>44.5</td>\n",
       "      <td>39.3</td>\n",
       "      <td>45.1</td>\n",
       "      <td>10.4</td>\n",
       "    </tr>\n",
       "    <tr>\n",
       "      <th>2</th>\n",
       "      <td>17.2</td>\n",
       "      <td>45.9</td>\n",
       "      <td>69.3</td>\n",
       "      <td>12.0</td>\n",
       "    </tr>\n",
       "    <tr>\n",
       "      <th>3</th>\n",
       "      <td>151.5</td>\n",
       "      <td>41.3</td>\n",
       "      <td>58.5</td>\n",
       "      <td>16.5</td>\n",
       "    </tr>\n",
       "    <tr>\n",
       "      <th>4</th>\n",
       "      <td>180.8</td>\n",
       "      <td>10.8</td>\n",
       "      <td>58.4</td>\n",
       "      <td>17.9</td>\n",
       "    </tr>\n",
       "  </tbody>\n",
       "</table>\n",
       "</div>"
      ],
      "text/plain": [
       "      TV  Radio  Newspaper  Sales\n",
       "0  230.1   37.8       69.2   22.1\n",
       "1   44.5   39.3       45.1   10.4\n",
       "2   17.2   45.9       69.3   12.0\n",
       "3  151.5   41.3       58.5   16.5\n",
       "4  180.8   10.8       58.4   17.9"
      ]
     },
     "execution_count": 20,
     "metadata": {},
     "output_type": "execute_result"
    }
   ],
   "source": [
    "df = pd.read_csv(\"advertising.csv\")\n",
    "df.head(5) # df.tail(5) 뒤에서부터 다섯째 줄 출력"
   ]
  },
  {
   "cell_type": "code",
   "execution_count": 22,
   "id": "fe08b724",
   "metadata": {},
   "outputs": [
    {
     "data": {
      "text/plain": [
       "<seaborn.axisgrid.PairGrid at 0x7f78aa1d4eb0>"
      ]
     },
     "execution_count": 22,
     "metadata": {},
     "output_type": "execute_result"
    },
    {
     "data": {
      "image/png": "[encoded data removed]",
      "text/plain": [
       "<Figure size 1200x400 with 3 Axes>"
      ]
     },
     "metadata": {},
     "output_type": "display_data"
    }
   ],
   "source": [
    "sbn.pairplot(df, x_vars=[\"TV\", \"Radio\", \"Newspaper\"], y_vars=[\"Sales\"], height=4)"
   ]
  },
  {
   "attachments": {},
   "cell_type": "markdown",
   "id": "4e5165f3",
   "metadata": {},
   "source": [
    "### 일변수 선형 회귀"
   ]
  },
  {
   "cell_type": "code",
   "execution_count": 38,
   "id": "5e3d525f",
   "metadata": {},
   "outputs": [
    {
     "data": {
      "text/plain": [
       "((200,), (200,))"
      ]
     },
     "execution_count": 38,
     "metadata": {},
     "output_type": "execute_result"
    }
   ],
   "source": [
    "x_data = np.array(df[\"TV\"], dtype=np.float32)\n",
    "y_data = np.array(df[\"Sales\"], dtype=np.float32)\n",
    "\n",
    "x_data.shape, y_data.shape"
   ]
  },
  {
   "cell_type": "code",
   "execution_count": 39,
   "id": "78a7db7a",
   "metadata": {},
   "outputs": [
    {
     "data": {
      "text/plain": [
       "((200, 1), (200, 1))"
      ]
     },
     "execution_count": 39,
     "metadata": {},
     "output_type": "execute_result"
    }
   ],
   "source": [
    "x_data = x_data.reshape((-1, 1))\n",
    "y_data = y_data.reshape((-1, 1))\n",
    "\n",
    "x_data.shape, y_data.shape"
   ]
  },
  {
   "cell_type": "code",
   "execution_count": 34,
   "id": "5d831c81",
   "metadata": {},
   "outputs": [
    {
     "data": {
      "text/plain": [
       "((160, 1), (40, 1), (160, 1), (40, 1))"
      ]
     },
     "execution_count": 34,
     "metadata": {},
     "output_type": "execute_result"
    }
   ],
   "source": [
    "x_train, x_val, y_train, y_val = train_test_split(x_data, y_data, test_size = 0.2, random_state=7)\n",
    "x_train.shape, x_val.shape, y_train.shape, y_val.shape"
   ]
  },
  {
   "cell_type": "code",
   "execution_count": 35,
   "id": "d1742bf2",
   "metadata": {},
   "outputs": [
    {
     "name": "stderr",
     "output_type": "stream",
     "text": [
      "WARNING:absl:`lr` is deprecated in Keras optimizer, please use `learning_rate` or use the legacy optimizer, e.g.,tf.keras.optimizers.legacy.Adam.\n"
     ]
    },
    {
     "name": "stdout",
     "output_type": "stream",
     "text": [
      "Epoch 1/100\n",
      "5/5 [==============================] - 0s 27ms/step - loss: 73.9541 - mae: 73.9541 - val_loss: 66.4375 - val_mae: 66.4375\n",
      "Epoch 2/100\n",
      "5/5 [==============================] - 0s 5ms/step - loss: 73.2009 - mae: 73.2009 - val_loss: 65.7570 - val_mae: 65.7570\n",
      "Epoch 3/100\n",
      "5/5 [==============================] - 0s 5ms/step - loss: 72.4480 - mae: 72.4480 - val_loss: 65.0778 - val_mae: 65.0778\n",
      "Epoch 4/100\n",
      "5/5 [==============================] - 0s 5ms/step - loss: 71.7032 - mae: 71.7032 - val_loss: 64.3966 - val_mae: 64.3966\n",
      "Epoch 5/100\n",
      "5/5 [==============================] - 0s 6ms/step - loss: 70.9270 - mae: 70.9270 - val_loss: 63.7218 - val_mae: 63.7218\n",
      "Epoch 6/100\n",
      "5/5 [==============================] - 0s 6ms/step - loss: 70.2010 - mae: 70.2010 - val_loss: 63.0389 - val_mae: 63.0389\n",
      "Epoch 7/100\n",
      "5/5 [==============================] - 0s 6ms/step - loss: 69.4431 - mae: 69.4431 - val_loss: 62.3585 - val_mae: 62.3585\n",
      "Epoch 8/100\n",
      "5/5 [==============================] - 0s 5ms/step - loss: 68.6912 - mae: 68.6912 - val_loss: 61.6781 - val_mae: 61.6781\n",
      "Epoch 9/100\n",
      "5/5 [==============================] - 0s 5ms/step - loss: 67.9385 - mae: 67.9385 - val_loss: 60.9980 - val_mae: 60.9980\n",
      "Epoch 10/100\n",
      "5/5 [==============================] - 0s 5ms/step - loss: 67.1993 - mae: 67.1993 - val_loss: 60.3146 - val_mae: 60.3146\n",
      "Epoch 11/100\n",
      "5/5 [==============================] - 0s 6ms/step - loss: 66.4220 - mae: 66.4220 - val_loss: 59.6404 - val_mae: 59.6404\n",
      "Epoch 12/100\n",
      "5/5 [==============================] - 0s 5ms/step - loss: 65.6757 - mae: 65.6757 - val_loss: 58.9637 - val_mae: 58.9637\n",
      "Epoch 13/100\n",
      "5/5 [==============================] - 0s 5ms/step - loss: 64.9344 - mae: 64.9344 - val_loss: 58.2830 - val_mae: 58.2830\n",
      "Epoch 14/100\n",
      "5/5 [==============================] - 0s 5ms/step - loss: 64.1756 - mae: 64.1756 - val_loss: 57.6053 - val_mae: 57.6053\n",
      "Epoch 15/100\n",
      "5/5 [==============================] - 0s 5ms/step - loss: 63.4163 - mae: 63.4163 - val_loss: 56.9306 - val_mae: 56.9306\n",
      "Epoch 16/100\n",
      "5/5 [==============================] - 0s 5ms/step - loss: 62.6784 - mae: 62.6784 - val_loss: 56.2503 - val_mae: 56.2503\n",
      "Epoch 17/100\n",
      "5/5 [==============================] - 0s 5ms/step - loss: 61.9352 - mae: 61.9352 - val_loss: 55.5671 - val_mae: 55.5671\n",
      "Epoch 18/100\n",
      "5/5 [==============================] - 0s 5ms/step - loss: 61.1784 - mae: 61.1784 - val_loss: 54.8866 - val_mae: 54.8866\n",
      "Epoch 19/100\n",
      "5/5 [==============================] - 0s 5ms/step - loss: 60.4011 - mae: 60.4011 - val_loss: 54.2164 - val_mae: 54.2164\n",
      "Epoch 20/100\n",
      "5/5 [==============================] - 0s 5ms/step - loss: 59.6719 - mae: 59.6719 - val_loss: 53.5366 - val_mae: 53.5366\n",
      "Epoch 21/100\n",
      "5/5 [==============================] - 0s 5ms/step - loss: 58.9215 - mae: 58.9215 - val_loss: 52.8564 - val_mae: 52.8564\n",
      "Epoch 22/100\n",
      "5/5 [==============================] - 0s 5ms/step - loss: 58.1711 - mae: 58.1711 - val_loss: 52.1758 - val_mae: 52.1758\n",
      "Epoch 23/100\n",
      "5/5 [==============================] - 0s 5ms/step - loss: 57.3989 - mae: 57.3989 - val_loss: 51.5037 - val_mae: 51.5037\n",
      "Epoch 24/100\n",
      "5/5 [==============================] - 0s 6ms/step - loss: 56.6815 - mae: 56.6815 - val_loss: 50.8174 - val_mae: 50.8174\n",
      "Epoch 25/100\n",
      "5/5 [==============================] - 0s 6ms/step - loss: 55.9074 - mae: 55.9074 - val_loss: 50.1405 - val_mae: 50.1405\n",
      "Epoch 26/100\n",
      "5/5 [==============================] - 0s 5ms/step - loss: 55.1679 - mae: 55.1679 - val_loss: 49.4589 - val_mae: 49.4589\n",
      "Epoch 27/100\n",
      "5/5 [==============================] - 0s 5ms/step - loss: 54.4073 - mae: 54.4073 - val_loss: 48.7811 - val_mae: 48.7811\n",
      "Epoch 28/100\n",
      "5/5 [==============================] - 0s 6ms/step - loss: 53.6747 - mae: 53.6747 - val_loss: 48.0961 - val_mae: 48.0961\n",
      "Epoch 29/100\n",
      "5/5 [==============================] - 0s 6ms/step - loss: 52.9103 - mae: 52.9103 - val_loss: 47.4168 - val_mae: 47.4168\n",
      "Epoch 30/100\n",
      "5/5 [==============================] - 0s 6ms/step - loss: 52.1594 - mae: 52.1594 - val_loss: 46.7377 - val_mae: 46.7377\n",
      "Epoch 31/100\n",
      "5/5 [==============================] - 0s 6ms/step - loss: 51.3978 - mae: 51.3978 - val_loss: 46.0630 - val_mae: 46.0630\n",
      "Epoch 32/100\n",
      "5/5 [==============================] - 0s 5ms/step - loss: 50.6535 - mae: 50.6535 - val_loss: 45.3854 - val_mae: 45.3854\n",
      "Epoch 33/100\n",
      "5/5 [==============================] - 0s 6ms/step - loss: 49.8855 - mae: 49.8855 - val_loss: 44.7148 - val_mae: 44.7148\n",
      "Epoch 34/100\n",
      "5/5 [==============================] - 0s 5ms/step - loss: 49.1585 - mae: 49.1585 - val_loss: 44.0335 - val_mae: 44.0335\n",
      "Epoch 35/100\n",
      "5/5 [==============================] - 0s 6ms/step - loss: 48.4016 - mae: 48.4016 - val_loss: 43.3547 - val_mae: 43.3547\n",
      "Epoch 36/100\n",
      "5/5 [==============================] - 0s 5ms/step - loss: 47.6531 - mae: 47.6531 - val_loss: 42.6746 - val_mae: 42.6746\n",
      "Epoch 37/100\n",
      "5/5 [==============================] - 0s 5ms/step - loss: 46.9013 - mae: 46.9013 - val_loss: 41.9948 - val_mae: 41.9948\n",
      "Epoch 38/100\n",
      "5/5 [==============================] - 0s 5ms/step - loss: 46.1522 - mae: 46.1522 - val_loss: 41.3142 - val_mae: 41.3142\n",
      "Epoch 39/100\n",
      "5/5 [==============================] - 0s 6ms/step - loss: 45.3864 - mae: 45.3864 - val_loss: 40.6398 - val_mae: 40.6398\n",
      "Epoch 40/100\n",
      "5/5 [==============================] - 0s 5ms/step - loss: 44.6548 - mae: 44.6548 - val_loss: 39.9569 - val_mae: 39.9569\n",
      "Epoch 41/100\n",
      "5/5 [==============================] - 0s 5ms/step - loss: 43.8859 - mae: 43.8859 - val_loss: 39.2816 - val_mae: 39.2816\n",
      "Epoch 42/100\n",
      "5/5 [==============================] - 0s 5ms/step - loss: 43.1418 - mae: 43.1418 - val_loss: 38.6030 - val_mae: 38.6030\n",
      "Epoch 43/100\n",
      "5/5 [==============================] - 0s 6ms/step - loss: 42.4125 - mae: 42.4125 - val_loss: 37.9154 - val_mae: 37.9154\n",
      "Epoch 44/100\n",
      "5/5 [==============================] - 0s 5ms/step - loss: 41.6507 - mae: 41.6507 - val_loss: 37.2327 - val_mae: 37.2327\n",
      "Epoch 45/100\n",
      "5/5 [==============================] - 0s 5ms/step - loss: 40.8817 - mae: 40.8817 - val_loss: 36.5576 - val_mae: 36.5576\n",
      "Epoch 46/100\n",
      "5/5 [==============================] - 0s 5ms/step - loss: 40.1250 - mae: 40.1250 - val_loss: 35.8847 - val_mae: 35.8847\n",
      "Epoch 47/100\n",
      "5/5 [==============================] - 0s 5ms/step - loss: 39.3844 - mae: 39.3844 - val_loss: 35.2070 - val_mae: 35.2070\n",
      "Epoch 48/100\n",
      "5/5 [==============================] - 0s 5ms/step - loss: 38.6331 - mae: 38.6331 - val_loss: 34.5291 - val_mae: 34.5291\n",
      "Epoch 49/100\n",
      "5/5 [==============================] - 0s 5ms/step - loss: 37.8823 - mae: 37.8823 - val_loss: 33.8510 - val_mae: 33.8510\n",
      "Epoch 50/100\n",
      "5/5 [==============================] - 0s 5ms/step - loss: 37.1313 - mae: 37.1313 - val_loss: 33.1725 - val_mae: 33.1725\n",
      "Epoch 51/100\n",
      "5/5 [==============================] - 0s 6ms/step - loss: 36.3924 - mae: 36.3924 - val_loss: 32.4888 - val_mae: 32.4888\n",
      "Epoch 52/100\n",
      "5/5 [==============================] - 0s 5ms/step - loss: 35.6316 - mae: 35.6316 - val_loss: 31.8091 - val_mae: 31.8091\n",
      "Epoch 53/100\n",
      "5/5 [==============================] - 0s 6ms/step - loss: 34.8786 - mae: 34.8786 - val_loss: 31.1302 - val_mae: 31.1302\n",
      "Epoch 54/100\n",
      "5/5 [==============================] - 0s 5ms/step - loss: 34.1279 - mae: 34.1279 - val_loss: 30.4509 - val_mae: 30.4509\n",
      "Epoch 55/100\n",
      "5/5 [==============================] - 0s 5ms/step - loss: 33.3671 - mae: 33.3671 - val_loss: 29.7755 - val_mae: 29.7755\n",
      "Epoch 56/100\n",
      "5/5 [==============================] - 0s 5ms/step - loss: 32.6297 - mae: 32.6297 - val_loss: 29.0941 - val_mae: 29.0941\n",
      "Epoch 57/100\n",
      "5/5 [==============================] - 0s 5ms/step - loss: 31.8696 - mae: 31.8696 - val_loss: 28.4163 - val_mae: 28.4163\n",
      "Epoch 58/100\n",
      "5/5 [==============================] - 0s 5ms/step - loss: 31.1190 - mae: 31.1190 - val_loss: 27.7382 - val_mae: 27.7382\n",
      "Epoch 59/100\n",
      "5/5 [==============================] - 0s 5ms/step - loss: 30.3673 - mae: 30.3673 - val_loss: 27.0599 - val_mae: 27.0599\n",
      "Epoch 60/100\n",
      "5/5 [==============================] - 0s 5ms/step - loss: 29.6149 - mae: 29.6149 - val_loss: 26.3820 - val_mae: 26.3820\n",
      "Epoch 61/100\n",
      "5/5 [==============================] - 0s 5ms/step - loss: 28.8765 - mae: 28.8765 - val_loss: 25.6984 - val_mae: 25.6984\n",
      "Epoch 62/100\n"
     ]
    },
    {
     "name": "stdout",
     "output_type": "stream",
     "text": [
      "5/5 [==============================] - 0s 5ms/step - loss: 28.1152 - mae: 28.1152 - val_loss: 25.0191 - val_mae: 25.0191\n",
      "Epoch 63/100\n",
      "5/5 [==============================] - 0s 5ms/step - loss: 27.3610 - mae: 27.3610 - val_loss: 24.3410 - val_mae: 24.3410\n",
      "Epoch 64/100\n",
      "5/5 [==============================] - 0s 5ms/step - loss: 26.6055 - mae: 26.6055 - val_loss: 23.6645 - val_mae: 23.6645\n",
      "Epoch 65/100\n",
      "5/5 [==============================] - 0s 5ms/step - loss: 25.8662 - mae: 25.8662 - val_loss: 22.9826 - val_mae: 22.9826\n",
      "Epoch 66/100\n",
      "5/5 [==============================] - 0s 5ms/step - loss: 25.1077 - mae: 25.1077 - val_loss: 22.3037 - val_mae: 22.3037\n",
      "Epoch 67/100\n",
      "5/5 [==============================] - 0s 5ms/step - loss: 24.3783 - mae: 24.3783 - val_loss: 21.6156 - val_mae: 21.6156\n",
      "Epoch 68/100\n",
      "5/5 [==============================] - 0s 5ms/step - loss: 23.6014 - mae: 23.6014 - val_loss: 20.9384 - val_mae: 20.9384\n",
      "Epoch 69/100\n",
      "5/5 [==============================] - 0s 5ms/step - loss: 22.8466 - mae: 22.8466 - val_loss: 20.2625 - val_mae: 20.2625\n",
      "Epoch 70/100\n",
      "5/5 [==============================] - 0s 5ms/step - loss: 22.1063 - mae: 22.1063 - val_loss: 19.5818 - val_mae: 19.5818\n",
      "Epoch 71/100\n",
      "5/5 [==============================] - 0s 5ms/step - loss: 21.3627 - mae: 21.3627 - val_loss: 18.8977 - val_mae: 18.8977\n",
      "Epoch 72/100\n",
      "5/5 [==============================] - 0s 5ms/step - loss: 20.5852 - mae: 20.5852 - val_loss: 18.2249 - val_mae: 18.2249\n",
      "Epoch 73/100\n",
      "5/5 [==============================] - 0s 5ms/step - loss: 19.8361 - mae: 19.8361 - val_loss: 17.5508 - val_mae: 17.5508\n",
      "Epoch 74/100\n",
      "5/5 [==============================] - 0s 5ms/step - loss: 19.0987 - mae: 19.0987 - val_loss: 16.8704 - val_mae: 16.8704\n",
      "Epoch 75/100\n",
      "5/5 [==============================] - 0s 5ms/step - loss: 18.3390 - mae: 18.3390 - val_loss: 16.1935 - val_mae: 16.1935\n",
      "Epoch 76/100\n",
      "5/5 [==============================] - 0s 5ms/step - loss: 17.5892 - mae: 17.5892 - val_loss: 15.5157 - val_mae: 15.5157\n",
      "Epoch 77/100\n",
      "5/5 [==============================] - 0s 5ms/step - loss: 16.8509 - mae: 16.8509 - val_loss: 14.8319 - val_mae: 14.8319\n",
      "Epoch 78/100\n",
      "5/5 [==============================] - 0s 5ms/step - loss: 16.0929 - mae: 16.0929 - val_loss: 14.1510 - val_mae: 14.1510\n",
      "Epoch 79/100\n",
      "5/5 [==============================] - 0s 5ms/step - loss: 15.3312 - mae: 15.3312 - val_loss: 13.4744 - val_mae: 13.4744\n",
      "Epoch 80/100\n",
      "5/5 [==============================] - 0s 5ms/step - loss: 14.5888 - mae: 14.5888 - val_loss: 12.7937 - val_mae: 12.7937\n",
      "Epoch 81/100\n",
      "5/5 [==============================] - 0s 5ms/step - loss: 13.8299 - mae: 13.8299 - val_loss: 12.1160 - val_mae: 12.1160\n",
      "Epoch 82/100\n",
      "5/5 [==============================] - 0s 5ms/step - loss: 13.0944 - mae: 13.0944 - val_loss: 11.4312 - val_mae: 11.4312\n",
      "Epoch 83/100\n",
      "5/5 [==============================] - 0s 5ms/step - loss: 12.3280 - mae: 12.3280 - val_loss: 10.7531 - val_mae: 10.7531\n",
      "Epoch 84/100\n",
      "5/5 [==============================] - 0s 5ms/step - loss: 11.5762 - mae: 11.5762 - val_loss: 10.0750 - val_mae: 10.0750\n",
      "Epoch 85/100\n",
      "5/5 [==============================] - 0s 5ms/step - loss: 10.8218 - mae: 10.8218 - val_loss: 9.3979 - val_mae: 9.3979\n",
      "Epoch 86/100\n",
      "5/5 [==============================] - 0s 5ms/step - loss: 10.0767 - mae: 10.0767 - val_loss: 8.7179 - val_mae: 8.7179\n",
      "Epoch 87/100\n",
      "5/5 [==============================] - 0s 5ms/step - loss: 9.3147 - mae: 9.3147 - val_loss: 8.0424 - val_mae: 8.0424\n",
      "Epoch 88/100\n",
      "5/5 [==============================] - 0s 5ms/step - loss: 8.5643 - mae: 8.5643 - val_loss: 7.3662 - val_mae: 7.3662\n",
      "Epoch 89/100\n",
      "5/5 [==============================] - 0s 5ms/step - loss: 7.8357 - mae: 7.8357 - val_loss: 6.6798 - val_mae: 6.6798\n",
      "Epoch 90/100\n",
      "5/5 [==============================] - 0s 5ms/step - loss: 7.0487 - mae: 7.0487 - val_loss: 6.0090 - val_mae: 6.0090\n",
      "Epoch 91/100\n",
      "5/5 [==============================] - 0s 5ms/step - loss: 6.3273 - mae: 6.3273 - val_loss: 5.3530 - val_mae: 5.3530\n",
      "Epoch 92/100\n",
      "5/5 [==============================] - 0s 5ms/step - loss: 5.6107 - mae: 5.6107 - val_loss: 4.7575 - val_mae: 4.7575\n",
      "Epoch 93/100\n",
      "5/5 [==============================] - 0s 5ms/step - loss: 4.9547 - mae: 4.9547 - val_loss: 4.2083 - val_mae: 4.2083\n",
      "Epoch 94/100\n",
      "5/5 [==============================] - 0s 5ms/step - loss: 4.4227 - mae: 4.4227 - val_loss: 3.8070 - val_mae: 3.8070\n",
      "Epoch 95/100\n",
      "5/5 [==============================] - 0s 5ms/step - loss: 4.0191 - mae: 4.0191 - val_loss: 3.5188 - val_mae: 3.5188\n",
      "Epoch 96/100\n",
      "5/5 [==============================] - 0s 5ms/step - loss: 3.7687 - mae: 3.7687 - val_loss: 3.3871 - val_mae: 3.3871\n",
      "Epoch 97/100\n",
      "5/5 [==============================] - 0s 5ms/step - loss: 3.5921 - mae: 3.5921 - val_loss: 3.3351 - val_mae: 3.3351\n",
      "Epoch 98/100\n",
      "5/5 [==============================] - 0s 5ms/step - loss: 3.4599 - mae: 3.4599 - val_loss: 3.3338 - val_mae: 3.3338\n",
      "Epoch 99/100\n",
      "5/5 [==============================] - 0s 5ms/step - loss: 3.4127 - mae: 3.4127 - val_loss: 3.3328 - val_mae: 3.3328\n",
      "Epoch 100/100\n",
      "5/5 [==============================] - 0s 5ms/step - loss: 3.3791 - mae: 3.3791 - val_loss: 3.3319 - val_mae: 3.3319\n"
     ]
    },
    {
     "data": {
      "text/plain": [
       "<keras.callbacks.History at 0x7f78a7a5b580>"
      ]
     },
     "execution_count": 35,
     "metadata": {},
     "output_type": "execute_result"
    }
   ],
   "source": [
    "model = tf.keras.Sequential()\n",
    "model.add(tf.keras.layers.Dense(1))\n",
    "\n",
    "model.compile(loss=tf.keras.losses.mae,\n",
    "             optimizer=tf.keras.optimizers.Adam(learning_rate=0.1),\n",
    "             metrics=[\"mae\"])\n",
    "\n",
    "model.fit(x_train, y_train,\n",
    "          validation_data=(x_val, y_val),\n",
    "          epochs=100)"
   ]
  },
  {
   "cell_type": "code",
   "execution_count": 37,
   "id": "cf9b20f5",
   "metadata": {},
   "outputs": [
    {
     "name": "stdout",
     "output_type": "stream",
     "text": [
      "2/2 [==============================] - 0s 2ms/step\n"
     ]
    },
    {
     "data": {
      "text/plain": [
       "<matplotlib.legend.Legend at 0x7f78aa42f400>"
      ]
     },
     "execution_count": 37,
     "metadata": {},
     "output_type": "execute_result"
    },
    {
     "data": {
      "image/png": "[encoded data removed]",
      "text/plain": [
       "<Figure size 640x480 with 1 Axes>"
      ]
     },
     "metadata": {},
     "output_type": "display_data"
    }
   ],
   "source": [
    "y_pred = model.predict(x_val)\n",
    "plt.scatter(x_val, y_val, color=\"g\", label=\"Validation\")\n",
    "plt.scatter(x_val, y_pred, color=\"r\", label=\"Predictions\")\n",
    "plt.legend()"
   ]
  },
  {
   "attachments": {},
   "cell_type": "markdown",
   "id": "0af5d5f1",
   "metadata": {},
   "source": [
    "### 다변수 선형 회귀"
   ]
  },
  {
   "cell_type": "code",
   "execution_count": 58,
   "id": "f28627e6",
   "metadata": {},
   "outputs": [
    {
     "data": {
      "text/plain": [
       "((200, 3), (200, 1))"
      ]
     },
     "execution_count": 58,
     "metadata": {},
     "output_type": "execute_result"
    }
   ],
   "source": [
    "x_data = np.array(df[[\"TV\", \"Newspaper\", \"Radio\"]], dtype=np.float32)\n",
    "y_data = np.array(df[\"Sales\"], dtype=np.float32)\n",
    "\n",
    "y_data = y_data.reshape((-1,1))\n",
    "x_data.shape, y_data.shape\n"
   ]
  },
  {
   "cell_type": "code",
   "execution_count": 51,
   "id": "68712203",
   "metadata": {},
   "outputs": [
    {
     "data": {
      "text/plain": [
       "((160, 3), (40, 3), (160, 1), (40, 1))"
      ]
     },
     "execution_count": 51,
     "metadata": {},
     "output_type": "execute_result"
    }
   ],
   "source": [
    "x_train, x_val, y_train, y_val = train_test_split(x_data, y_data, test_size=0.2, random_state=7)\n",
    "\n",
    "x_train.shape, x_val.shape, y_train.shape, y_val.shape"
   ]
  },
  {
   "cell_type": "code",
   "execution_count": 55,
   "id": "bc36b7a5",
   "metadata": {},
   "outputs": [
    {
     "name": "stdout",
     "output_type": "stream",
     "text": [
      "Epoch 1/100\n",
      "5/5 [==============================] - 0s 17ms/step - loss: 8773.4150 - mse: 8773.4150 - val_loss: 1645.1416 - val_mse: 1645.1416\n",
      "Epoch 2/100\n",
      "5/5 [==============================] - 0s 5ms/step - loss: 793.9095 - mse: 793.9095 - val_loss: 712.4238 - val_mse: 712.4238\n",
      "Epoch 3/100\n",
      "5/5 [==============================] - 0s 5ms/step - loss: 1336.8513 - mse: 1336.8513 - val_loss: 1678.2083 - val_mse: 1678.2083\n",
      "Epoch 4/100\n",
      "5/5 [==============================] - 0s 5ms/step - loss: 1446.5281 - mse: 1446.5281 - val_loss: 650.3400 - val_mse: 650.3400\n",
      "Epoch 5/100\n",
      "5/5 [==============================] - 0s 5ms/step - loss: 336.3834 - mse: 336.3834 - val_loss: 110.2064 - val_mse: 110.2064\n",
      "Epoch 6/100\n",
      "5/5 [==============================] - 0s 5ms/step - loss: 206.9377 - mse: 206.9377 - val_loss: 311.6972 - val_mse: 311.6972\n",
      "Epoch 7/100\n",
      "5/5 [==============================] - 0s 5ms/step - loss: 336.9130 - mse: 336.9130 - val_loss: 183.2592 - val_mse: 183.2592\n",
      "Epoch 8/100\n",
      "5/5 [==============================] - 0s 5ms/step - loss: 104.2037 - mse: 104.2037 - val_loss: 24.8654 - val_mse: 24.8654\n",
      "Epoch 9/100\n",
      "5/5 [==============================] - 0s 5ms/step - loss: 39.3848 - mse: 39.3848 - val_loss: 77.7596 - val_mse: 77.7596\n",
      "Epoch 10/100\n",
      "5/5 [==============================] - 0s 5ms/step - loss: 76.9293 - mse: 76.9293 - val_loss: 44.7497 - val_mse: 44.7497\n",
      "Epoch 11/100\n",
      "5/5 [==============================] - 0s 5ms/step - loss: 20.8441 - mse: 20.8441 - val_loss: 6.3814 - val_mse: 6.3814\n",
      "Epoch 12/100\n",
      "5/5 [==============================] - 0s 5ms/step - loss: 14.1016 - mse: 14.1016 - val_loss: 18.2662 - val_mse: 18.2662\n",
      "Epoch 13/100\n",
      "5/5 [==============================] - 0s 5ms/step - loss: 18.8873 - mse: 18.8873 - val_loss: 7.8939 - val_mse: 7.8939\n",
      "Epoch 14/100\n",
      "5/5 [==============================] - 0s 5ms/step - loss: 6.9366 - mse: 6.9366 - val_loss: 6.8165 - val_mse: 6.8165\n",
      "Epoch 15/100\n",
      "5/5 [==============================] - 0s 5ms/step - loss: 8.9103 - mse: 8.9103 - val_loss: 8.9146 - val_mse: 8.9146\n",
      "Epoch 16/100\n",
      "5/5 [==============================] - 0s 5ms/step - loss: 7.3466 - mse: 7.3466 - val_loss: 4.9141 - val_mse: 4.9141\n",
      "Epoch 17/100\n",
      "5/5 [==============================] - 0s 5ms/step - loss: 5.6223 - mse: 5.6223 - val_loss: 5.1967 - val_mse: 5.1967\n",
      "Epoch 18/100\n",
      "5/5 [==============================] - 0s 5ms/step - loss: 6.2230 - mse: 6.2230 - val_loss: 4.6911 - val_mse: 4.6911\n",
      "Epoch 19/100\n",
      "5/5 [==============================] - 0s 5ms/step - loss: 5.3063 - mse: 5.3063 - val_loss: 4.7994 - val_mse: 4.7994\n",
      "Epoch 20/100\n",
      "5/5 [==============================] - 0s 5ms/step - loss: 5.3057 - mse: 5.3057 - val_loss: 4.8448 - val_mse: 4.8448\n",
      "Epoch 21/100\n",
      "5/5 [==============================] - 0s 5ms/step - loss: 5.1226 - mse: 5.1226 - val_loss: 4.4690 - val_mse: 4.4690\n",
      "Epoch 22/100\n",
      "5/5 [==============================] - 0s 5ms/step - loss: 5.0027 - mse: 5.0027 - val_loss: 4.3994 - val_mse: 4.3994\n",
      "Epoch 23/100\n",
      "5/5 [==============================] - 0s 5ms/step - loss: 5.0677 - mse: 5.0677 - val_loss: 4.3654 - val_mse: 4.3654\n",
      "Epoch 24/100\n",
      "5/5 [==============================] - 0s 5ms/step - loss: 4.9698 - mse: 4.9698 - val_loss: 4.4650 - val_mse: 4.4650\n",
      "Epoch 25/100\n",
      "5/5 [==============================] - 0s 5ms/step - loss: 4.9733 - mse: 4.9733 - val_loss: 4.4186 - val_mse: 4.4186\n",
      "Epoch 26/100\n",
      "5/5 [==============================] - 0s 5ms/step - loss: 4.9124 - mse: 4.9124 - val_loss: 4.2945 - val_mse: 4.2945\n",
      "Epoch 27/100\n",
      "5/5 [==============================] - 0s 5ms/step - loss: 4.9236 - mse: 4.9236 - val_loss: 4.2833 - val_mse: 4.2833\n",
      "Epoch 28/100\n",
      "5/5 [==============================] - 0s 5ms/step - loss: 4.8999 - mse: 4.8999 - val_loss: 4.2466 - val_mse: 4.2466\n",
      "Epoch 29/100\n",
      "5/5 [==============================] - 0s 5ms/step - loss: 4.9061 - mse: 4.9061 - val_loss: 4.3171 - val_mse: 4.3171\n",
      "Epoch 30/100\n",
      "5/5 [==============================] - 0s 10ms/step - loss: 4.8864 - mse: 4.8864 - val_loss: 4.1945 - val_mse: 4.1945\n",
      "Epoch 31/100\n",
      "5/5 [==============================] - 0s 6ms/step - loss: 4.8455 - mse: 4.8455 - val_loss: 4.1851 - val_mse: 4.1851\n",
      "Epoch 32/100\n",
      "5/5 [==============================] - 0s 5ms/step - loss: 4.8868 - mse: 4.8868 - val_loss: 4.1332 - val_mse: 4.1332\n",
      "Epoch 33/100\n",
      "5/5 [==============================] - 0s 5ms/step - loss: 4.8235 - mse: 4.8235 - val_loss: 4.1739 - val_mse: 4.1739\n",
      "Epoch 34/100\n",
      "5/5 [==============================] - 0s 5ms/step - loss: 4.8184 - mse: 4.8184 - val_loss: 4.1684 - val_mse: 4.1684\n",
      "Epoch 35/100\n",
      "5/5 [==============================] - 0s 5ms/step - loss: 4.7995 - mse: 4.7995 - val_loss: 4.1196 - val_mse: 4.1196\n",
      "Epoch 36/100\n",
      "5/5 [==============================] - 0s 5ms/step - loss: 4.8027 - mse: 4.8027 - val_loss: 4.0851 - val_mse: 4.0851\n",
      "Epoch 37/100\n",
      "5/5 [==============================] - 0s 5ms/step - loss: 4.7896 - mse: 4.7896 - val_loss: 4.1059 - val_mse: 4.1059\n",
      "Epoch 38/100\n",
      "5/5 [==============================] - 0s 5ms/step - loss: 4.7651 - mse: 4.7651 - val_loss: 4.0904 - val_mse: 4.0904\n",
      "Epoch 39/100\n",
      "5/5 [==============================] - 0s 5ms/step - loss: 4.7626 - mse: 4.7626 - val_loss: 4.0710 - val_mse: 4.0710\n",
      "Epoch 40/100\n",
      "5/5 [==============================] - 0s 5ms/step - loss: 4.7373 - mse: 4.7373 - val_loss: 4.0268 - val_mse: 4.0268\n",
      "Epoch 41/100\n",
      "5/5 [==============================] - 0s 5ms/step - loss: 4.7269 - mse: 4.7269 - val_loss: 4.0205 - val_mse: 4.0205\n",
      "Epoch 42/100\n",
      "5/5 [==============================] - 0s 5ms/step - loss: 4.7278 - mse: 4.7278 - val_loss: 4.0579 - val_mse: 4.0579\n",
      "Epoch 43/100\n",
      "5/5 [==============================] - 0s 5ms/step - loss: 4.7307 - mse: 4.7307 - val_loss: 3.9824 - val_mse: 3.9824\n",
      "Epoch 44/100\n",
      "5/5 [==============================] - 0s 5ms/step - loss: 4.6988 - mse: 4.6988 - val_loss: 3.9833 - val_mse: 3.9833\n",
      "Epoch 45/100\n",
      "5/5 [==============================] - 0s 5ms/step - loss: 4.6993 - mse: 4.6993 - val_loss: 4.0584 - val_mse: 4.0584\n",
      "Epoch 46/100\n",
      "5/5 [==============================] - 0s 5ms/step - loss: 4.6642 - mse: 4.6642 - val_loss: 3.9651 - val_mse: 3.9651\n",
      "Epoch 47/100\n",
      "5/5 [==============================] - 0s 5ms/step - loss: 4.6439 - mse: 4.6439 - val_loss: 3.9271 - val_mse: 3.9271\n",
      "Epoch 48/100\n",
      "5/5 [==============================] - 0s 5ms/step - loss: 4.6649 - mse: 4.6649 - val_loss: 3.8890 - val_mse: 3.8890\n",
      "Epoch 49/100\n",
      "5/5 [==============================] - 0s 5ms/step - loss: 4.6623 - mse: 4.6623 - val_loss: 3.9795 - val_mse: 3.9795\n",
      "Epoch 50/100\n",
      "5/5 [==============================] - 0s 5ms/step - loss: 4.6267 - mse: 4.6267 - val_loss: 3.9040 - val_mse: 3.9040\n",
      "Epoch 51/100\n",
      "5/5 [==============================] - 0s 5ms/step - loss: 4.5995 - mse: 4.5995 - val_loss: 3.8324 - val_mse: 3.8324\n",
      "Epoch 52/100\n",
      "5/5 [==============================] - 0s 5ms/step - loss: 4.6105 - mse: 4.6105 - val_loss: 3.8565 - val_mse: 3.8565\n",
      "Epoch 53/100\n",
      "5/5 [==============================] - 0s 5ms/step - loss: 4.6118 - mse: 4.6118 - val_loss: 3.9607 - val_mse: 3.9607\n",
      "Epoch 54/100\n",
      "5/5 [==============================] - 0s 5ms/step - loss: 4.5728 - mse: 4.5728 - val_loss: 3.8150 - val_mse: 3.8150\n",
      "Epoch 55/100\n",
      "5/5 [==============================] - 0s 5ms/step - loss: 4.6063 - mse: 4.6063 - val_loss: 3.7978 - val_mse: 3.7978\n",
      "Epoch 56/100\n",
      "5/5 [==============================] - 0s 5ms/step - loss: 4.5504 - mse: 4.5504 - val_loss: 3.9007 - val_mse: 3.9007\n",
      "Epoch 57/100\n",
      "5/5 [==============================] - 0s 5ms/step - loss: 4.5323 - mse: 4.5323 - val_loss: 3.7864 - val_mse: 3.7864\n",
      "Epoch 58/100\n",
      "5/5 [==============================] - 0s 5ms/step - loss: 4.4940 - mse: 4.4940 - val_loss: 3.7459 - val_mse: 3.7459\n",
      "Epoch 59/100\n",
      "5/5 [==============================] - 0s 5ms/step - loss: 4.5586 - mse: 4.5586 - val_loss: 3.7052 - val_mse: 3.7052\n",
      "Epoch 60/100\n",
      "5/5 [==============================] - 0s 5ms/step - loss: 4.5119 - mse: 4.5119 - val_loss: 3.8517 - val_mse: 3.8517\n",
      "Epoch 61/100\n",
      "5/5 [==============================] - 0s 5ms/step - loss: 4.4934 - mse: 4.4934 - val_loss: 3.7135 - val_mse: 3.7135\n",
      "Epoch 62/100\n",
      "5/5 [==============================] - 0s 5ms/step - loss: 4.4515 - mse: 4.4515 - val_loss: 3.6680 - val_mse: 3.6680\n",
      "Epoch 63/100\n"
     ]
    },
    {
     "name": "stdout",
     "output_type": "stream",
     "text": [
      "5/5 [==============================] - 0s 5ms/step - loss: 4.4812 - mse: 4.4812 - val_loss: 3.7346 - val_mse: 3.7346\n",
      "Epoch 64/100\n",
      "5/5 [==============================] - 0s 5ms/step - loss: 4.4293 - mse: 4.4293 - val_loss: 3.6732 - val_mse: 3.6732\n",
      "Epoch 65/100\n",
      "5/5 [==============================] - 0s 5ms/step - loss: 4.4225 - mse: 4.4225 - val_loss: 3.6323 - val_mse: 3.6323\n",
      "Epoch 66/100\n",
      "5/5 [==============================] - 0s 5ms/step - loss: 4.3959 - mse: 4.3959 - val_loss: 3.6559 - val_mse: 3.6559\n",
      "Epoch 67/100\n",
      "5/5 [==============================] - 0s 5ms/step - loss: 4.4329 - mse: 4.4329 - val_loss: 3.7096 - val_mse: 3.7096\n",
      "Epoch 68/100\n",
      "5/5 [==============================] - 0s 5ms/step - loss: 4.3995 - mse: 4.3995 - val_loss: 3.5774 - val_mse: 3.5774\n",
      "Epoch 69/100\n",
      "5/5 [==============================] - 0s 5ms/step - loss: 4.3961 - mse: 4.3961 - val_loss: 3.6042 - val_mse: 3.6042\n",
      "Epoch 70/100\n",
      "5/5 [==============================] - 0s 5ms/step - loss: 4.3453 - mse: 4.3453 - val_loss: 3.5856 - val_mse: 3.5856\n",
      "Epoch 71/100\n",
      "5/5 [==============================] - 0s 5ms/step - loss: 4.3436 - mse: 4.3436 - val_loss: 3.5679 - val_mse: 3.5679\n",
      "Epoch 72/100\n",
      "5/5 [==============================] - 0s 5ms/step - loss: 4.3229 - mse: 4.3229 - val_loss: 3.5116 - val_mse: 3.5116\n",
      "Epoch 73/100\n",
      "5/5 [==============================] - 0s 5ms/step - loss: 4.3160 - mse: 4.3160 - val_loss: 3.5483 - val_mse: 3.5483\n",
      "Epoch 74/100\n",
      "5/5 [==============================] - 0s 5ms/step - loss: 4.2979 - mse: 4.2979 - val_loss: 3.5143 - val_mse: 3.5143\n",
      "Epoch 75/100\n",
      "5/5 [==============================] - 0s 5ms/step - loss: 4.3057 - mse: 4.3057 - val_loss: 3.4851 - val_mse: 3.4851\n",
      "Epoch 76/100\n",
      "5/5 [==============================] - 0s 5ms/step - loss: 4.2783 - mse: 4.2783 - val_loss: 3.5373 - val_mse: 3.5373\n",
      "Epoch 77/100\n",
      "5/5 [==============================] - 0s 5ms/step - loss: 4.2629 - mse: 4.2629 - val_loss: 3.4935 - val_mse: 3.4935\n",
      "Epoch 78/100\n",
      "5/5 [==============================] - 0s 5ms/step - loss: 4.2335 - mse: 4.2335 - val_loss: 3.4251 - val_mse: 3.4251\n",
      "Epoch 79/100\n",
      "5/5 [==============================] - 0s 5ms/step - loss: 4.2530 - mse: 4.2530 - val_loss: 3.4067 - val_mse: 3.4067\n",
      "Epoch 80/100\n",
      "5/5 [==============================] - 0s 5ms/step - loss: 4.2952 - mse: 4.2952 - val_loss: 3.4964 - val_mse: 3.4964\n",
      "Epoch 81/100\n",
      "5/5 [==============================] - 0s 5ms/step - loss: 4.2031 - mse: 4.2031 - val_loss: 3.3775 - val_mse: 3.3775\n",
      "Epoch 82/100\n",
      "5/5 [==============================] - 0s 5ms/step - loss: 4.1941 - mse: 4.1941 - val_loss: 3.3509 - val_mse: 3.3509\n",
      "Epoch 83/100\n",
      "5/5 [==============================] - 0s 5ms/step - loss: 4.1707 - mse: 4.1707 - val_loss: 3.4117 - val_mse: 3.4117\n",
      "Epoch 84/100\n",
      "5/5 [==============================] - 0s 5ms/step - loss: 4.1656 - mse: 4.1656 - val_loss: 3.3680 - val_mse: 3.3680\n",
      "Epoch 85/100\n",
      "5/5 [==============================] - 0s 5ms/step - loss: 4.1834 - mse: 4.1834 - val_loss: 3.3292 - val_mse: 3.3292\n",
      "Epoch 86/100\n",
      "5/5 [==============================] - 0s 5ms/step - loss: 4.1366 - mse: 4.1366 - val_loss: 3.3577 - val_mse: 3.3577\n",
      "Epoch 87/100\n",
      "5/5 [==============================] - 0s 5ms/step - loss: 4.1805 - mse: 4.1805 - val_loss: 3.3022 - val_mse: 3.3022\n",
      "Epoch 88/100\n",
      "5/5 [==============================] - 0s 5ms/step - loss: 4.0995 - mse: 4.0995 - val_loss: 3.4218 - val_mse: 3.4218\n",
      "Epoch 89/100\n",
      "5/5 [==============================] - 0s 5ms/step - loss: 4.1255 - mse: 4.1255 - val_loss: 3.3076 - val_mse: 3.3076\n",
      "Epoch 90/100\n",
      "5/5 [==============================] - 0s 5ms/step - loss: 4.0822 - mse: 4.0822 - val_loss: 3.2490 - val_mse: 3.2490\n",
      "Epoch 91/100\n",
      "5/5 [==============================] - 0s 5ms/step - loss: 4.0784 - mse: 4.0784 - val_loss: 3.2636 - val_mse: 3.2636\n",
      "Epoch 92/100\n",
      "5/5 [==============================] - 0s 5ms/step - loss: 4.0950 - mse: 4.0950 - val_loss: 3.2771 - val_mse: 3.2771\n",
      "Epoch 93/100\n",
      "5/5 [==============================] - 0s 5ms/step - loss: 4.0489 - mse: 4.0489 - val_loss: 3.1905 - val_mse: 3.1905\n",
      "Epoch 94/100\n",
      "5/5 [==============================] - 0s 5ms/step - loss: 4.0479 - mse: 4.0479 - val_loss: 3.1836 - val_mse: 3.1836\n",
      "Epoch 95/100\n",
      "5/5 [==============================] - 0s 5ms/step - loss: 4.0344 - mse: 4.0344 - val_loss: 3.1946 - val_mse: 3.1946\n",
      "Epoch 96/100\n",
      "5/5 [==============================] - 0s 5ms/step - loss: 4.0335 - mse: 4.0335 - val_loss: 3.2577 - val_mse: 3.2577\n",
      "Epoch 97/100\n",
      "5/5 [==============================] - 0s 6ms/step - loss: 4.1038 - mse: 4.1038 - val_loss: 3.1149 - val_mse: 3.1149\n",
      "Epoch 98/100\n",
      "5/5 [==============================] - 0s 5ms/step - loss: 4.0041 - mse: 4.0041 - val_loss: 3.2796 - val_mse: 3.2796\n",
      "Epoch 99/100\n",
      "5/5 [==============================] - 0s 5ms/step - loss: 4.0613 - mse: 4.0613 - val_loss: 3.0882 - val_mse: 3.0882\n",
      "Epoch 100/100\n",
      "5/5 [==============================] - 0s 5ms/step - loss: 3.9531 - mse: 3.9531 - val_loss: 3.1618 - val_mse: 3.1618\n"
     ]
    },
    {
     "data": {
      "text/plain": [
       "<keras.callbacks.History at 0x7f78a429aec0>"
      ]
     },
     "execution_count": 55,
     "metadata": {},
     "output_type": "execute_result"
    }
   ],
   "source": [
    "model = tf.keras.Sequential()\n",
    "model.add(tf.keras.layers.Dense(1))\n",
    "\n",
    "model.compile(loss = tf.keras.losses.mse,\n",
    "             optimizer=tf.keras.optimizers.Adam(learning_rate=0.075),\n",
    "             metrics=[\"mse\"])\n",
    "\n",
    "model.fit(x_train, y_train,\n",
    "          validation_data=(x_val, y_val),\n",
    "          epochs=100)"
   ]
  },
  {
   "cell_type": "code",
   "execution_count": 56,
   "id": "7a12e75c",
   "metadata": {},
   "outputs": [
    {
     "name": "stdout",
     "output_type": "stream",
     "text": [
      "2/2 [==============================] - 0s 2ms/step\n"
     ]
    },
    {
     "data": {
      "text/plain": [
       "(40, 1)"
      ]
     },
     "execution_count": 56,
     "metadata": {},
     "output_type": "execute_result"
    }
   ],
   "source": [
    "y_pred = model.predict(x_val)\n",
    "y_pred.shape"
   ]
  },
  {
   "cell_type": "code",
   "execution_count": 64,
   "id": "d424d78f",
   "metadata": {},
   "outputs": [
    {
     "data": {
      "text/plain": [
       "<matplotlib.legend.Legend at 0x7f78a41460b0>"
      ]
     },
     "execution_count": 64,
     "metadata": {},
     "output_type": "execute_result"
    },
    {
     "data": {
      "image/png": "[encoded data removed]",
      "text/plain": [
       "<Figure size 640x480 with 1 Axes>"
      ]
     },
     "metadata": {},
     "output_type": "display_data"
    }
   ],
   "source": [
    "plt.scatter(x_val[:, 0], y_val, color=\"g\", label=\"TV Validation\")\n",
    "plt.scatter(x_val[:, 0], y_pred, color=\"r\", label=\"TV Predictions\")\n",
    "plt.legend()"
   ]
  },
  {
   "cell_type": "code",
   "execution_count": 66,
   "id": "5b5251d6",
   "metadata": {},
   "outputs": [
    {
     "data": {
      "text/plain": [
       "<matplotlib.legend.Legend at 0x7f78a403c640>"
      ]
     },
     "execution_count": 66,
     "metadata": {},
     "output_type": "execute_result"
    },
    {
     "data": {
      "image/png": "[encoded data removed]",
      "text/plain": [
       "<Figure size 640x480 with 1 Axes>"
      ]
     },
     "metadata": {},
     "output_type": "display_data"
    }
   ],
   "source": [
    "plt.scatter(x_val[:, 1], y_val, color=\"g\", label=\"Radio Validation\")\n",
    "plt.scatter(x_val[:, 1], y_pred, color=\"r\", label=\"Radio Predictions\")\n",
    "plt.legend()"
   ]
  },
  {
   "cell_type": "code",
   "execution_count": 68,
   "id": "7c185c16",
   "metadata": {},
   "outputs": [
    {
     "data": {
      "text/plain": [
       "<matplotlib.legend.Legend at 0x7f789c74ef20>"
      ]
     },
     "execution_count": 68,
     "metadata": {},
     "output_type": "execute_result"
    },
    {
     "data": {
      "image/png": "[encoded data removed]",
      "text/plain": [
       "<Figure size 640x480 with 1 Axes>"
      ]
     },
     "metadata": {},
     "output_type": "display_data"
    }
   ],
   "source": [
    "plt.scatter(x_val[:, 2], y_val, color=\"g\", label=\"Newspaper Validation\")\n",
    "plt.scatter(x_val[:, 2], y_pred, color=\"r\", label=\"Newspaper Predictions\")\n",
    "plt.legend()"
   ]
  },
  {
   "attachments": {},
   "cell_type": "markdown",
   "id": "1d54032c",
   "metadata": {},
   "source": [
    "### 🛠️ 연습\n",
    "##### 연차로부터 연봉을 예측하는 선형 회귀 모델을 만들어보자.\n",
    "\n",
    "Learning rate, optimizer, loss function을 바꿔서 실험해보자."
   ]
  },
  {
   "cell_type": "code",
   "execution_count": 69,
   "id": "51038e16",
   "metadata": {},
   "outputs": [
    {
     "name": "stdout",
     "output_type": "stream",
     "text": [
      "Downloading salary.zip to /home/recona97/here/ml\r\n",
      "\r\n",
      "  0%|                                                 | 0.00/392 [00:00<?, ?B/s]\r\n",
      "\r\n",
      "100%|██████████████████████████████████████████| 392/392 [00:00<00:00, 2.12MB/s]\r\n"
     ]
    }
   ],
   "source": [
    "!kaggle datasets download -d rsadiq/salary"
   ]
  },
  {
   "cell_type": "code",
   "execution_count": 70,
   "id": "c12438f2",
   "metadata": {},
   "outputs": [
    {
     "name": "stdout",
     "output_type": "stream",
     "text": [
      "Archive:  salary.zip\r\n",
      "  inflating: Salary.csv              \r\n"
     ]
    }
   ],
   "source": [
    "!unzip salary.zip"
   ]
  },
  {
   "cell_type": "code",
   "execution_count": 72,
   "id": "ce5481d9",
   "metadata": {},
   "outputs": [
    {
     "data": {
      "text/html": [
       "<div>\n",
       "<style scoped>\n",
       "    .dataframe tbody tr th:only-of-type {\n",
       "        vertical-align: middle;\n",
       "    }\n",
       "\n",
       "    .dataframe tbody tr th {\n",
       "        vertical-align: top;\n",
       "    }\n",
       "\n",
       "    .dataframe thead th {\n",
       "        text-align: right;\n",
       "    }\n",
       "</style>\n",
       "<table border=\"1\" class=\"dataframe\">\n",
       "  <thead>\n",
       "    <tr style=\"text-align: right;\">\n",
       "      <th></th>\n",
       "      <th>YearsExperience</th>\n",
       "      <th>Salary</th>\n",
       "    </tr>\n",
       "  </thead>\n",
       "  <tbody>\n",
       "    <tr>\n",
       "      <th>0</th>\n",
       "      <td>1.1</td>\n",
       "      <td>39343</td>\n",
       "    </tr>\n",
       "    <tr>\n",
       "      <th>1</th>\n",
       "      <td>1.3</td>\n",
       "      <td>46205</td>\n",
       "    </tr>\n",
       "    <tr>\n",
       "      <th>2</th>\n",
       "      <td>1.5</td>\n",
       "      <td>37731</td>\n",
       "    </tr>\n",
       "    <tr>\n",
       "      <th>3</th>\n",
       "      <td>2.0</td>\n",
       "      <td>43525</td>\n",
       "    </tr>\n",
       "    <tr>\n",
       "      <th>4</th>\n",
       "      <td>2.2</td>\n",
       "      <td>39891</td>\n",
       "    </tr>\n",
       "  </tbody>\n",
       "</table>\n",
       "</div>"
      ],
      "text/plain": [
       "   YearsExperience  Salary\n",
       "0              1.1   39343\n",
       "1              1.3   46205\n",
       "2              1.5   37731\n",
       "3              2.0   43525\n",
       "4              2.2   39891"
      ]
     },
     "execution_count": 72,
     "metadata": {},
     "output_type": "execute_result"
    }
   ],
   "source": [
    "df = pd.read_csv(\"Salary.csv\")\n",
    "df.head(5)"
   ]
  },
  {
   "cell_type": "code",
   "execution_count": 111,
   "id": "6753d3b0",
   "metadata": {},
   "outputs": [
    {
     "data": {
      "text/plain": [
       "((35, 1), (35, 1))"
      ]
     },
     "execution_count": 111,
     "metadata": {},
     "output_type": "execute_result"
    }
   ],
   "source": [
    "x_data = np.array(df[\"YearsExperience\"], dtype=np.float32)\n",
    "y_data = np.array(df[\"Salary\"], dtype=np.float32)\n",
    "\n",
    "x_data = x_data.reshape((-1,1))\n",
    "y_data = y_data.reshape((-1,1))\n",
    "\n",
    "x_data.shape, y_data.shape"
   ]
  },
  {
   "cell_type": "code",
   "execution_count": 114,
   "id": "9e62735b",
   "metadata": {},
   "outputs": [
    {
     "data": {
      "text/plain": [
       "((28, 1), (7, 1), (28, 1), (7, 1))"
      ]
     },
     "execution_count": 114,
     "metadata": {},
     "output_type": "execute_result"
    }
   ],
   "source": [
    "x_train,x_val,y_train,y_val = train_test_split(x_data, y_data, test_size=0.2, random_state=7)\n",
    "x_train.shape, x_val.shape, y_train.shape, y_val.shape"
   ]
  },
  {
   "cell_type": "code",
   "execution_count": 118,
   "id": "f47d5a1c",
   "metadata": {},
   "outputs": [
    {
     "name": "stdout",
     "output_type": "stream",
     "text": [
      "Epoch 1/100\n",
      "1/1 [==============================] - 0s 248ms/step - loss: 85628.5156 - mae: 85628.5156 - val_loss: 77242.8906 - val_mae: 77242.8906\n",
      "Epoch 2/100\n",
      "1/1 [==============================] - 0s 20ms/step - loss: 85627.7656 - mae: 85627.7656 - val_loss: 77242.2422 - val_mae: 77242.2422\n",
      "Epoch 3/100\n",
      "1/1 [==============================] - 0s 19ms/step - loss: 85627.0078 - mae: 85627.0078 - val_loss: 77241.6016 - val_mae: 77241.6016\n",
      "Epoch 4/100\n",
      "1/1 [==============================] - 0s 18ms/step - loss: 85626.2500 - mae: 85626.2500 - val_loss: 77240.9531 - val_mae: 77240.9531\n",
      "Epoch 5/100\n",
      "1/1 [==============================] - 0s 21ms/step - loss: 85625.5078 - mae: 85625.5078 - val_loss: 77240.3125 - val_mae: 77240.3125\n",
      "Epoch 6/100\n",
      "1/1 [==============================] - 0s 19ms/step - loss: 85624.7500 - mae: 85624.7500 - val_loss: 77239.6719 - val_mae: 77239.6719\n",
      "Epoch 7/100\n",
      "1/1 [==============================] - 0s 20ms/step - loss: 85624.0000 - mae: 85624.0000 - val_loss: 77239.0234 - val_mae: 77239.0234\n",
      "Epoch 8/100\n",
      "1/1 [==============================] - 0s 21ms/step - loss: 85623.2500 - mae: 85623.2500 - val_loss: 77238.3750 - val_mae: 77238.3750\n",
      "Epoch 9/100\n",
      "1/1 [==============================] - 0s 21ms/step - loss: 85622.5000 - mae: 85622.5000 - val_loss: 77237.7422 - val_mae: 77237.7422\n",
      "Epoch 10/100\n",
      "1/1 [==============================] - 0s 21ms/step - loss: 85621.7422 - mae: 85621.7422 - val_loss: 77237.0859 - val_mae: 77237.0859\n",
      "Epoch 11/100\n",
      "1/1 [==============================] - 0s 20ms/step - loss: 85620.9922 - mae: 85620.9922 - val_loss: 77236.4531 - val_mae: 77236.4531\n",
      "Epoch 12/100\n",
      "1/1 [==============================] - 0s 21ms/step - loss: 85620.2422 - mae: 85620.2422 - val_loss: 77235.8047 - val_mae: 77235.8047\n",
      "Epoch 13/100\n",
      "1/1 [==============================] - 0s 21ms/step - loss: 85619.4922 - mae: 85619.4922 - val_loss: 77235.1641 - val_mae: 77235.1641\n",
      "Epoch 14/100\n",
      "1/1 [==============================] - 0s 19ms/step - loss: 85618.7344 - mae: 85618.7344 - val_loss: 77234.5156 - val_mae: 77234.5156\n",
      "Epoch 15/100\n",
      "1/1 [==============================] - 0s 20ms/step - loss: 85617.9844 - mae: 85617.9844 - val_loss: 77233.8750 - val_mae: 77233.8750\n",
      "Epoch 16/100\n",
      "1/1 [==============================] - 0s 19ms/step - loss: 85617.2344 - mae: 85617.2344 - val_loss: 77233.2344 - val_mae: 77233.2344\n",
      "Epoch 17/100\n",
      "1/1 [==============================] - 0s 20ms/step - loss: 85616.4766 - mae: 85616.4766 - val_loss: 77232.5781 - val_mae: 77232.5781\n",
      "Epoch 18/100\n",
      "1/1 [==============================] - 0s 20ms/step - loss: 85615.7266 - mae: 85615.7266 - val_loss: 77231.9375 - val_mae: 77231.9375\n",
      "Epoch 19/100\n",
      "1/1 [==============================] - 0s 19ms/step - loss: 85614.9766 - mae: 85614.9766 - val_loss: 77231.2969 - val_mae: 77231.2969\n",
      "Epoch 20/100\n",
      "1/1 [==============================] - 0s 19ms/step - loss: 85614.2266 - mae: 85614.2266 - val_loss: 77230.6406 - val_mae: 77230.6406\n",
      "Epoch 21/100\n",
      "1/1 [==============================] - 0s 19ms/step - loss: 85613.4609 - mae: 85613.4609 - val_loss: 77230.0000 - val_mae: 77230.0000\n",
      "Epoch 22/100\n",
      "1/1 [==============================] - 0s 22ms/step - loss: 85612.7031 - mae: 85612.7031 - val_loss: 77229.3672 - val_mae: 77229.3672\n",
      "Epoch 23/100\n",
      "1/1 [==============================] - 0s 19ms/step - loss: 85611.9609 - mae: 85611.9609 - val_loss: 77228.7109 - val_mae: 77228.7109\n",
      "Epoch 24/100\n",
      "1/1 [==============================] - 0s 20ms/step - loss: 85611.2031 - mae: 85611.2031 - val_loss: 77228.0703 - val_mae: 77228.0703\n",
      "Epoch 25/100\n",
      "1/1 [==============================] - 0s 19ms/step - loss: 85610.4531 - mae: 85610.4531 - val_loss: 77227.4297 - val_mae: 77227.4297\n",
      "Epoch 26/100\n",
      "1/1 [==============================] - 0s 20ms/step - loss: 85609.7031 - mae: 85609.7031 - val_loss: 77226.7891 - val_mae: 77226.7891\n",
      "Epoch 27/100\n",
      "1/1 [==============================] - 0s 21ms/step - loss: 85608.9453 - mae: 85608.9453 - val_loss: 77226.1328 - val_mae: 77226.1328\n",
      "Epoch 28/100\n",
      "1/1 [==============================] - 0s 19ms/step - loss: 85608.1953 - mae: 85608.1953 - val_loss: 77225.4922 - val_mae: 77225.4922\n",
      "Epoch 29/100\n",
      "1/1 [==============================] - 0s 19ms/step - loss: 85607.4453 - mae: 85607.4453 - val_loss: 77224.8516 - val_mae: 77224.8516\n",
      "Epoch 30/100\n",
      "1/1 [==============================] - 0s 19ms/step - loss: 85606.6953 - mae: 85606.6953 - val_loss: 77224.2031 - val_mae: 77224.2031\n",
      "Epoch 31/100\n",
      "1/1 [==============================] - 0s 18ms/step - loss: 85605.9375 - mae: 85605.9375 - val_loss: 77223.5625 - val_mae: 77223.5625\n",
      "Epoch 32/100\n",
      "1/1 [==============================] - 0s 19ms/step - loss: 85605.1875 - mae: 85605.1875 - val_loss: 77222.9219 - val_mae: 77222.9219\n",
      "Epoch 33/100\n",
      "1/1 [==============================] - 0s 19ms/step - loss: 85604.4297 - mae: 85604.4297 - val_loss: 77222.2656 - val_mae: 77222.2656\n",
      "Epoch 34/100\n",
      "1/1 [==============================] - 0s 21ms/step - loss: 85603.6875 - mae: 85603.6875 - val_loss: 77221.6328 - val_mae: 77221.6328\n",
      "Epoch 35/100\n",
      "1/1 [==============================] - 0s 20ms/step - loss: 85602.9297 - mae: 85602.9297 - val_loss: 77220.9844 - val_mae: 77220.9844\n",
      "Epoch 36/100\n",
      "1/1 [==============================] - 0s 22ms/step - loss: 85602.1719 - mae: 85602.1719 - val_loss: 77220.3516 - val_mae: 77220.3516\n",
      "Epoch 37/100\n",
      "1/1 [==============================] - 0s 23ms/step - loss: 85601.4297 - mae: 85601.4297 - val_loss: 77219.6953 - val_mae: 77219.6953\n",
      "Epoch 38/100\n",
      "1/1 [==============================] - 0s 20ms/step - loss: 85600.6719 - mae: 85600.6719 - val_loss: 77219.0547 - val_mae: 77219.0547\n",
      "Epoch 39/100\n",
      "1/1 [==============================] - 0s 19ms/step - loss: 85599.9219 - mae: 85599.9219 - val_loss: 77218.4141 - val_mae: 77218.4141\n",
      "Epoch 40/100\n",
      "1/1 [==============================] - 0s 21ms/step - loss: 85599.1719 - mae: 85599.1719 - val_loss: 77217.7656 - val_mae: 77217.7656\n",
      "Epoch 41/100\n",
      "1/1 [==============================] - 0s 19ms/step - loss: 85598.4219 - mae: 85598.4219 - val_loss: 77217.1250 - val_mae: 77217.1250\n",
      "Epoch 42/100\n",
      "1/1 [==============================] - 0s 19ms/step - loss: 85597.6641 - mae: 85597.6641 - val_loss: 77216.4766 - val_mae: 77216.4766\n",
      "Epoch 43/100\n",
      "1/1 [==============================] - 0s 19ms/step - loss: 85596.9141 - mae: 85596.9141 - val_loss: 77215.8281 - val_mae: 77215.8281\n",
      "Epoch 44/100\n",
      "1/1 [==============================] - 0s 19ms/step - loss: 85596.1641 - mae: 85596.1641 - val_loss: 77215.1875 - val_mae: 77215.1875\n",
      "Epoch 45/100\n",
      "1/1 [==============================] - 0s 20ms/step - loss: 85595.4141 - mae: 85595.4141 - val_loss: 77214.5391 - val_mae: 77214.5391\n",
      "Epoch 46/100\n",
      "1/1 [==============================] - 0s 19ms/step - loss: 85594.6484 - mae: 85594.6484 - val_loss: 77213.8906 - val_mae: 77213.8906\n",
      "Epoch 47/100\n",
      "1/1 [==============================] - 0s 37ms/step - loss: 85593.8906 - mae: 85593.8906 - val_loss: 77213.2578 - val_mae: 77213.2578\n",
      "Epoch 48/100\n",
      "1/1 [==============================] - 0s 19ms/step - loss: 85593.1484 - mae: 85593.1484 - val_loss: 77212.6094 - val_mae: 77212.6094\n",
      "Epoch 49/100\n",
      "1/1 [==============================] - 0s 19ms/step - loss: 85592.3906 - mae: 85592.3906 - val_loss: 77211.9609 - val_mae: 77211.9609\n",
      "Epoch 50/100\n",
      "1/1 [==============================] - 0s 20ms/step - loss: 85591.6406 - mae: 85591.6406 - val_loss: 77211.3203 - val_mae: 77211.3203\n",
      "Epoch 51/100\n",
      "1/1 [==============================] - 0s 19ms/step - loss: 85590.8906 - mae: 85590.8906 - val_loss: 77210.6797 - val_mae: 77210.6797\n",
      "Epoch 52/100\n",
      "1/1 [==============================] - 0s 21ms/step - loss: 85590.1328 - mae: 85590.1328 - val_loss: 77210.0234 - val_mae: 77210.0234\n",
      "Epoch 53/100\n",
      "1/1 [==============================] - 0s 20ms/step - loss: 85589.3828 - mae: 85589.3828 - val_loss: 77209.3828 - val_mae: 77209.3828\n",
      "Epoch 54/100\n",
      "1/1 [==============================] - 0s 20ms/step - loss: 85588.6328 - mae: 85588.6328 - val_loss: 77208.7422 - val_mae: 77208.7422\n",
      "Epoch 55/100\n",
      "1/1 [==============================] - 0s 19ms/step - loss: 85587.8828 - mae: 85587.8828 - val_loss: 77208.1016 - val_mae: 77208.1016\n",
      "Epoch 56/100\n",
      "1/1 [==============================] - 0s 20ms/step - loss: 85587.1328 - mae: 85587.1328 - val_loss: 77207.4531 - val_mae: 77207.4531\n"
     ]
    },
    {
     "name": "stdout",
     "output_type": "stream",
     "text": [
      "Epoch 57/100\n",
      "1/1 [==============================] - 0s 19ms/step - loss: 85586.3750 - mae: 85586.3750 - val_loss: 77206.8125 - val_mae: 77206.8125\n",
      "Epoch 58/100\n",
      "1/1 [==============================] - 0s 19ms/step - loss: 85585.6172 - mae: 85585.6172 - val_loss: 77206.1641 - val_mae: 77206.1641\n",
      "Epoch 59/100\n",
      "1/1 [==============================] - 0s 18ms/step - loss: 85584.8672 - mae: 85584.8672 - val_loss: 77205.5234 - val_mae: 77205.5234\n",
      "Epoch 60/100\n",
      "1/1 [==============================] - 0s 20ms/step - loss: 85584.1172 - mae: 85584.1172 - val_loss: 77204.8750 - val_mae: 77204.8750\n",
      "Epoch 61/100\n",
      "1/1 [==============================] - 0s 19ms/step - loss: 85583.3672 - mae: 85583.3672 - val_loss: 77204.2422 - val_mae: 77204.2422\n",
      "Epoch 62/100\n",
      "1/1 [==============================] - 0s 19ms/step - loss: 85582.6094 - mae: 85582.6094 - val_loss: 77203.5859 - val_mae: 77203.5859\n",
      "Epoch 63/100\n",
      "1/1 [==============================] - 0s 21ms/step - loss: 85581.8594 - mae: 85581.8594 - val_loss: 77202.9453 - val_mae: 77202.9453\n",
      "Epoch 64/100\n",
      "1/1 [==============================] - 0s 20ms/step - loss: 85581.1094 - mae: 85581.1094 - val_loss: 77202.3047 - val_mae: 77202.3047\n",
      "Epoch 65/100\n",
      "1/1 [==============================] - 0s 20ms/step - loss: 85580.3594 - mae: 85580.3594 - val_loss: 77201.6641 - val_mae: 77201.6641\n",
      "Epoch 66/100\n",
      "1/1 [==============================] - 0s 20ms/step - loss: 85579.6094 - mae: 85579.6094 - val_loss: 77201.0156 - val_mae: 77201.0156\n",
      "Epoch 67/100\n",
      "1/1 [==============================] - 0s 19ms/step - loss: 85578.8594 - mae: 85578.8594 - val_loss: 77200.3672 - val_mae: 77200.3672\n",
      "Epoch 68/100\n",
      "1/1 [==============================] - 0s 19ms/step - loss: 85578.1016 - mae: 85578.1016 - val_loss: 77199.7266 - val_mae: 77199.7266\n",
      "Epoch 69/100\n",
      "1/1 [==============================] - 0s 18ms/step - loss: 85577.3594 - mae: 85577.3594 - val_loss: 77199.0781 - val_mae: 77199.0781\n",
      "Epoch 70/100\n",
      "1/1 [==============================] - 0s 19ms/step - loss: 85576.5859 - mae: 85576.5859 - val_loss: 77198.4297 - val_mae: 77198.4297\n",
      "Epoch 71/100\n",
      "1/1 [==============================] - 0s 19ms/step - loss: 85575.8359 - mae: 85575.8359 - val_loss: 77197.7891 - val_mae: 77197.7891\n",
      "Epoch 72/100\n",
      "1/1 [==============================] - 0s 20ms/step - loss: 85575.0859 - mae: 85575.0859 - val_loss: 77197.1484 - val_mae: 77197.1484\n",
      "Epoch 73/100\n",
      "1/1 [==============================] - 0s 20ms/step - loss: 85574.3281 - mae: 85574.3281 - val_loss: 77196.5000 - val_mae: 77196.5000\n",
      "Epoch 74/100\n",
      "1/1 [==============================] - 0s 19ms/step - loss: 85573.5781 - mae: 85573.5781 - val_loss: 77195.8594 - val_mae: 77195.8594\n",
      "Epoch 75/100\n",
      "1/1 [==============================] - 0s 19ms/step - loss: 85572.8281 - mae: 85572.8281 - val_loss: 77195.2109 - val_mae: 77195.2109\n",
      "Epoch 76/100\n",
      "1/1 [==============================] - 0s 19ms/step - loss: 85572.0781 - mae: 85572.0781 - val_loss: 77194.5703 - val_mae: 77194.5703\n",
      "Epoch 77/100\n",
      "1/1 [==============================] - 0s 19ms/step - loss: 85571.3281 - mae: 85571.3281 - val_loss: 77193.9219 - val_mae: 77193.9219\n",
      "Epoch 78/100\n",
      "1/1 [==============================] - 0s 20ms/step - loss: 85570.5703 - mae: 85570.5703 - val_loss: 77193.2734 - val_mae: 77193.2734\n",
      "Epoch 79/100\n",
      "1/1 [==============================] - 0s 19ms/step - loss: 85569.8125 - mae: 85569.8125 - val_loss: 77192.6328 - val_mae: 77192.6328\n",
      "Epoch 80/100\n",
      "1/1 [==============================] - 0s 18ms/step - loss: 85569.0625 - mae: 85569.0625 - val_loss: 77191.9922 - val_mae: 77191.9922\n",
      "Epoch 81/100\n",
      "1/1 [==============================] - 0s 19ms/step - loss: 85568.3203 - mae: 85568.3203 - val_loss: 77191.3516 - val_mae: 77191.3516\n",
      "Epoch 82/100\n",
      "1/1 [==============================] - 0s 19ms/step - loss: 85567.5625 - mae: 85567.5625 - val_loss: 77190.7031 - val_mae: 77190.7031\n",
      "Epoch 83/100\n",
      "1/1 [==============================] - 0s 20ms/step - loss: 85566.8047 - mae: 85566.8047 - val_loss: 77190.0547 - val_mae: 77190.0547\n",
      "Epoch 84/100\n",
      "1/1 [==============================] - 0s 20ms/step - loss: 85566.0625 - mae: 85566.0625 - val_loss: 77189.4219 - val_mae: 77189.4219\n",
      "Epoch 85/100\n",
      "1/1 [==============================] - 0s 19ms/step - loss: 85565.3047 - mae: 85565.3047 - val_loss: 77188.7656 - val_mae: 77188.7656\n",
      "Epoch 86/100\n",
      "1/1 [==============================] - 0s 19ms/step - loss: 85564.5547 - mae: 85564.5547 - val_loss: 77188.1328 - val_mae: 77188.1328\n",
      "Epoch 87/100\n",
      "1/1 [==============================] - 0s 19ms/step - loss: 85563.8047 - mae: 85563.8047 - val_loss: 77187.4844 - val_mae: 77187.4844\n",
      "Epoch 88/100\n",
      "1/1 [==============================] - 0s 19ms/step - loss: 85563.0547 - mae: 85563.0547 - val_loss: 77186.8359 - val_mae: 77186.8359\n",
      "Epoch 89/100\n",
      "1/1 [==============================] - 0s 19ms/step - loss: 85562.2969 - mae: 85562.2969 - val_loss: 77186.1953 - val_mae: 77186.1953\n",
      "Epoch 90/100\n",
      "1/1 [==============================] - 0s 19ms/step - loss: 85561.5391 - mae: 85561.5391 - val_loss: 77185.5547 - val_mae: 77185.5547\n",
      "Epoch 91/100\n",
      "1/1 [==============================] - 0s 19ms/step - loss: 85560.7891 - mae: 85560.7891 - val_loss: 77184.9141 - val_mae: 77184.9141\n",
      "Epoch 92/100\n",
      "1/1 [==============================] - 0s 20ms/step - loss: 85560.0391 - mae: 85560.0391 - val_loss: 77184.2578 - val_mae: 77184.2578\n",
      "Epoch 93/100\n",
      "1/1 [==============================] - 0s 21ms/step - loss: 85559.2891 - mae: 85559.2891 - val_loss: 77183.6172 - val_mae: 77183.6172\n",
      "Epoch 94/100\n",
      "1/1 [==============================] - 0s 19ms/step - loss: 85558.5391 - mae: 85558.5391 - val_loss: 77182.9766 - val_mae: 77182.9766\n",
      "Epoch 95/100\n",
      "1/1 [==============================] - 0s 19ms/step - loss: 85557.7891 - mae: 85557.7891 - val_loss: 77182.3203 - val_mae: 77182.3203\n",
      "Epoch 96/100\n",
      "1/1 [==============================] - 0s 18ms/step - loss: 85557.0234 - mae: 85557.0234 - val_loss: 77181.6797 - val_mae: 77181.6797\n",
      "Epoch 97/100\n",
      "1/1 [==============================] - 0s 19ms/step - loss: 85556.2734 - mae: 85556.2734 - val_loss: 77181.0469 - val_mae: 77181.0469\n",
      "Epoch 98/100\n",
      "1/1 [==============================] - 0s 19ms/step - loss: 85555.5156 - mae: 85555.5156 - val_loss: 77180.3906 - val_mae: 77180.3906\n",
      "Epoch 99/100\n",
      "1/1 [==============================] - 0s 20ms/step - loss: 85554.7734 - mae: 85554.7734 - val_loss: 77179.7500 - val_mae: 77179.7500\n",
      "Epoch 100/100\n",
      "1/1 [==============================] - 0s 19ms/step - loss: 85554.0156 - mae: 85554.0156 - val_loss: 77179.1094 - val_mae: 77179.1094\n"
     ]
    },
    {
     "data": {
      "text/plain": [
       "<keras.callbacks.History at 0x7f78a7538430>"
      ]
     },
     "execution_count": 118,
     "metadata": {},
     "output_type": "execute_result"
    }
   ],
   "source": [
    "model = tf.keras.Sequential()\n",
    "model.add(tf.keras.layers.Dense(1))\n",
    "\n",
    "model.compile(loss=tf.keras.losses.mae,\n",
    "             optimizer=tf.keras.optimizers.Adam(learning_rate=0.1),\n",
    "             metrics=[\"mae\"])\n",
    "\n",
    "model.fit(x_train, y_train,\n",
    "          validation_data=(x_val, y_val),\n",
    "          epochs=100\n",
    "         )"
   ]
  },
  {
   "cell_type": "code",
   "execution_count": 120,
   "id": "e92db9a9",
   "metadata": {},
   "outputs": [
    {
     "name": "stdout",
     "output_type": "stream",
     "text": [
      "1/1 [==============================] - 0s 13ms/step\n"
     ]
    },
    {
     "data": {
      "text/plain": [
       "array([[114.20883 ],\n",
       "       [ 81.586914],\n",
       "       [ 28.123222],\n",
       "       [ 63.463634],\n",
       "       [ 71.61911 ],\n",
       "       [ 36.2787  ],\n",
       "       [ 19.967743]], dtype=float32)"
      ]
     },
     "execution_count": 120,
     "metadata": {},
     "output_type": "execute_result"
    }
   ],
   "source": [
    "y_pred = model.predict(x_val)\n",
    "y_pred"
   ]
  },
  {
   "cell_type": "code",
   "execution_count": 121,
   "id": "87fb5e59",
   "metadata": {},
   "outputs": [
    {
     "data": {
      "text/plain": [
       "<matplotlib.legend.Legend at 0x7f78a7eef100>"
      ]
     },
     "execution_count": 121,
     "metadata": {},
     "output_type": "execute_result"
    },
    {
     "data": {
      "image/png": "[encoded data removed]",
      "text/plain": [
       "<Figure size 640x480 with 1 Axes>"
      ]
     },
     "metadata": {},
     "output_type": "display_data"
    }
   ],
   "source": [
    "plt.scatter(x_val, y_val, c=\"g\", label=\"Vaildation\")\n",
    "plt.scatter(x_val, y_pred, c=\"b\", label=\"Predictions\")\n",
    "plt.legend()"
   ]
  },
  {
   "cell_type": "code",
   "execution_count": 125,
   "id": "94cc2cb8",
   "metadata": {},
   "outputs": [
    {
     "name": "stdout",
     "output_type": "stream",
     "text": [
      "Epoch 1/100\n",
      "1/1 [==============================] - 0s 216ms/step - loss: 8.6567 - mae: 8.6567 - val_loss: 4.6685 - val_mae: 4.6685\n",
      "Epoch 2/100\n",
      "1/1 [==============================] - 0s 19ms/step - loss: 7.8699 - mae: 7.8699 - val_loss: 4.1613 - val_mae: 4.1613\n",
      "Epoch 3/100\n",
      "1/1 [==============================] - 0s 19ms/step - loss: 7.0831 - mae: 7.0831 - val_loss: 3.6542 - val_mae: 3.6542\n",
      "Epoch 4/100\n",
      "1/1 [==============================] - 0s 18ms/step - loss: 6.2963 - mae: 6.2963 - val_loss: 3.1471 - val_mae: 3.1471\n",
      "Epoch 5/100\n",
      "1/1 [==============================] - 0s 20ms/step - loss: 5.5096 - mae: 5.5096 - val_loss: 2.6399 - val_mae: 2.6399\n",
      "Epoch 6/100\n",
      "1/1 [==============================] - 0s 19ms/step - loss: 4.7228 - mae: 4.7228 - val_loss: 2.1328 - val_mae: 2.1328\n",
      "Epoch 7/100\n",
      "1/1 [==============================] - 0s 18ms/step - loss: 3.9360 - mae: 3.9360 - val_loss: 1.6256 - val_mae: 1.6256\n",
      "Epoch 8/100\n",
      "1/1 [==============================] - 0s 18ms/step - loss: 3.1505 - mae: 3.1505 - val_loss: 1.1731 - val_mae: 1.1731\n",
      "Epoch 9/100\n",
      "1/1 [==============================] - 0s 19ms/step - loss: 2.3795 - mae: 2.3795 - val_loss: 0.8033 - val_mae: 0.8033\n",
      "Epoch 10/100\n",
      "1/1 [==============================] - 0s 19ms/step - loss: 1.6153 - mae: 1.6153 - val_loss: 0.4347 - val_mae: 0.4347\n",
      "Epoch 11/100\n",
      "1/1 [==============================] - 0s 19ms/step - loss: 0.9389 - mae: 0.9389 - val_loss: 0.3884 - val_mae: 0.3884\n",
      "Epoch 12/100\n",
      "1/1 [==============================] - 0s 18ms/step - loss: 0.4853 - mae: 0.4853 - val_loss: 0.8554 - val_mae: 0.8554\n",
      "Epoch 13/100\n",
      "1/1 [==============================] - 0s 19ms/step - loss: 0.7084 - mae: 0.7084 - val_loss: 1.1853 - val_mae: 1.1853\n",
      "Epoch 14/100\n",
      "1/1 [==============================] - 0s 18ms/step - loss: 1.2254 - mae: 1.2254 - val_loss: 1.4016 - val_mae: 1.4016\n",
      "Epoch 15/100\n",
      "1/1 [==============================] - 0s 19ms/step - loss: 1.5658 - mae: 1.5658 - val_loss: 1.5226 - val_mae: 1.5226\n",
      "Epoch 16/100\n",
      "1/1 [==============================] - 0s 19ms/step - loss: 1.7581 - mae: 1.7581 - val_loss: 1.5631 - val_mae: 1.5631\n",
      "Epoch 17/100\n",
      "1/1 [==============================] - 0s 18ms/step - loss: 1.8251 - mae: 1.8251 - val_loss: 1.5348 - val_mae: 1.5348\n",
      "Epoch 18/100\n",
      "1/1 [==============================] - 0s 19ms/step - loss: 1.7853 - mae: 1.7853 - val_loss: 1.4477 - val_mae: 1.4477\n",
      "Epoch 19/100\n",
      "1/1 [==============================] - 0s 19ms/step - loss: 1.6539 - mae: 1.6539 - val_loss: 1.3098 - val_mae: 1.3098\n",
      "Epoch 20/100\n",
      "1/1 [==============================] - 0s 19ms/step - loss: 1.4434 - mae: 1.4434 - val_loss: 1.1278 - val_mae: 1.1278\n",
      "Epoch 21/100\n",
      "1/1 [==============================] - 0s 19ms/step - loss: 1.1643 - mae: 1.1643 - val_loss: 0.9075 - val_mae: 0.9075\n",
      "Epoch 22/100\n",
      "1/1 [==============================] - 0s 19ms/step - loss: 0.8256 - mae: 0.8256 - val_loss: 0.6538 - val_mae: 0.6538\n",
      "Epoch 23/100\n",
      "1/1 [==============================] - 0s 19ms/step - loss: 0.4618 - mae: 0.4618 - val_loss: 0.3880 - val_mae: 0.3880\n",
      "Epoch 24/100\n",
      "1/1 [==============================] - 0s 19ms/step - loss: 0.4327 - mae: 0.4327 - val_loss: 0.2875 - val_mae: 0.2875\n",
      "Epoch 25/100\n",
      "1/1 [==============================] - 0s 19ms/step - loss: 0.5726 - mae: 0.5726 - val_loss: 0.3359 - val_mae: 0.3359\n",
      "Epoch 26/100\n",
      "1/1 [==============================] - 0s 19ms/step - loss: 0.7364 - mae: 0.7364 - val_loss: 0.4025 - val_mae: 0.4025\n",
      "Epoch 27/100\n",
      "1/1 [==============================] - 0s 18ms/step - loss: 0.8572 - mae: 0.8572 - val_loss: 0.4384 - val_mae: 0.4384\n",
      "Epoch 28/100\n",
      "1/1 [==============================] - 0s 18ms/step - loss: 0.9123 - mae: 0.9123 - val_loss: 0.4374 - val_mae: 0.4374\n",
      "Epoch 29/100\n",
      "1/1 [==============================] - 0s 18ms/step - loss: 0.9062 - mae: 0.9062 - val_loss: 0.4015 - val_mae: 0.4015\n",
      "Epoch 30/100\n",
      "1/1 [==============================] - 0s 17ms/step - loss: 0.8421 - mae: 0.8421 - val_loss: 0.3361 - val_mae: 0.3361\n",
      "Epoch 31/100\n",
      "1/1 [==============================] - 0s 18ms/step - loss: 0.7291 - mae: 0.7291 - val_loss: 0.2670 - val_mae: 0.2670\n",
      "Epoch 32/100\n",
      "1/1 [==============================] - 0s 18ms/step - loss: 0.5785 - mae: 0.5785 - val_loss: 0.2420 - val_mae: 0.2420\n",
      "Epoch 33/100\n",
      "1/1 [==============================] - 0s 17ms/step - loss: 0.4347 - mae: 0.4347 - val_loss: 0.3494 - val_mae: 0.3494\n",
      "Epoch 34/100\n",
      "1/1 [==============================] - 0s 18ms/step - loss: 0.3309 - mae: 0.3309 - val_loss: 0.4998 - val_mae: 0.4998\n",
      "Epoch 35/100\n",
      "1/1 [==============================] - 0s 18ms/step - loss: 0.3582 - mae: 0.3582 - val_loss: 0.5972 - val_mae: 0.5972\n",
      "Epoch 36/100\n",
      "1/1 [==============================] - 0s 19ms/step - loss: 0.5030 - mae: 0.5030 - val_loss: 0.6242 - val_mae: 0.6242\n",
      "Epoch 37/100\n",
      "1/1 [==============================] - 0s 18ms/step - loss: 0.5609 - mae: 0.5609 - val_loss: 0.5887 - val_mae: 0.5887\n",
      "Epoch 38/100\n",
      "1/1 [==============================] - 0s 17ms/step - loss: 0.5208 - mae: 0.5208 - val_loss: 0.4978 - val_mae: 0.4978\n",
      "Epoch 39/100\n",
      "1/1 [==============================] - 0s 18ms/step - loss: 0.3935 - mae: 0.3935 - val_loss: 0.3576 - val_mae: 0.3576\n",
      "Epoch 40/100\n",
      "1/1 [==============================] - 0s 20ms/step - loss: 0.2628 - mae: 0.2628 - val_loss: 0.2114 - val_mae: 0.2114\n",
      "Epoch 41/100\n",
      "1/1 [==============================] - 0s 19ms/step - loss: 0.2812 - mae: 0.2812 - val_loss: 0.1642 - val_mae: 0.1642\n",
      "Epoch 42/100\n",
      "1/1 [==============================] - 0s 19ms/step - loss: 0.3417 - mae: 0.3417 - val_loss: 0.1813 - val_mae: 0.1813\n",
      "Epoch 43/100\n",
      "1/1 [==============================] - 0s 18ms/step - loss: 0.3932 - mae: 0.3932 - val_loss: 0.1826 - val_mae: 0.1826\n",
      "Epoch 44/100\n",
      "1/1 [==============================] - 0s 19ms/step - loss: 0.3990 - mae: 0.3990 - val_loss: 0.1629 - val_mae: 0.1629\n",
      "Epoch 45/100\n",
      "1/1 [==============================] - 0s 19ms/step - loss: 0.3533 - mae: 0.3533 - val_loss: 0.1266 - val_mae: 0.1266\n",
      "Epoch 46/100\n",
      "1/1 [==============================] - 0s 19ms/step - loss: 0.2717 - mae: 0.2717 - val_loss: 0.1629 - val_mae: 0.1629\n",
      "Epoch 47/100\n",
      "1/1 [==============================] - 0s 18ms/step - loss: 0.1954 - mae: 0.1954 - val_loss: 0.2533 - val_mae: 0.2533\n",
      "Epoch 48/100\n",
      "1/1 [==============================] - 0s 17ms/step - loss: 0.1912 - mae: 0.1912 - val_loss: 0.3024 - val_mae: 0.3024\n",
      "Epoch 49/100\n",
      "1/1 [==============================] - 0s 18ms/step - loss: 0.2632 - mae: 0.2632 - val_loss: 0.2847 - val_mae: 0.2847\n",
      "Epoch 50/100\n",
      "1/1 [==============================] - 0s 18ms/step - loss: 0.2548 - mae: 0.2548 - val_loss: 0.2075 - val_mae: 0.2075\n",
      "Epoch 51/100\n",
      "1/1 [==============================] - 0s 18ms/step - loss: 0.1643 - mae: 0.1643 - val_loss: 0.0987 - val_mae: 0.0987\n",
      "Epoch 52/100\n",
      "1/1 [==============================] - 0s 19ms/step - loss: 0.1272 - mae: 0.1272 - val_loss: 0.0746 - val_mae: 0.0746\n",
      "Epoch 53/100\n",
      "1/1 [==============================] - 0s 18ms/step - loss: 0.1668 - mae: 0.1668 - val_loss: 0.0906 - val_mae: 0.0906\n",
      "Epoch 54/100\n",
      "1/1 [==============================] - 0s 18ms/step - loss: 0.1794 - mae: 0.1794 - val_loss: 0.0747 - val_mae: 0.0747\n",
      "Epoch 55/100\n",
      "1/1 [==============================] - 0s 18ms/step - loss: 0.1497 - mae: 0.1497 - val_loss: 0.0471 - val_mae: 0.0471\n",
      "Epoch 56/100\n",
      "1/1 [==============================] - 0s 19ms/step - loss: 0.0888 - mae: 0.0888 - val_loss: 0.0995 - val_mae: 0.0995\n",
      "Epoch 57/100\n",
      "1/1 [==============================] - 0s 22ms/step - loss: 0.0996 - mae: 0.0996 - val_loss: 0.0971 - val_mae: 0.0971\n",
      "Epoch 58/100\n",
      "1/1 [==============================] - 0s 19ms/step - loss: 0.1145 - mae: 0.1145 - val_loss: 0.0426 - val_mae: 0.0426\n",
      "Epoch 59/100\n",
      "1/1 [==============================] - 0s 18ms/step - loss: 0.0570 - mae: 0.0570 - val_loss: 0.0605 - val_mae: 0.0605\n",
      "Epoch 60/100\n",
      "1/1 [==============================] - 0s 18ms/step - loss: 0.0866 - mae: 0.0866 - val_loss: 0.0806 - val_mae: 0.0806\n",
      "Epoch 61/100\n",
      "1/1 [==============================] - 0s 19ms/step - loss: 0.1040 - mae: 0.1040 - val_loss: 0.0615 - val_mae: 0.0615\n",
      "Epoch 62/100\n",
      "1/1 [==============================] - 0s 19ms/step - loss: 0.0627 - mae: 0.0627 - val_loss: 0.0541 - val_mae: 0.0541\n",
      "Epoch 63/100\n"
     ]
    },
    {
     "name": "stdout",
     "output_type": "stream",
     "text": [
      "1/1 [==============================] - 0s 18ms/step - loss: 0.0936 - mae: 0.0936 - val_loss: 0.0634 - val_mae: 0.0634\n",
      "Epoch 64/100\n",
      "1/1 [==============================] - 0s 18ms/step - loss: 0.1263 - mae: 0.1263 - val_loss: 0.0569 - val_mae: 0.0569\n",
      "Epoch 65/100\n",
      "1/1 [==============================] - 0s 18ms/step - loss: 0.1053 - mae: 0.1053 - val_loss: 0.0678 - val_mae: 0.0678\n",
      "Epoch 66/100\n",
      "1/1 [==============================] - 0s 18ms/step - loss: 0.0552 - mae: 0.0552 - val_loss: 0.1118 - val_mae: 0.1118\n",
      "Epoch 67/100\n",
      "1/1 [==============================] - 0s 18ms/step - loss: 0.1107 - mae: 0.1107 - val_loss: 0.1103 - val_mae: 0.1103\n",
      "Epoch 68/100\n",
      "1/1 [==============================] - 0s 17ms/step - loss: 0.1068 - mae: 0.1068 - val_loss: 0.0711 - val_mae: 0.0711\n",
      "Epoch 69/100\n",
      "1/1 [==============================] - 0s 18ms/step - loss: 0.0574 - mae: 0.0574 - val_loss: 0.0596 - val_mae: 0.0596\n",
      "Epoch 70/100\n",
      "1/1 [==============================] - 0s 18ms/step - loss: 0.0940 - mae: 0.0940 - val_loss: 0.0589 - val_mae: 0.0589\n",
      "Epoch 71/100\n",
      "1/1 [==============================] - 0s 18ms/step - loss: 0.0944 - mae: 0.0944 - val_loss: 0.0645 - val_mae: 0.0645\n",
      "Epoch 72/100\n",
      "1/1 [==============================] - 0s 20ms/step - loss: 0.0560 - mae: 0.0560 - val_loss: 0.0907 - val_mae: 0.0907\n",
      "Epoch 73/100\n",
      "1/1 [==============================] - 0s 18ms/step - loss: 0.0893 - mae: 0.0893 - val_loss: 0.0773 - val_mae: 0.0773\n",
      "Epoch 74/100\n",
      "1/1 [==============================] - 0s 18ms/step - loss: 0.0742 - mae: 0.0742 - val_loss: 0.0552 - val_mae: 0.0552\n",
      "Epoch 75/100\n",
      "1/1 [==============================] - 0s 18ms/step - loss: 0.0669 - mae: 0.0669 - val_loss: 0.0534 - val_mae: 0.0534\n",
      "Epoch 76/100\n",
      "1/1 [==============================] - 0s 18ms/step - loss: 0.0771 - mae: 0.0771 - val_loss: 0.0526 - val_mae: 0.0526\n",
      "Epoch 77/100\n",
      "1/1 [==============================] - 0s 20ms/step - loss: 0.0506 - mae: 0.0506 - val_loss: 0.0644 - val_mae: 0.0644\n",
      "Epoch 78/100\n",
      "1/1 [==============================] - 0s 20ms/step - loss: 0.0705 - mae: 0.0705 - val_loss: 0.0557 - val_mae: 0.0557\n",
      "Epoch 79/100\n",
      "1/1 [==============================] - 0s 19ms/step - loss: 0.0549 - mae: 0.0549 - val_loss: 0.0476 - val_mae: 0.0476\n",
      "Epoch 80/100\n",
      "1/1 [==============================] - 0s 17ms/step - loss: 0.0583 - mae: 0.0583 - val_loss: 0.0464 - val_mae: 0.0464\n",
      "Epoch 81/100\n",
      "1/1 [==============================] - 0s 18ms/step - loss: 0.0652 - mae: 0.0652 - val_loss: 0.0463 - val_mae: 0.0463\n",
      "Epoch 82/100\n",
      "1/1 [==============================] - 0s 19ms/step - loss: 0.0526 - mae: 0.0526 - val_loss: 0.0541 - val_mae: 0.0541\n",
      "Epoch 83/100\n",
      "1/1 [==============================] - 0s 18ms/step - loss: 0.0707 - mae: 0.0707 - val_loss: 0.0439 - val_mae: 0.0439\n",
      "Epoch 84/100\n",
      "1/1 [==============================] - 0s 17ms/step - loss: 0.0536 - mae: 0.0536 - val_loss: 0.0433 - val_mae: 0.0433\n",
      "Epoch 85/100\n",
      "1/1 [==============================] - 0s 18ms/step - loss: 0.0598 - mae: 0.0598 - val_loss: 0.0456 - val_mae: 0.0456\n",
      "Epoch 86/100\n",
      "1/1 [==============================] - 0s 18ms/step - loss: 0.0624 - mae: 0.0624 - val_loss: 0.0426 - val_mae: 0.0426\n",
      "Epoch 87/100\n",
      "1/1 [==============================] - 0s 37ms/step - loss: 0.0514 - mae: 0.0514 - val_loss: 0.0498 - val_mae: 0.0498\n",
      "Epoch 88/100\n",
      "1/1 [==============================] - 0s 17ms/step - loss: 0.0668 - mae: 0.0668 - val_loss: 0.0441 - val_mae: 0.0441\n",
      "Epoch 89/100\n",
      "1/1 [==============================] - 0s 19ms/step - loss: 0.0556 - mae: 0.0556 - val_loss: 0.0433 - val_mae: 0.0433\n",
      "Epoch 90/100\n",
      "1/1 [==============================] - 0s 19ms/step - loss: 0.0563 - mae: 0.0563 - val_loss: 0.0438 - val_mae: 0.0438\n",
      "Epoch 91/100\n",
      "1/1 [==============================] - 0s 18ms/step - loss: 0.0575 - mae: 0.0575 - val_loss: 0.0452 - val_mae: 0.0452\n",
      "Epoch 92/100\n",
      "1/1 [==============================] - 0s 18ms/step - loss: 0.0506 - mae: 0.0506 - val_loss: 0.0479 - val_mae: 0.0479\n",
      "Epoch 93/100\n",
      "1/1 [==============================] - 0s 18ms/step - loss: 0.0530 - mae: 0.0530 - val_loss: 0.0471 - val_mae: 0.0471\n",
      "Epoch 94/100\n",
      "1/1 [==============================] - 0s 19ms/step - loss: 0.0501 - mae: 0.0501 - val_loss: 0.0475 - val_mae: 0.0475\n",
      "Epoch 95/100\n",
      "1/1 [==============================] - 0s 19ms/step - loss: 0.0546 - mae: 0.0546 - val_loss: 0.0485 - val_mae: 0.0485\n",
      "Epoch 96/100\n",
      "1/1 [==============================] - 0s 19ms/step - loss: 0.0532 - mae: 0.0532 - val_loss: 0.0529 - val_mae: 0.0529\n",
      "Epoch 97/100\n",
      "1/1 [==============================] - 0s 18ms/step - loss: 0.0516 - mae: 0.0516 - val_loss: 0.0563 - val_mae: 0.0563\n",
      "Epoch 98/100\n",
      "1/1 [==============================] - 0s 18ms/step - loss: 0.0539 - mae: 0.0539 - val_loss: 0.0510 - val_mae: 0.0510\n",
      "Epoch 99/100\n",
      "1/1 [==============================] - 0s 17ms/step - loss: 0.0497 - mae: 0.0497 - val_loss: 0.0510 - val_mae: 0.0510\n",
      "Epoch 100/100\n",
      "1/1 [==============================] - 0s 19ms/step - loss: 0.0534 - mae: 0.0534 - val_loss: 0.0514 - val_mae: 0.0514\n"
     ]
    },
    {
     "data": {
      "text/plain": [
       "<keras.callbacks.History at 0x7f78a43b4bb0>"
      ]
     },
     "execution_count": 125,
     "metadata": {},
     "output_type": "execute_result"
    }
   ],
   "source": [
    "y_min = np.min(y_data)\n",
    "y_max = np.max(y_data)\n",
    "y_data_scaled = (y_data - y_min) / (y_max - y_min)\n",
    "\n",
    "x_train, x_val, y_train, y_val = train_test_split(x_data, y_data_scaled,\n",
    "                                                test_size=0.2,\n",
    "                                                random_state=7)\n",
    "\n",
    "model = tf.keras.Sequential()\n",
    "model.add(tf.keras.layers.Dense(1))\n",
    "\n",
    "model.compile(loss=tf.keras.losses.mae,\n",
    "             optimizer=tf.keras.optimizers.Adam(learning_rate=0.1),\n",
    "             metrics=[\"mae\"])\n",
    "\n",
    "model.fit(x_train, y_train,\n",
    "          validation_data=(x_val, y_val),\n",
    "          epochs=100\n",
    "         )"
   ]
  },
  {
   "cell_type": "code",
   "execution_count": 126,
   "id": "8155a543",
   "metadata": {},
   "outputs": [
    {
     "name": "stdout",
     "output_type": "stream",
     "text": [
      "WARNING:tensorflow:5 out of the last 13 calls to <function Model.make_predict_function.<locals>.predict_function at 0x7f7959935a20> triggered tf.function retracing. Tracing is expensive and the excessive number of tracings could be due to (1) creating @tf.function repeatedly in a loop, (2) passing tensors with different shapes, (3) passing Python objects instead of tensors. For (1), please define your @tf.function outside of the loop. For (2), @tf.function has reduce_retracing=True option that can avoid unnecessary retracing. For (3), please refer to https://www.tensorflow.org/guide/function#controlling_retracing and https://www.tensorflow.org/api_docs/python/tf/function for  more details.\n"
     ]
    },
    {
     "name": "stderr",
     "output_type": "stream",
     "text": [
      "WARNING:tensorflow:5 out of the last 13 calls to <function Model.make_predict_function.<locals>.predict_function at 0x7f7959935a20> triggered tf.function retracing. Tracing is expensive and the excessive number of tracings could be due to (1) creating @tf.function repeatedly in a loop, (2) passing tensors with different shapes, (3) passing Python objects instead of tensors. For (1), please define your @tf.function outside of the loop. For (2), @tf.function has reduce_retracing=True option that can avoid unnecessary retracing. For (3), please refer to https://www.tensorflow.org/guide/function#controlling_retracing and https://www.tensorflow.org/api_docs/python/tf/function for  more details.\n"
     ]
    },
    {
     "name": "stdout",
     "output_type": "stream",
     "text": [
      "1/1 [==============================] - 0s 24ms/step\n"
     ]
    },
    {
     "data": {
      "text/plain": [
       "<matplotlib.legend.Legend at 0x7f78aa2bb010>"
      ]
     },
     "execution_count": 126,
     "metadata": {},
     "output_type": "execute_result"
    },
    {
     "data": {
      "image/png": "[encoded data removed]",
      "text/plain": [
       "<Figure size 640x480 with 1 Axes>"
      ]
     },
     "metadata": {},
     "output_type": "display_data"
    }
   ],
   "source": [
    "y_pred = model.predict(x_val)\n",
    "plt.scatter(x_val, y_val, c=\"g\", label=\"Validation\")\n",
    "plt.scatter(x_val, y_pred, c=\"b\", label=\"Predictions\")\n",
    "plt.legend()"
   ]
  },
  {
   "attachments": {},
   "cell_type": "markdown",
   "id": "bb95bdf7",
   "metadata": {},
   "source": [
    "### 논리 회귀(Logistic Regression)\n",
    "\n",
    "* 이진 논리 회귀 (Binary Logistic Regression) - Sigmoid 함수를 주로 사용한다.\n",
    "* 다항 논리 회귀 (Multinomial Logistic Regression) - Softmax 함수를 주로 사용한다.\n",
    "\n",
    "공통적으로 loss function으로 CrossEntropy를 사용하여 확률 분포 그래프의 차이를 계산해서 loss를 최소화한다."
   ]
  },
  {
   "attachments": {},
   "cell_type": "markdown",
   "id": "8b54f1a8",
   "metadata": {},
   "source": [
    "### Support Vector Machine (SVM)\n",
    "\n",
    "SVM vs Binary Logistic Regression\n",
    "분류 문제를 해결하기 위해 정의된 모델은 classfier라고 한다. SVM은 classifier의 일종으로, 두 카테고리 중 어느 하나에 속한 데이터 세트가 주어졌을 때, SVM은 주어진 데이터 세트를 바탕으로 하여 새로운 데이터가 어느 카테고리에 속할지 판단하는 비확률적 이진 선형 분류 모델을 만듭니다.\n",
    "\n",
    "[위키백과](https://ko.wikipedia.org/wiki/%EC%84%9C%ED%8F%AC%ED%8A%B8_%EB%B2%A1%ED%84%B0_%EB%A8%B8%EC%8B%A0)\n",
    "\n",
    "비확률적 이진 선형에서 '비확률적'이라는 표현은 통계상의 확률 개념을 적용하지 않는다는 것을 의미합니다. 이진 논리 회귀에서 결과값을 확률로 나타나고, 이 결과값이 임계치를 넘는지 안 넘는지를 판단하는 것고 달리, SVM은 독립 변수와 종속 변수 간의 확률 관계를 고려하지 않고, 단순히 0과 1로만 판단합니다.\n",
    "\n",
    "물론 이진 논리 회귀에서도 임계치를 기준으로 0과 1로만 표현하겠다고 한다면, 비확률적 이진 선형과 유사한 결과를 얻을 수 있습니다. 결국에는 '이다, 아니다', '0이냐, 1이냐'의 문제로 귀결되기 때문입니다. 예로, 강아지와 고양이라는 두 카테고리가 있다고 가정합니다. 강아지와 고양이 이미지가 섞인 데이터 세트가 주어졌을 때, 이 데이터들을 카테고리 맞춰 분류해야 한다면, 해당 데이터가 강아지이냐, 고양이이냐를 계산하는 것은 이진 논리 회귀를 사용하냐, SVM을 사용하냐에 상관없이  결국의 확률 이야기라는 것입니다.\n",
    "\n",
    "하지만 SVM과 이진 논리 회귀는 접근 방식에서 차이가 있습니다. 추상적인 표현입니다만, SVM은 문제를 단순화하여 패턴을 추출하는 데에 유용한 모델로, 직관적인 결과('이다, 아니다', '0이냐, 1이냐')를 얻고자 할 때 유용합니다. 반면, 이진 논리 회귀는 독립 변수와 종속 변수 간의 확률 관계를 분석하고 싶을 때 유용합니다. 이진 논리 회귀가 임계치를 사용하여 결과값을 단순화할 수 있다는 특징 때문에 일부 상황에서 SVM과 유사한 결과를 얻을 수 있는 것입니다. \n",
    "\n",
    "SVM\n",
    "SVM 알고리즘을 사용하면 데이터가 사상된 공간에서 경계로 표현되고, 분류된 카테고리 간의 폭이 가장 큰 경계를 찾습니다."
   ]
  },
  {
   "attachments": {},
   "cell_type": "markdown",
   "id": "3e6a8b3b",
   "metadata": {},
   "source": [
    "### 전처리(Preprocessing)\n",
    "\n",
    "전처리는 넓은 의미에서 데이터를 정제하는 작업을 의미합니다. 전처리는 구체적으로 null 값 등 필요 없는 데이터를 제거한다든지, 데이터가 지나치게 크거나 작을 때 스케일링을 한다든지, 그외 Nomarlization, Standardization 작업들을 포함합니다. 실무에서 전처리가 좋은 결과를 얻는 데에 70-80%의 비중을 차지한다고 말할 만큼 전처리는 머신 러닝에서 역할 비중이 크고 중요합니다."
   ]
  },
  {
   "attachments": {},
   "cell_type": "markdown",
   "id": "20907ef3",
   "metadata": {},
   "source": [
    "### Binary Logistic Regression"
   ]
  },
  {
   "cell_type": "code",
   "execution_count": 128,
   "id": "8ed33d64",
   "metadata": {},
   "outputs": [
    {
     "name": "stdout",
     "output_type": "stream",
     "text": [
      "Downloading titanic.zip to /home/recona97/here/ml\n",
      "  0%|                                               | 0.00/10.8k [00:00<?, ?B/s]\n",
      "100%|██████████████████████████████████████| 10.8k/10.8k [00:00<00:00, 39.1MB/s]\n",
      "unzip:  cannot find or open train_and_test2.zip, train_and_test2.zip.zip or train_and_test2.zip.ZIP.\n"
     ]
    }
   ],
   "source": [
    "!kaggle datasets download -d heptapod/titanic"
   ]
  },
  {
   "cell_type": "code",
   "execution_count": 130,
   "id": "14df94b4",
   "metadata": {},
   "outputs": [
    {
     "name": "stdout",
     "output_type": "stream",
     "text": [
      "Archive:  titanic.zip\r\n",
      "  inflating: train_and_test2.csv     \r\n"
     ]
    }
   ],
   "source": [
    "!unzip titanic.zip"
   ]
  },
  {
   "cell_type": "code",
   "execution_count": 133,
   "id": "c7545f60",
   "metadata": {},
   "outputs": [
    {
     "data": {
      "text/html": [
       "<div>\n",
       "<style scoped>\n",
       "    .dataframe tbody tr th:only-of-type {\n",
       "        vertical-align: middle;\n",
       "    }\n",
       "\n",
       "    .dataframe tbody tr th {\n",
       "        vertical-align: top;\n",
       "    }\n",
       "\n",
       "    .dataframe thead th {\n",
       "        text-align: right;\n",
       "    }\n",
       "</style>\n",
       "<table border=\"1\" class=\"dataframe\">\n",
       "  <thead>\n",
       "    <tr style=\"text-align: right;\">\n",
       "      <th></th>\n",
       "      <th>Passengerid</th>\n",
       "      <th>Age</th>\n",
       "      <th>Fare</th>\n",
       "      <th>Sex</th>\n",
       "      <th>sibsp</th>\n",
       "      <th>zero</th>\n",
       "      <th>zero.1</th>\n",
       "      <th>zero.2</th>\n",
       "      <th>zero.3</th>\n",
       "      <th>zero.4</th>\n",
       "      <th>...</th>\n",
       "      <th>zero.12</th>\n",
       "      <th>zero.13</th>\n",
       "      <th>zero.14</th>\n",
       "      <th>Pclass</th>\n",
       "      <th>zero.15</th>\n",
       "      <th>zero.16</th>\n",
       "      <th>Embarked</th>\n",
       "      <th>zero.17</th>\n",
       "      <th>zero.18</th>\n",
       "      <th>2urvived</th>\n",
       "    </tr>\n",
       "  </thead>\n",
       "  <tbody>\n",
       "    <tr>\n",
       "      <th>0</th>\n",
       "      <td>1</td>\n",
       "      <td>22.0</td>\n",
       "      <td>7.2500</td>\n",
       "      <td>0</td>\n",
       "      <td>1</td>\n",
       "      <td>0</td>\n",
       "      <td>0</td>\n",
       "      <td>0</td>\n",
       "      <td>0</td>\n",
       "      <td>0</td>\n",
       "      <td>...</td>\n",
       "      <td>0</td>\n",
       "      <td>0</td>\n",
       "      <td>0</td>\n",
       "      <td>3</td>\n",
       "      <td>0</td>\n",
       "      <td>0</td>\n",
       "      <td>2.0</td>\n",
       "      <td>0</td>\n",
       "      <td>0</td>\n",
       "      <td>0</td>\n",
       "    </tr>\n",
       "    <tr>\n",
       "      <th>1</th>\n",
       "      <td>2</td>\n",
       "      <td>38.0</td>\n",
       "      <td>71.2833</td>\n",
       "      <td>1</td>\n",
       "      <td>1</td>\n",
       "      <td>0</td>\n",
       "      <td>0</td>\n",
       "      <td>0</td>\n",
       "      <td>0</td>\n",
       "      <td>0</td>\n",
       "      <td>...</td>\n",
       "      <td>0</td>\n",
       "      <td>0</td>\n",
       "      <td>0</td>\n",
       "      <td>1</td>\n",
       "      <td>0</td>\n",
       "      <td>0</td>\n",
       "      <td>0.0</td>\n",
       "      <td>0</td>\n",
       "      <td>0</td>\n",
       "      <td>1</td>\n",
       "    </tr>\n",
       "    <tr>\n",
       "      <th>2</th>\n",
       "      <td>3</td>\n",
       "      <td>26.0</td>\n",
       "      <td>7.9250</td>\n",
       "      <td>1</td>\n",
       "      <td>0</td>\n",
       "      <td>0</td>\n",
       "      <td>0</td>\n",
       "      <td>0</td>\n",
       "      <td>0</td>\n",
       "      <td>0</td>\n",
       "      <td>...</td>\n",
       "      <td>0</td>\n",
       "      <td>0</td>\n",
       "      <td>0</td>\n",
       "      <td>3</td>\n",
       "      <td>0</td>\n",
       "      <td>0</td>\n",
       "      <td>2.0</td>\n",
       "      <td>0</td>\n",
       "      <td>0</td>\n",
       "      <td>1</td>\n",
       "    </tr>\n",
       "    <tr>\n",
       "      <th>3</th>\n",
       "      <td>4</td>\n",
       "      <td>35.0</td>\n",
       "      <td>53.1000</td>\n",
       "      <td>1</td>\n",
       "      <td>1</td>\n",
       "      <td>0</td>\n",
       "      <td>0</td>\n",
       "      <td>0</td>\n",
       "      <td>0</td>\n",
       "      <td>0</td>\n",
       "      <td>...</td>\n",
       "      <td>0</td>\n",
       "      <td>0</td>\n",
       "      <td>0</td>\n",
       "      <td>1</td>\n",
       "      <td>0</td>\n",
       "      <td>0</td>\n",
       "      <td>2.0</td>\n",
       "      <td>0</td>\n",
       "      <td>0</td>\n",
       "      <td>1</td>\n",
       "    </tr>\n",
       "    <tr>\n",
       "      <th>4</th>\n",
       "      <td>5</td>\n",
       "      <td>35.0</td>\n",
       "      <td>8.0500</td>\n",
       "      <td>0</td>\n",
       "      <td>0</td>\n",
       "      <td>0</td>\n",
       "      <td>0</td>\n",
       "      <td>0</td>\n",
       "      <td>0</td>\n",
       "      <td>0</td>\n",
       "      <td>...</td>\n",
       "      <td>0</td>\n",
       "      <td>0</td>\n",
       "      <td>0</td>\n",
       "      <td>3</td>\n",
       "      <td>0</td>\n",
       "      <td>0</td>\n",
       "      <td>2.0</td>\n",
       "      <td>0</td>\n",
       "      <td>0</td>\n",
       "      <td>0</td>\n",
       "    </tr>\n",
       "  </tbody>\n",
       "</table>\n",
       "<p>5 rows × 28 columns</p>\n",
       "</div>"
      ],
      "text/plain": [
       "   Passengerid   Age     Fare  Sex  sibsp  zero  zero.1  zero.2  zero.3   \n",
       "0            1  22.0   7.2500    0      1     0       0       0       0  \\\n",
       "1            2  38.0  71.2833    1      1     0       0       0       0   \n",
       "2            3  26.0   7.9250    1      0     0       0       0       0   \n",
       "3            4  35.0  53.1000    1      1     0       0       0       0   \n",
       "4            5  35.0   8.0500    0      0     0       0       0       0   \n",
       "\n",
       "   zero.4  ...  zero.12  zero.13  zero.14  Pclass  zero.15  zero.16  Embarked   \n",
       "0       0  ...        0        0        0       3        0        0       2.0  \\\n",
       "1       0  ...        0        0        0       1        0        0       0.0   \n",
       "2       0  ...        0        0        0       3        0        0       2.0   \n",
       "3       0  ...        0        0        0       1        0        0       2.0   \n",
       "4       0  ...        0        0        0       3        0        0       2.0   \n",
       "\n",
       "   zero.17  zero.18  2urvived  \n",
       "0        0        0         0  \n",
       "1        0        0         1  \n",
       "2        0        0         1  \n",
       "3        0        0         1  \n",
       "4        0        0         0  \n",
       "\n",
       "[5 rows x 28 columns]"
      ]
     },
     "execution_count": 133,
     "metadata": {},
     "output_type": "execute_result"
    }
   ],
   "source": [
    "df = pd.read_csv(\"train_and_test2.csv\")\n",
    "df.head(5)"
   ]
  },
  {
   "cell_type": "code",
   "execution_count": 135,
   "id": "15577721",
   "metadata": {},
   "outputs": [
    {
     "data": {
      "text/html": [
       "<div>\n",
       "<style scoped>\n",
       "    .dataframe tbody tr th:only-of-type {\n",
       "        vertical-align: middle;\n",
       "    }\n",
       "\n",
       "    .dataframe tbody tr th {\n",
       "        vertical-align: top;\n",
       "    }\n",
       "\n",
       "    .dataframe thead th {\n",
       "        text-align: right;\n",
       "    }\n",
       "</style>\n",
       "<table border=\"1\" class=\"dataframe\">\n",
       "  <thead>\n",
       "    <tr style=\"text-align: right;\">\n",
       "      <th></th>\n",
       "      <th>Passengerid</th>\n",
       "      <th>Age</th>\n",
       "      <th>Fare</th>\n",
       "      <th>Sex</th>\n",
       "      <th>sibsp</th>\n",
       "      <th>Parch</th>\n",
       "      <th>Pclass</th>\n",
       "      <th>Embarked</th>\n",
       "      <th>2urvived</th>\n",
       "    </tr>\n",
       "  </thead>\n",
       "  <tbody>\n",
       "    <tr>\n",
       "      <th>0</th>\n",
       "      <td>1</td>\n",
       "      <td>22.0</td>\n",
       "      <td>7.2500</td>\n",
       "      <td>0</td>\n",
       "      <td>1</td>\n",
       "      <td>0</td>\n",
       "      <td>3</td>\n",
       "      <td>2.0</td>\n",
       "      <td>0</td>\n",
       "    </tr>\n",
       "    <tr>\n",
       "      <th>1</th>\n",
       "      <td>2</td>\n",
       "      <td>38.0</td>\n",
       "      <td>71.2833</td>\n",
       "      <td>1</td>\n",
       "      <td>1</td>\n",
       "      <td>0</td>\n",
       "      <td>1</td>\n",
       "      <td>0.0</td>\n",
       "      <td>1</td>\n",
       "    </tr>\n",
       "    <tr>\n",
       "      <th>2</th>\n",
       "      <td>3</td>\n",
       "      <td>26.0</td>\n",
       "      <td>7.9250</td>\n",
       "      <td>1</td>\n",
       "      <td>0</td>\n",
       "      <td>0</td>\n",
       "      <td>3</td>\n",
       "      <td>2.0</td>\n",
       "      <td>1</td>\n",
       "    </tr>\n",
       "    <tr>\n",
       "      <th>3</th>\n",
       "      <td>4</td>\n",
       "      <td>35.0</td>\n",
       "      <td>53.1000</td>\n",
       "      <td>1</td>\n",
       "      <td>1</td>\n",
       "      <td>0</td>\n",
       "      <td>1</td>\n",
       "      <td>2.0</td>\n",
       "      <td>1</td>\n",
       "    </tr>\n",
       "    <tr>\n",
       "      <th>4</th>\n",
       "      <td>5</td>\n",
       "      <td>35.0</td>\n",
       "      <td>8.0500</td>\n",
       "      <td>0</td>\n",
       "      <td>0</td>\n",
       "      <td>0</td>\n",
       "      <td>3</td>\n",
       "      <td>2.0</td>\n",
       "      <td>0</td>\n",
       "    </tr>\n",
       "  </tbody>\n",
       "</table>\n",
       "</div>"
      ],
      "text/plain": [
       "   Passengerid   Age     Fare  Sex  sibsp  Parch  Pclass  Embarked  2urvived\n",
       "0            1  22.0   7.2500    0      1      0       3       2.0         0\n",
       "1            2  38.0  71.2833    1      1      0       1       0.0         1\n",
       "2            3  26.0   7.9250    1      0      0       3       2.0         1\n",
       "3            4  35.0  53.1000    1      1      0       1       2.0         1\n",
       "4            5  35.0   8.0500    0      0      0       3       2.0         0"
      ]
     },
     "execution_count": 135,
     "metadata": {},
     "output_type": "execute_result"
    }
   ],
   "source": [
    "# 모든 요소가 0인 칼럼을 제거한다.\n",
    "zero_columns = df.columns[(df==0).all()]\n",
    "df = df.drop(zero_columns, axis=1)\n",
    "df.head(5)"
   ]
  },
  {
   "cell_type": "code",
   "execution_count": 137,
   "id": "4a7547f9",
   "metadata": {},
   "outputs": [
    {
     "data": {
      "text/plain": [
       "<Axes: xlabel='Sex', ylabel='count'>"
      ]
     },
     "execution_count": 137,
     "metadata": {},
     "output_type": "execute_result"
    },
    {
     "data": {
      "image/png": "[encoded data removed]",
      "text/plain": [
       "<Figure size 640x480 with 1 Axes>"
      ]
     },
     "metadata": {},
     "output_type": "display_data"
    }
   ],
   "source": [
    "# Seaborn으로 데이터 세트 미리보기\n",
    "sbn.countplot(x=\"Sex\", hue=\"2urvived\", data=df)"
   ]
  },
  {
   "cell_type": "code",
   "execution_count": 138,
   "id": "7b15a559",
   "metadata": {},
   "outputs": [
    {
     "data": {
      "text/plain": [
       "<Axes: xlabel='2urvived', ylabel='count'>"
      ]
     },
     "execution_count": 138,
     "metadata": {},
     "output_type": "execute_result"
    },
    {
     "data": {
      "image/png": "[encoded data removed]",
      "text/plain": [
       "<Figure size 640x480 with 1 Axes>"
      ]
     },
     "metadata": {},
     "output_type": "display_data"
    }
   ],
   "source": [
    " sbn.countplot(x=df[\"2urvived\"])"
   ]
  },
  {
   "cell_type": "code",
   "execution_count": 139,
   "id": "e753024c",
   "metadata": {},
   "outputs": [
    {
     "data": {
      "text/plain": [
       "Passengerid    0\n",
       "Age            0\n",
       "Fare           0\n",
       "Sex            0\n",
       "sibsp          0\n",
       "Parch          0\n",
       "Pclass         0\n",
       "Embarked       2\n",
       "2urvived       0\n",
       "dtype: int64"
      ]
     },
     "execution_count": 139,
     "metadata": {},
     "output_type": "execute_result"
    }
   ],
   "source": [
    "df.isnull().sum()"
   ]
  },
  {
   "cell_type": "code",
   "execution_count": 140,
   "id": "9fd65608",
   "metadata": {},
   "outputs": [
    {
     "name": "stdout",
     "output_type": "stream",
     "text": [
      "1309\n",
      "1307\n"
     ]
    }
   ],
   "source": [
    "print(len(df))\n",
    "df = df.dropna()\n",
    "print(len(df))"
   ]
  },
  {
   "cell_type": "code",
   "execution_count": 152,
   "id": "12fa9875",
   "metadata": {},
   "outputs": [
    {
     "data": {
      "text/html": [
       "<div>\n",
       "<style scoped>\n",
       "    .dataframe tbody tr th:only-of-type {\n",
       "        vertical-align: middle;\n",
       "    }\n",
       "\n",
       "    .dataframe tbody tr th {\n",
       "        vertical-align: top;\n",
       "    }\n",
       "\n",
       "    .dataframe thead th {\n",
       "        text-align: right;\n",
       "    }\n",
       "</style>\n",
       "<table border=\"1\" class=\"dataframe\">\n",
       "  <thead>\n",
       "    <tr style=\"text-align: right;\">\n",
       "      <th></th>\n",
       "      <th>Age</th>\n",
       "      <th>Fare</th>\n",
       "      <th>Sex</th>\n",
       "      <th>sibsp</th>\n",
       "      <th>Parch</th>\n",
       "      <th>Pclass</th>\n",
       "      <th>Embarked</th>\n",
       "    </tr>\n",
       "  </thead>\n",
       "  <tbody>\n",
       "    <tr>\n",
       "      <th>0</th>\n",
       "      <td>22.0</td>\n",
       "      <td>7.250000</td>\n",
       "      <td>0.0</td>\n",
       "      <td>1.0</td>\n",
       "      <td>0.0</td>\n",
       "      <td>3.0</td>\n",
       "      <td>2.0</td>\n",
       "    </tr>\n",
       "    <tr>\n",
       "      <th>1</th>\n",
       "      <td>38.0</td>\n",
       "      <td>71.283302</td>\n",
       "      <td>1.0</td>\n",
       "      <td>1.0</td>\n",
       "      <td>0.0</td>\n",
       "      <td>1.0</td>\n",
       "      <td>0.0</td>\n",
       "    </tr>\n",
       "    <tr>\n",
       "      <th>2</th>\n",
       "      <td>26.0</td>\n",
       "      <td>7.925000</td>\n",
       "      <td>1.0</td>\n",
       "      <td>0.0</td>\n",
       "      <td>0.0</td>\n",
       "      <td>3.0</td>\n",
       "      <td>2.0</td>\n",
       "    </tr>\n",
       "    <tr>\n",
       "      <th>3</th>\n",
       "      <td>35.0</td>\n",
       "      <td>53.099998</td>\n",
       "      <td>1.0</td>\n",
       "      <td>1.0</td>\n",
       "      <td>0.0</td>\n",
       "      <td>1.0</td>\n",
       "      <td>2.0</td>\n",
       "    </tr>\n",
       "    <tr>\n",
       "      <th>4</th>\n",
       "      <td>35.0</td>\n",
       "      <td>8.050000</td>\n",
       "      <td>0.0</td>\n",
       "      <td>0.0</td>\n",
       "      <td>0.0</td>\n",
       "      <td>3.0</td>\n",
       "      <td>2.0</td>\n",
       "    </tr>\n",
       "  </tbody>\n",
       "</table>\n",
       "</div>"
      ],
      "text/plain": [
       "    Age       Fare  Sex  sibsp  Parch  Pclass  Embarked\n",
       "0  22.0   7.250000  0.0    1.0    0.0     3.0       2.0\n",
       "1  38.0  71.283302  1.0    1.0    0.0     1.0       0.0\n",
       "2  26.0   7.925000  1.0    0.0    0.0     3.0       2.0\n",
       "3  35.0  53.099998  1.0    1.0    0.0     1.0       2.0\n",
       "4  35.0   8.050000  0.0    0.0    0.0     3.0       2.0"
      ]
     },
     "execution_count": 152,
     "metadata": {},
     "output_type": "execute_result"
    }
   ],
   "source": [
    "x_data = df.drop(columns=[\"Passengerid\", \"2urvived\"], axis=1)\n",
    "x_data = x_data.astype(np.float32)\n",
    "\n",
    "x_data.head()"
   ]
  },
  {
   "cell_type": "code",
   "execution_count": 149,
   "id": "c13f4cd3",
   "metadata": {},
   "outputs": [
    {
     "data": {
      "text/html": [
       "<div>\n",
       "<style scoped>\n",
       "    .dataframe tbody tr th:only-of-type {\n",
       "        vertical-align: middle;\n",
       "    }\n",
       "\n",
       "    .dataframe tbody tr th {\n",
       "        vertical-align: top;\n",
       "    }\n",
       "\n",
       "    .dataframe thead th {\n",
       "        text-align: right;\n",
       "    }\n",
       "</style>\n",
       "<table border=\"1\" class=\"dataframe\">\n",
       "  <thead>\n",
       "    <tr style=\"text-align: right;\">\n",
       "      <th></th>\n",
       "      <th>2urvived</th>\n",
       "    </tr>\n",
       "  </thead>\n",
       "  <tbody>\n",
       "    <tr>\n",
       "      <th>0</th>\n",
       "      <td>0.0</td>\n",
       "    </tr>\n",
       "    <tr>\n",
       "      <th>1</th>\n",
       "      <td>1.0</td>\n",
       "    </tr>\n",
       "    <tr>\n",
       "      <th>2</th>\n",
       "      <td>1.0</td>\n",
       "    </tr>\n",
       "    <tr>\n",
       "      <th>3</th>\n",
       "      <td>1.0</td>\n",
       "    </tr>\n",
       "    <tr>\n",
       "      <th>4</th>\n",
       "      <td>0.0</td>\n",
       "    </tr>\n",
       "  </tbody>\n",
       "</table>\n",
       "</div>"
      ],
      "text/plain": [
       "   2urvived\n",
       "0       0.0\n",
       "1       1.0\n",
       "2       1.0\n",
       "3       1.0\n",
       "4       0.0"
      ]
     },
     "execution_count": 149,
     "metadata": {},
     "output_type": "execute_result"
    }
   ],
   "source": [
    "y_data = df[[\"2urvived\"]]\n",
    "y_data = y_data.astype(np.float32)\n",
    "\n",
    "y_data.head(5)"
   ]
  },
  {
   "cell_type": "code",
   "execution_count": 157,
   "id": "bd72c26a",
   "metadata": {},
   "outputs": [
    {
     "data": {
      "text/plain": [
       "array([[-0.58026063, -0.5018386 , -0.74189967, ..., -0.44540733,\n",
       "         0.8404475 ,  0.6229398 ],\n",
       "       [ 0.6622973 ,  0.73602295,  1.3478911 , ..., -0.44540733,\n",
       "        -1.5501181 , -1.8331156 ],\n",
       "       [-0.2696212 , -0.48878986,  1.3478911 , ..., -0.44540733,\n",
       "         0.8404475 ,  0.6229398 ],\n",
       "       ...,\n",
       "       [ 0.70112723, -0.5018386 , -0.74189967, ..., -0.44540733,\n",
       "         0.8404475 ,  0.6229398 ],\n",
       "       [-0.11430143, -0.48637342, -0.74189967, ..., -0.44540733,\n",
       "         0.8404475 ,  0.6229398 ],\n",
       "       [-0.11430143, -0.20977214, -0.74189967, ...,  0.70964706,\n",
       "         0.8404475 , -1.8331156 ]], dtype=float32)"
      ]
     },
     "execution_count": 157,
     "metadata": {},
     "output_type": "execute_result"
    }
   ],
   "source": [
    "# standardization\n",
    "from sklearn.preprocessing import StandardScaler\n",
    "scaler = StandardScaler()\n",
    "x_data_scaled = scaler.fit_transform(x_data)\n",
    "\n",
    "x_data_scaled"
   ]
  },
  {
   "cell_type": "code",
   "execution_count": 160,
   "id": "b3323f90",
   "metadata": {},
   "outputs": [
    {
     "data": {
      "text/plain": [
       "((1045, 7), (262, 7), (1045, 1), (262, 1))"
      ]
     },
     "execution_count": 160,
     "metadata": {},
     "output_type": "execute_result"
    }
   ],
   "source": [
    "x_train, x_val, y_train, y_val = train_test_split(x_data_scaled, y_data,\n",
    "                                                  test_size=0.2,\n",
    "                                                  random_state=77 )\n",
    "x_train.shape, x_val.shape, y_train.shape, y_val.shape"
   ]
  },
  {
   "cell_type": "code",
   "execution_count": 165,
   "id": "5e5aa6da",
   "metadata": {},
   "outputs": [
    {
     "name": "stdout",
     "output_type": "stream",
     "text": [
      "Epoch 1/50\n",
      "33/33 [==============================] - 0s 4ms/step - loss: 0.6957 - acc: 0.6593 - val_loss: 0.6523 - val_acc: 0.6679\n",
      "Epoch 2/50\n",
      "33/33 [==============================] - 0s 2ms/step - loss: 0.5901 - acc: 0.7167 - val_loss: 0.5438 - val_acc: 0.7481\n",
      "Epoch 3/50\n",
      "33/33 [==============================] - 0s 2ms/step - loss: 0.5321 - acc: 0.7464 - val_loss: 0.4945 - val_acc: 0.7672\n",
      "Epoch 4/50\n",
      "33/33 [==============================] - 0s 2ms/step - loss: 0.5051 - acc: 0.7646 - val_loss: 0.4663 - val_acc: 0.7863\n",
      "Epoch 5/50\n",
      "33/33 [==============================] - 0s 1ms/step - loss: 0.4895 - acc: 0.7684 - val_loss: 0.4537 - val_acc: 0.7939\n",
      "Epoch 6/50\n",
      "33/33 [==============================] - 0s 2ms/step - loss: 0.4808 - acc: 0.7780 - val_loss: 0.4458 - val_acc: 0.7939\n",
      "Epoch 7/50\n",
      "33/33 [==============================] - 0s 2ms/step - loss: 0.4761 - acc: 0.7780 - val_loss: 0.4420 - val_acc: 0.8053\n",
      "Epoch 8/50\n",
      "33/33 [==============================] - 0s 2ms/step - loss: 0.4728 - acc: 0.7770 - val_loss: 0.4396 - val_acc: 0.7939\n",
      "Epoch 9/50\n",
      "33/33 [==============================] - 0s 2ms/step - loss: 0.4714 - acc: 0.7809 - val_loss: 0.4380 - val_acc: 0.7977\n",
      "Epoch 10/50\n",
      "33/33 [==============================] - 0s 2ms/step - loss: 0.4703 - acc: 0.7780 - val_loss: 0.4373 - val_acc: 0.7977\n",
      "Epoch 11/50\n",
      "33/33 [==============================] - 0s 2ms/step - loss: 0.4698 - acc: 0.7780 - val_loss: 0.4372 - val_acc: 0.7977\n",
      "Epoch 12/50\n",
      "33/33 [==============================] - 0s 2ms/step - loss: 0.4698 - acc: 0.7780 - val_loss: 0.4369 - val_acc: 0.7977\n",
      "Epoch 13/50\n",
      "33/33 [==============================] - 0s 2ms/step - loss: 0.4693 - acc: 0.7818 - val_loss: 0.4356 - val_acc: 0.7939\n",
      "Epoch 14/50\n",
      "33/33 [==============================] - 0s 2ms/step - loss: 0.4698 - acc: 0.7828 - val_loss: 0.4358 - val_acc: 0.7977\n",
      "Epoch 15/50\n",
      "33/33 [==============================] - 0s 2ms/step - loss: 0.4691 - acc: 0.7799 - val_loss: 0.4361 - val_acc: 0.7977\n",
      "Epoch 16/50\n",
      "33/33 [==============================] - 0s 2ms/step - loss: 0.4695 - acc: 0.7799 - val_loss: 0.4358 - val_acc: 0.7977\n",
      "Epoch 17/50\n",
      "33/33 [==============================] - 0s 2ms/step - loss: 0.4690 - acc: 0.7799 - val_loss: 0.4355 - val_acc: 0.7939\n",
      "Epoch 18/50\n",
      "33/33 [==============================] - 0s 2ms/step - loss: 0.4695 - acc: 0.7856 - val_loss: 0.4359 - val_acc: 0.7939\n",
      "Epoch 19/50\n",
      "33/33 [==============================] - 0s 2ms/step - loss: 0.4695 - acc: 0.7780 - val_loss: 0.4365 - val_acc: 0.7977\n",
      "Epoch 20/50\n",
      "33/33 [==============================] - 0s 2ms/step - loss: 0.4688 - acc: 0.7809 - val_loss: 0.4365 - val_acc: 0.7901\n",
      "Epoch 21/50\n",
      "33/33 [==============================] - 0s 2ms/step - loss: 0.4696 - acc: 0.7818 - val_loss: 0.4361 - val_acc: 0.7939\n",
      "Epoch 22/50\n",
      "33/33 [==============================] - 0s 2ms/step - loss: 0.4701 - acc: 0.7866 - val_loss: 0.4352 - val_acc: 0.7901\n",
      "Epoch 23/50\n",
      "33/33 [==============================] - 0s 2ms/step - loss: 0.4693 - acc: 0.7799 - val_loss: 0.4358 - val_acc: 0.7977\n",
      "Epoch 24/50\n",
      "33/33 [==============================] - 0s 2ms/step - loss: 0.4691 - acc: 0.7770 - val_loss: 0.4362 - val_acc: 0.7977\n",
      "Epoch 25/50\n",
      "33/33 [==============================] - 0s 2ms/step - loss: 0.4693 - acc: 0.7780 - val_loss: 0.4361 - val_acc: 0.7939\n",
      "Epoch 26/50\n",
      "33/33 [==============================] - 0s 2ms/step - loss: 0.4694 - acc: 0.7866 - val_loss: 0.4351 - val_acc: 0.7939\n",
      "Epoch 27/50\n",
      "33/33 [==============================] - 0s 2ms/step - loss: 0.4696 - acc: 0.7818 - val_loss: 0.4356 - val_acc: 0.7977\n",
      "Epoch 28/50\n",
      "33/33 [==============================] - 0s 2ms/step - loss: 0.4695 - acc: 0.7866 - val_loss: 0.4357 - val_acc: 0.7939\n",
      "Epoch 29/50\n",
      "33/33 [==============================] - 0s 2ms/step - loss: 0.4690 - acc: 0.7828 - val_loss: 0.4357 - val_acc: 0.7977\n",
      "Epoch 30/50\n",
      "33/33 [==============================] - 0s 2ms/step - loss: 0.4693 - acc: 0.7837 - val_loss: 0.4355 - val_acc: 0.7977\n",
      "Epoch 31/50\n",
      "33/33 [==============================] - 0s 2ms/step - loss: 0.4696 - acc: 0.7856 - val_loss: 0.4365 - val_acc: 0.7939\n",
      "Epoch 32/50\n",
      "33/33 [==============================] - 0s 2ms/step - loss: 0.4695 - acc: 0.7866 - val_loss: 0.4349 - val_acc: 0.7977\n",
      "Epoch 33/50\n",
      "33/33 [==============================] - 0s 2ms/step - loss: 0.4694 - acc: 0.7856 - val_loss: 0.4352 - val_acc: 0.7939\n",
      "Epoch 34/50\n",
      "33/33 [==============================] - 0s 2ms/step - loss: 0.4697 - acc: 0.7789 - val_loss: 0.4362 - val_acc: 0.7977\n",
      "Epoch 35/50\n",
      "33/33 [==============================] - 0s 2ms/step - loss: 0.4704 - acc: 0.7761 - val_loss: 0.4358 - val_acc: 0.7939\n",
      "Epoch 36/50\n",
      "33/33 [==============================] - 0s 2ms/step - loss: 0.4688 - acc: 0.7799 - val_loss: 0.4356 - val_acc: 0.7939\n",
      "Epoch 37/50\n",
      "33/33 [==============================] - 0s 2ms/step - loss: 0.4691 - acc: 0.7847 - val_loss: 0.4349 - val_acc: 0.7939\n",
      "Epoch 38/50\n",
      "33/33 [==============================] - 0s 2ms/step - loss: 0.4691 - acc: 0.7828 - val_loss: 0.4359 - val_acc: 0.7939\n",
      "Epoch 39/50\n",
      "33/33 [==============================] - 0s 2ms/step - loss: 0.4697 - acc: 0.7828 - val_loss: 0.4352 - val_acc: 0.7939\n",
      "Epoch 40/50\n",
      "33/33 [==============================] - 0s 2ms/step - loss: 0.4697 - acc: 0.7809 - val_loss: 0.4352 - val_acc: 0.7977\n",
      "Epoch 41/50\n",
      "33/33 [==============================] - 0s 2ms/step - loss: 0.4694 - acc: 0.7818 - val_loss: 0.4364 - val_acc: 0.7901\n",
      "Epoch 42/50\n",
      "33/33 [==============================] - 0s 2ms/step - loss: 0.4697 - acc: 0.7837 - val_loss: 0.4364 - val_acc: 0.7939\n",
      "Epoch 43/50\n",
      "33/33 [==============================] - 0s 2ms/step - loss: 0.4696 - acc: 0.7809 - val_loss: 0.4357 - val_acc: 0.7939\n",
      "Epoch 44/50\n",
      "33/33 [==============================] - 0s 2ms/step - loss: 0.4692 - acc: 0.7856 - val_loss: 0.4363 - val_acc: 0.7939\n",
      "Epoch 45/50\n",
      "33/33 [==============================] - 0s 2ms/step - loss: 0.4694 - acc: 0.7837 - val_loss: 0.4358 - val_acc: 0.7939\n",
      "Epoch 46/50\n",
      "33/33 [==============================] - 0s 1ms/step - loss: 0.4698 - acc: 0.7866 - val_loss: 0.4361 - val_acc: 0.7901\n",
      "Epoch 47/50\n",
      "33/33 [==============================] - 0s 1ms/step - loss: 0.4701 - acc: 0.7828 - val_loss: 0.4359 - val_acc: 0.7939\n",
      "Epoch 48/50\n",
      "33/33 [==============================] - 0s 1ms/step - loss: 0.4697 - acc: 0.7789 - val_loss: 0.4360 - val_acc: 0.7977\n",
      "Epoch 49/50\n",
      "33/33 [==============================] - 0s 2ms/step - loss: 0.4698 - acc: 0.7761 - val_loss: 0.4359 - val_acc: 0.7977\n",
      "Epoch 50/50\n",
      "33/33 [==============================] - 0s 1ms/step - loss: 0.4692 - acc: 0.7828 - val_loss: 0.4352 - val_acc: 0.7977\n"
     ]
    },
    {
     "data": {
      "text/plain": [
       "<keras.callbacks.History at 0x7f795984f0a0>"
      ]
     },
     "execution_count": 165,
     "metadata": {},
     "output_type": "execute_result"
    }
   ],
   "source": [
    "model = tf.keras.Sequential()\n",
    "model.add(tf.keras.layers.Dense(1, activation=\"sigmoid\"))\n",
    "\n",
    "model.compile(loss=tf.keras.losses.binary_crossentropy,\n",
    "            optimizer=tf.keras.optimizers.Adam(learning_rate=0.01),\n",
    "             metrics=[\"acc\"])\n",
    "\n",
    "model.fit(x_train, y_train, validation_data=(x_val, y_val), epochs=50)"
   ]
  },
  {
   "attachments": {},
   "cell_type": "markdown",
   "id": "d4417396",
   "metadata": {},
   "source": [
    "### Multinomial Logistic Regression"
   ]
  },
  {
   "cell_type": "code",
   "execution_count": 166,
   "id": "db66a6ee",
   "metadata": {},
   "outputs": [
    {
     "name": "stdout",
     "output_type": "stream",
     "text": [
      "Downloading wineuci.zip to /home/recona97/here/ml\r\n",
      "\r\n",
      "  0%|                                               | 0.00/4.20k [00:00<?, ?B/s]\r\n",
      "\r\n",
      "100%|██████████████████████████████████████| 4.20k/4.20k [00:00<00:00, 14.9MB/s]\r\n"
     ]
    }
   ],
   "source": [
    "!kaggle datasets download -d brynja/wineuci"
   ]
  },
  {
   "cell_type": "code",
   "execution_count": 167,
   "id": "c6f4da16",
   "metadata": {},
   "outputs": [
    {
     "name": "stdout",
     "output_type": "stream",
     "text": [
      "Archive:  wineuci.zip\r\n",
      "  inflating: Wine.csv                \r\n"
     ]
    }
   ],
   "source": [
    "!unzip wineuci"
   ]
  },
  {
   "cell_type": "code",
   "execution_count": 170,
   "id": "cd2b35c0",
   "metadata": {},
   "outputs": [
    {
     "data": {
      "text/html": [
       "<div>\n",
       "<style scoped>\n",
       "    .dataframe tbody tr th:only-of-type {\n",
       "        vertical-align: middle;\n",
       "    }\n",
       "\n",
       "    .dataframe tbody tr th {\n",
       "        vertical-align: top;\n",
       "    }\n",
       "\n",
       "    .dataframe thead th {\n",
       "        text-align: right;\n",
       "    }\n",
       "</style>\n",
       "<table border=\"1\" class=\"dataframe\">\n",
       "  <thead>\n",
       "    <tr style=\"text-align: right;\">\n",
       "      <th></th>\n",
       "      <th>Class</th>\n",
       "      <th>Alcohol</th>\n",
       "      <th>Malic acid</th>\n",
       "      <th>Ash</th>\n",
       "      <th>Alcalinity of ash</th>\n",
       "      <th>Magnesium</th>\n",
       "      <th>Total phenols</th>\n",
       "      <th>Flavanoids</th>\n",
       "      <th>Nonflavanoid phenols</th>\n",
       "      <th>Proanthocyanins</th>\n",
       "      <th>Color intensity</th>\n",
       "      <th>Hue</th>\n",
       "      <th>OD280/OD315 of diluted wines</th>\n",
       "      <th>Proline</th>\n",
       "    </tr>\n",
       "  </thead>\n",
       "  <tbody>\n",
       "    <tr>\n",
       "      <th>0</th>\n",
       "      <td>1</td>\n",
       "      <td>14.23</td>\n",
       "      <td>1.71</td>\n",
       "      <td>2.43</td>\n",
       "      <td>15.6</td>\n",
       "      <td>127</td>\n",
       "      <td>2.80</td>\n",
       "      <td>3.06</td>\n",
       "      <td>0.28</td>\n",
       "      <td>2.29</td>\n",
       "      <td>5.64</td>\n",
       "      <td>1.04</td>\n",
       "      <td>3.92</td>\n",
       "      <td>1065</td>\n",
       "    </tr>\n",
       "    <tr>\n",
       "      <th>1</th>\n",
       "      <td>1</td>\n",
       "      <td>13.20</td>\n",
       "      <td>1.78</td>\n",
       "      <td>2.14</td>\n",
       "      <td>11.2</td>\n",
       "      <td>100</td>\n",
       "      <td>2.65</td>\n",
       "      <td>2.76</td>\n",
       "      <td>0.26</td>\n",
       "      <td>1.28</td>\n",
       "      <td>4.38</td>\n",
       "      <td>1.05</td>\n",
       "      <td>3.40</td>\n",
       "      <td>1050</td>\n",
       "    </tr>\n",
       "    <tr>\n",
       "      <th>2</th>\n",
       "      <td>1</td>\n",
       "      <td>13.16</td>\n",
       "      <td>2.36</td>\n",
       "      <td>2.67</td>\n",
       "      <td>18.6</td>\n",
       "      <td>101</td>\n",
       "      <td>2.80</td>\n",
       "      <td>3.24</td>\n",
       "      <td>0.30</td>\n",
       "      <td>2.81</td>\n",
       "      <td>5.68</td>\n",
       "      <td>1.03</td>\n",
       "      <td>3.17</td>\n",
       "      <td>1185</td>\n",
       "    </tr>\n",
       "    <tr>\n",
       "      <th>3</th>\n",
       "      <td>1</td>\n",
       "      <td>14.37</td>\n",
       "      <td>1.95</td>\n",
       "      <td>2.50</td>\n",
       "      <td>16.8</td>\n",
       "      <td>113</td>\n",
       "      <td>3.85</td>\n",
       "      <td>3.49</td>\n",
       "      <td>0.24</td>\n",
       "      <td>2.18</td>\n",
       "      <td>7.80</td>\n",
       "      <td>0.86</td>\n",
       "      <td>3.45</td>\n",
       "      <td>1480</td>\n",
       "    </tr>\n",
       "    <tr>\n",
       "      <th>4</th>\n",
       "      <td>1</td>\n",
       "      <td>13.24</td>\n",
       "      <td>2.59</td>\n",
       "      <td>2.87</td>\n",
       "      <td>21.0</td>\n",
       "      <td>118</td>\n",
       "      <td>2.80</td>\n",
       "      <td>2.69</td>\n",
       "      <td>0.39</td>\n",
       "      <td>1.82</td>\n",
       "      <td>4.32</td>\n",
       "      <td>1.04</td>\n",
       "      <td>2.93</td>\n",
       "      <td>735</td>\n",
       "    </tr>\n",
       "  </tbody>\n",
       "</table>\n",
       "</div>"
      ],
      "text/plain": [
       "   Class  Alcohol  Malic acid   Ash  Alcalinity of ash  Magnesium   \n",
       "0      1    14.23        1.71  2.43               15.6        127  \\\n",
       "1      1    13.20        1.78  2.14               11.2        100   \n",
       "2      1    13.16        2.36  2.67               18.6        101   \n",
       "3      1    14.37        1.95  2.50               16.8        113   \n",
       "4      1    13.24        2.59  2.87               21.0        118   \n",
       "\n",
       "   Total phenols  Flavanoids  Nonflavanoid phenols  Proanthocyanins   \n",
       "0           2.80        3.06                  0.28             2.29  \\\n",
       "1           2.65        2.76                  0.26             1.28   \n",
       "2           2.80        3.24                  0.30             2.81   \n",
       "3           3.85        3.49                  0.24             2.18   \n",
       "4           2.80        2.69                  0.39             1.82   \n",
       "\n",
       "   Color intensity   Hue  OD280/OD315 of diluted wines  Proline  \n",
       "0             5.64  1.04                          3.92     1065  \n",
       "1             4.38  1.05                          3.40     1050  \n",
       "2             5.68  1.03                          3.17     1185  \n",
       "3             7.80  0.86                          3.45     1480  \n",
       "4             4.32  1.04                          2.93      735  "
      ]
     },
     "execution_count": 170,
     "metadata": {},
     "output_type": "execute_result"
    }
   ],
   "source": [
    "df = pd.read_csv(\"Wine.csv\", names=[\n",
    "    \"Class\",\n",
    "    \"Alcohol\",\n",
    "    \"Malic acid\",\n",
    "    \"Ash\",\n",
    "    \"Alcalinity of ash\",\n",
    "    \"Magnesium\",\n",
    "    \"Total phenols\",\n",
    "    \"Flavanoids\",\n",
    "    \"Nonflavanoid phenols\",\n",
    "    \"Proanthocyanins\",\n",
    "    \"Color intensity\",\n",
    "    \"Hue\",\n",
    "    \"OD280/OD315 of diluted wines\",\n",
    "    \"Proline\",\n",
    "])\n",
    "df.head(5)"
   ]
  },
  {
   "cell_type": "code",
   "execution_count": 175,
   "id": "f0b18495",
   "metadata": {},
   "outputs": [
    {
     "data": {
      "text/plain": [
       "<Axes: xlabel='Class', ylabel='count'>"
      ]
     },
     "execution_count": 175,
     "metadata": {},
     "output_type": "execute_result"
    },
    {
     "data": {
      "image/png": "[encoded data removed]",
      "text/plain": [
       "<Figure size 640x480 with 1 Axes>"
      ]
     },
     "metadata": {},
     "output_type": "display_data"
    }
   ],
   "source": [
    "sbn.countplot(x=df[\"Class\"])"
   ]
  },
  {
   "cell_type": "code",
   "execution_count": 177,
   "id": "ddbc2839",
   "metadata": {},
   "outputs": [
    {
     "data": {
      "text/plain": [
       "Class                           0\n",
       "Alcohol                         0\n",
       "Malic acid                      0\n",
       "Ash                             0\n",
       "Alcalinity of ash               0\n",
       "Magnesium                       0\n",
       "Total phenols                   0\n",
       "Flavanoids                      0\n",
       "Nonflavanoid phenols            0\n",
       "Proanthocyanins                 0\n",
       "Color intensity                 0\n",
       "Hue                             0\n",
       "OD280/OD315 of diluted wines    0\n",
       "Proline                         0\n",
       "dtype: int64"
      ]
     },
     "execution_count": 177,
     "metadata": {},
     "output_type": "execute_result"
    }
   ],
   "source": [
    "df.isnull().sum()"
   ]
  },
  {
   "cell_type": "code",
   "execution_count": 178,
   "id": "5700038e",
   "metadata": {},
   "outputs": [
    {
     "data": {
      "text/plain": [
       "(178, 178)"
      ]
     },
     "execution_count": 178,
     "metadata": {},
     "output_type": "execute_result"
    }
   ],
   "source": [
    "x_data = df.drop(columns=\"Class\")\n",
    "y_data = df[[\"Class\"]]\n",
    "len(x_data), len(y_data)"
   ]
  },
  {
   "cell_type": "code",
   "execution_count": 185,
   "id": "65153227",
   "metadata": {},
   "outputs": [
    {
     "data": {
      "text/plain": [
       "(array([1.423e+01, 1.710e+00, 2.430e+00, 1.560e+01, 1.270e+02, 2.800e+00,\n",
       "        3.060e+00, 2.800e-01, 2.290e+00, 5.640e+00, 1.040e+00, 3.920e+00,\n",
       "        1.065e+03]),\n",
       " array([ 1.51861254, -0.5622498 ,  0.23205254, -1.16959318,  1.91390522,\n",
       "         0.80899739,  1.03481896, -0.65956311,  1.22488398,  0.25171685,\n",
       "         0.36217728,  1.84791957,  1.01300893]))"
      ]
     },
     "execution_count": 185,
     "metadata": {},
     "output_type": "execute_result"
    }
   ],
   "source": [
    "scaler = StandardScaler()\n",
    "x_data_scaled = scaler.fit_transform(x_data)\n",
    "\n",
    "x_data.values[0], x_data_scaled[0]"
   ]
  },
  {
   "cell_type": "code",
   "execution_count": 190,
   "id": "c4e758f6",
   "metadata": {},
   "outputs": [
    {
     "data": {
      "text/plain": [
       "array([[1., 0., 0.],\n",
       "       [1., 0., 0.],\n",
       "       [1., 0., 0.],\n",
       "       [1., 0., 0.],\n",
       "       [1., 0., 0.],\n",
       "       [1., 0., 0.],\n",
       "       [1., 0., 0.],\n",
       "       [1., 0., 0.],\n",
       "       [1., 0., 0.],\n",
       "       [1., 0., 0.],\n",
       "       [1., 0., 0.],\n",
       "       [1., 0., 0.],\n",
       "       [1., 0., 0.],\n",
       "       [1., 0., 0.],\n",
       "       [1., 0., 0.],\n",
       "       [1., 0., 0.],\n",
       "       [1., 0., 0.],\n",
       "       [1., 0., 0.],\n",
       "       [1., 0., 0.],\n",
       "       [1., 0., 0.],\n",
       "       [1., 0., 0.],\n",
       "       [1., 0., 0.],\n",
       "       [1., 0., 0.],\n",
       "       [1., 0., 0.],\n",
       "       [1., 0., 0.],\n",
       "       [1., 0., 0.],\n",
       "       [1., 0., 0.],\n",
       "       [1., 0., 0.],\n",
       "       [1., 0., 0.],\n",
       "       [1., 0., 0.],\n",
       "       [1., 0., 0.],\n",
       "       [1., 0., 0.],\n",
       "       [1., 0., 0.],\n",
       "       [1., 0., 0.],\n",
       "       [1., 0., 0.],\n",
       "       [1., 0., 0.],\n",
       "       [1., 0., 0.],\n",
       "       [1., 0., 0.],\n",
       "       [1., 0., 0.],\n",
       "       [1., 0., 0.],\n",
       "       [1., 0., 0.],\n",
       "       [1., 0., 0.],\n",
       "       [1., 0., 0.],\n",
       "       [1., 0., 0.],\n",
       "       [1., 0., 0.],\n",
       "       [1., 0., 0.],\n",
       "       [1., 0., 0.],\n",
       "       [1., 0., 0.],\n",
       "       [1., 0., 0.],\n",
       "       [1., 0., 0.],\n",
       "       [1., 0., 0.],\n",
       "       [1., 0., 0.],\n",
       "       [1., 0., 0.],\n",
       "       [1., 0., 0.],\n",
       "       [1., 0., 0.],\n",
       "       [1., 0., 0.],\n",
       "       [1., 0., 0.],\n",
       "       [1., 0., 0.],\n",
       "       [1., 0., 0.],\n",
       "       [0., 1., 0.],\n",
       "       [0., 1., 0.],\n",
       "       [0., 1., 0.],\n",
       "       [0., 1., 0.],\n",
       "       [0., 1., 0.],\n",
       "       [0., 1., 0.],\n",
       "       [0., 1., 0.],\n",
       "       [0., 1., 0.],\n",
       "       [0., 1., 0.],\n",
       "       [0., 1., 0.],\n",
       "       [0., 1., 0.],\n",
       "       [0., 1., 0.],\n",
       "       [0., 1., 0.],\n",
       "       [0., 1., 0.],\n",
       "       [0., 1., 0.],\n",
       "       [0., 1., 0.],\n",
       "       [0., 1., 0.],\n",
       "       [0., 1., 0.],\n",
       "       [0., 1., 0.],\n",
       "       [0., 1., 0.],\n",
       "       [0., 1., 0.],\n",
       "       [0., 1., 0.],\n",
       "       [0., 1., 0.],\n",
       "       [0., 1., 0.],\n",
       "       [0., 1., 0.],\n",
       "       [0., 1., 0.],\n",
       "       [0., 1., 0.],\n",
       "       [0., 1., 0.],\n",
       "       [0., 1., 0.],\n",
       "       [0., 1., 0.],\n",
       "       [0., 1., 0.],\n",
       "       [0., 1., 0.],\n",
       "       [0., 1., 0.],\n",
       "       [0., 1., 0.],\n",
       "       [0., 1., 0.],\n",
       "       [0., 1., 0.],\n",
       "       [0., 1., 0.],\n",
       "       [0., 1., 0.],\n",
       "       [0., 1., 0.],\n",
       "       [0., 1., 0.],\n",
       "       [0., 1., 0.],\n",
       "       [0., 1., 0.],\n",
       "       [0., 1., 0.],\n",
       "       [0., 1., 0.],\n",
       "       [0., 1., 0.],\n",
       "       [0., 1., 0.],\n",
       "       [0., 1., 0.],\n",
       "       [0., 1., 0.],\n",
       "       [0., 1., 0.],\n",
       "       [0., 1., 0.],\n",
       "       [0., 1., 0.],\n",
       "       [0., 1., 0.],\n",
       "       [0., 1., 0.],\n",
       "       [0., 1., 0.],\n",
       "       [0., 1., 0.],\n",
       "       [0., 1., 0.],\n",
       "       [0., 1., 0.],\n",
       "       [0., 1., 0.],\n",
       "       [0., 1., 0.],\n",
       "       [0., 1., 0.],\n",
       "       [0., 1., 0.],\n",
       "       [0., 1., 0.],\n",
       "       [0., 1., 0.],\n",
       "       [0., 1., 0.],\n",
       "       [0., 1., 0.],\n",
       "       [0., 1., 0.],\n",
       "       [0., 1., 0.],\n",
       "       [0., 1., 0.],\n",
       "       [0., 1., 0.],\n",
       "       [0., 1., 0.],\n",
       "       [0., 1., 0.],\n",
       "       [0., 0., 1.],\n",
       "       [0., 0., 1.],\n",
       "       [0., 0., 1.],\n",
       "       [0., 0., 1.],\n",
       "       [0., 0., 1.],\n",
       "       [0., 0., 1.],\n",
       "       [0., 0., 1.],\n",
       "       [0., 0., 1.],\n",
       "       [0., 0., 1.],\n",
       "       [0., 0., 1.],\n",
       "       [0., 0., 1.],\n",
       "       [0., 0., 1.],\n",
       "       [0., 0., 1.],\n",
       "       [0., 0., 1.],\n",
       "       [0., 0., 1.],\n",
       "       [0., 0., 1.],\n",
       "       [0., 0., 1.],\n",
       "       [0., 0., 1.],\n",
       "       [0., 0., 1.],\n",
       "       [0., 0., 1.],\n",
       "       [0., 0., 1.],\n",
       "       [0., 0., 1.],\n",
       "       [0., 0., 1.],\n",
       "       [0., 0., 1.],\n",
       "       [0., 0., 1.],\n",
       "       [0., 0., 1.],\n",
       "       [0., 0., 1.],\n",
       "       [0., 0., 1.],\n",
       "       [0., 0., 1.],\n",
       "       [0., 0., 1.],\n",
       "       [0., 0., 1.],\n",
       "       [0., 0., 1.],\n",
       "       [0., 0., 1.],\n",
       "       [0., 0., 1.],\n",
       "       [0., 0., 1.],\n",
       "       [0., 0., 1.],\n",
       "       [0., 0., 1.],\n",
       "       [0., 0., 1.],\n",
       "       [0., 0., 1.],\n",
       "       [0., 0., 1.],\n",
       "       [0., 0., 1.],\n",
       "       [0., 0., 1.],\n",
       "       [0., 0., 1.],\n",
       "       [0., 0., 1.],\n",
       "       [0., 0., 1.],\n",
       "       [0., 0., 1.],\n",
       "       [0., 0., 1.],\n",
       "       [0., 0., 1.]])"
      ]
     },
     "execution_count": 190,
     "metadata": {},
     "output_type": "execute_result"
    }
   ],
   "source": [
    "# One-hot Encoding\n",
    "from sklearn.preprocessing import OneHotEncoder\n",
    "encoder = OneHotEncoder()\n",
    "y_data_encoded = encoder.fit_transform(y_data).toarray()\n",
    "y_data_encoded"
   ]
  },
  {
   "cell_type": "code",
   "execution_count": 191,
   "id": "70221d8e",
   "metadata": {},
   "outputs": [
    {
     "name": "stdout",
     "output_type": "stream",
     "text": [
      "Epoch 1/100\n",
      "5/5 [==============================] - 0s 26ms/step - loss: 0.9495 - acc: 0.5845 - val_loss: 0.9878 - val_acc: 0.6667\n",
      "Epoch 2/100\n",
      "5/5 [==============================] - 0s 6ms/step - loss: 0.5990 - acc: 0.8169 - val_loss: 0.7518 - val_acc: 0.7778\n",
      "Epoch 3/100\n",
      "5/5 [==============================] - 0s 7ms/step - loss: 0.4240 - acc: 0.8873 - val_loss: 0.5787 - val_acc: 0.8056\n",
      "Epoch 4/100\n",
      "5/5 [==============================] - 0s 6ms/step - loss: 0.3171 - acc: 0.9296 - val_loss: 0.4513 - val_acc: 0.8333\n",
      "Epoch 5/100\n",
      "5/5 [==============================] - 0s 6ms/step - loss: 0.2451 - acc: 0.9366 - val_loss: 0.3545 - val_acc: 0.8611\n",
      "Epoch 6/100\n",
      "5/5 [==============================] - 0s 6ms/step - loss: 0.1944 - acc: 0.9648 - val_loss: 0.2827 - val_acc: 0.8611\n",
      "Epoch 7/100\n",
      "5/5 [==============================] - 0s 6ms/step - loss: 0.1505 - acc: 0.9718 - val_loss: 0.2344 - val_acc: 0.8889\n",
      "Epoch 8/100\n",
      "5/5 [==============================] - 0s 6ms/step - loss: 0.1237 - acc: 0.9789 - val_loss: 0.2000 - val_acc: 0.9444\n",
      "Epoch 9/100\n",
      "5/5 [==============================] - 0s 6ms/step - loss: 0.1053 - acc: 0.9859 - val_loss: 0.1781 - val_acc: 0.9444\n",
      "Epoch 10/100\n",
      "5/5 [==============================] - 0s 5ms/step - loss: 0.0905 - acc: 0.9930 - val_loss: 0.1638 - val_acc: 0.9444\n",
      "Epoch 11/100\n",
      "5/5 [==============================] - 0s 6ms/step - loss: 0.0814 - acc: 0.9930 - val_loss: 0.1519 - val_acc: 0.9444\n",
      "Epoch 12/100\n",
      "5/5 [==============================] - 0s 6ms/step - loss: 0.0743 - acc: 1.0000 - val_loss: 0.1449 - val_acc: 0.9444\n",
      "Epoch 13/100\n",
      "5/5 [==============================] - 0s 6ms/step - loss: 0.0680 - acc: 1.0000 - val_loss: 0.1384 - val_acc: 0.9444\n",
      "Epoch 14/100\n",
      "5/5 [==============================] - 0s 6ms/step - loss: 0.0632 - acc: 1.0000 - val_loss: 0.1338 - val_acc: 0.9444\n",
      "Epoch 15/100\n",
      "5/5 [==============================] - 0s 6ms/step - loss: 0.0588 - acc: 1.0000 - val_loss: 0.1292 - val_acc: 0.9444\n",
      "Epoch 16/100\n",
      "5/5 [==============================] - 0s 6ms/step - loss: 0.0555 - acc: 1.0000 - val_loss: 0.1263 - val_acc: 0.9444\n",
      "Epoch 17/100\n",
      "5/5 [==============================] - 0s 6ms/step - loss: 0.0523 - acc: 1.0000 - val_loss: 0.1231 - val_acc: 0.9444\n",
      "Epoch 18/100\n",
      "5/5 [==============================] - 0s 6ms/step - loss: 0.0499 - acc: 1.0000 - val_loss: 0.1212 - val_acc: 0.9444\n",
      "Epoch 19/100\n",
      "5/5 [==============================] - 0s 6ms/step - loss: 0.0472 - acc: 1.0000 - val_loss: 0.1173 - val_acc: 0.9444\n",
      "Epoch 20/100\n",
      "5/5 [==============================] - 0s 6ms/step - loss: 0.0452 - acc: 1.0000 - val_loss: 0.1137 - val_acc: 0.9444\n",
      "Epoch 21/100\n",
      "5/5 [==============================] - 0s 6ms/step - loss: 0.0434 - acc: 1.0000 - val_loss: 0.1108 - val_acc: 0.9444\n",
      "Epoch 22/100\n",
      "5/5 [==============================] - 0s 6ms/step - loss: 0.0416 - acc: 1.0000 - val_loss: 0.1096 - val_acc: 0.9444\n",
      "Epoch 23/100\n",
      "5/5 [==============================] - 0s 6ms/step - loss: 0.0400 - acc: 1.0000 - val_loss: 0.1093 - val_acc: 0.9444\n",
      "Epoch 24/100\n",
      "5/5 [==============================] - 0s 6ms/step - loss: 0.0382 - acc: 1.0000 - val_loss: 0.1058 - val_acc: 0.9444\n",
      "Epoch 25/100\n",
      "5/5 [==============================] - 0s 6ms/step - loss: 0.0370 - acc: 1.0000 - val_loss: 0.1038 - val_acc: 0.9444\n",
      "Epoch 26/100\n",
      "5/5 [==============================] - 0s 6ms/step - loss: 0.0356 - acc: 1.0000 - val_loss: 0.1018 - val_acc: 0.9444\n",
      "Epoch 27/100\n",
      "5/5 [==============================] - 0s 6ms/step - loss: 0.0345 - acc: 1.0000 - val_loss: 0.1024 - val_acc: 0.9444\n",
      "Epoch 28/100\n",
      "5/5 [==============================] - 0s 7ms/step - loss: 0.0332 - acc: 1.0000 - val_loss: 0.1022 - val_acc: 0.9444\n",
      "Epoch 29/100\n",
      "5/5 [==============================] - 0s 6ms/step - loss: 0.0322 - acc: 1.0000 - val_loss: 0.1008 - val_acc: 0.9444\n",
      "Epoch 30/100\n",
      "5/5 [==============================] - 0s 6ms/step - loss: 0.0312 - acc: 1.0000 - val_loss: 0.0999 - val_acc: 0.9444\n",
      "Epoch 31/100\n",
      "5/5 [==============================] - 0s 6ms/step - loss: 0.0303 - acc: 1.0000 - val_loss: 0.0990 - val_acc: 0.9444\n",
      "Epoch 32/100\n",
      "5/5 [==============================] - 0s 6ms/step - loss: 0.0294 - acc: 1.0000 - val_loss: 0.0985 - val_acc: 0.9444\n",
      "Epoch 33/100\n",
      "5/5 [==============================] - 0s 5ms/step - loss: 0.0285 - acc: 1.0000 - val_loss: 0.0971 - val_acc: 0.9444\n",
      "Epoch 34/100\n",
      "5/5 [==============================] - 0s 6ms/step - loss: 0.0278 - acc: 1.0000 - val_loss: 0.0977 - val_acc: 0.9444\n",
      "Epoch 35/100\n",
      "5/5 [==============================] - 0s 6ms/step - loss: 0.0270 - acc: 1.0000 - val_loss: 0.0975 - val_acc: 0.9444\n",
      "Epoch 36/100\n",
      "5/5 [==============================] - 0s 6ms/step - loss: 0.0263 - acc: 1.0000 - val_loss: 0.0977 - val_acc: 0.9444\n",
      "Epoch 37/100\n",
      "5/5 [==============================] - 0s 6ms/step - loss: 0.0255 - acc: 1.0000 - val_loss: 0.0978 - val_acc: 0.9444\n",
      "Epoch 38/100\n",
      "5/5 [==============================] - 0s 6ms/step - loss: 0.0249 - acc: 1.0000 - val_loss: 0.0979 - val_acc: 0.9444\n",
      "Epoch 39/100\n",
      "5/5 [==============================] - 0s 6ms/step - loss: 0.0243 - acc: 1.0000 - val_loss: 0.0979 - val_acc: 0.9444\n",
      "Epoch 40/100\n",
      "5/5 [==============================] - 0s 5ms/step - loss: 0.0237 - acc: 1.0000 - val_loss: 0.0998 - val_acc: 0.9444\n",
      "Epoch 41/100\n",
      "5/5 [==============================] - 0s 6ms/step - loss: 0.0231 - acc: 1.0000 - val_loss: 0.1000 - val_acc: 0.9444\n",
      "Epoch 42/100\n",
      "5/5 [==============================] - 0s 5ms/step - loss: 0.0225 - acc: 1.0000 - val_loss: 0.1013 - val_acc: 0.9444\n",
      "Epoch 43/100\n",
      "5/5 [==============================] - 0s 6ms/step - loss: 0.0220 - acc: 1.0000 - val_loss: 0.1016 - val_acc: 0.9444\n",
      "Epoch 44/100\n",
      "5/5 [==============================] - 0s 5ms/step - loss: 0.0216 - acc: 1.0000 - val_loss: 0.1020 - val_acc: 0.9444\n",
      "Epoch 45/100\n",
      "5/5 [==============================] - 0s 5ms/step - loss: 0.0211 - acc: 1.0000 - val_loss: 0.1022 - val_acc: 0.9444\n",
      "Epoch 46/100\n",
      "5/5 [==============================] - 0s 5ms/step - loss: 0.0207 - acc: 1.0000 - val_loss: 0.1016 - val_acc: 0.9444\n",
      "Epoch 47/100\n",
      "5/5 [==============================] - 0s 6ms/step - loss: 0.0201 - acc: 1.0000 - val_loss: 0.1019 - val_acc: 0.9444\n",
      "Epoch 48/100\n",
      "5/5 [==============================] - 0s 5ms/step - loss: 0.0197 - acc: 1.0000 - val_loss: 0.1015 - val_acc: 0.9444\n",
      "Epoch 49/100\n",
      "5/5 [==============================] - 0s 5ms/step - loss: 0.0193 - acc: 1.0000 - val_loss: 0.1017 - val_acc: 0.9444\n",
      "Epoch 50/100\n",
      "5/5 [==============================] - 0s 6ms/step - loss: 0.0189 - acc: 1.0000 - val_loss: 0.1015 - val_acc: 0.9444\n",
      "Epoch 51/100\n",
      "5/5 [==============================] - 0s 6ms/step - loss: 0.0186 - acc: 1.0000 - val_loss: 0.1015 - val_acc: 0.9444\n",
      "Epoch 52/100\n",
      "5/5 [==============================] - 0s 5ms/step - loss: 0.0182 - acc: 1.0000 - val_loss: 0.1003 - val_acc: 0.9444\n",
      "Epoch 53/100\n",
      "5/5 [==============================] - 0s 5ms/step - loss: 0.0179 - acc: 1.0000 - val_loss: 0.1003 - val_acc: 0.9444\n",
      "Epoch 54/100\n",
      "5/5 [==============================] - 0s 5ms/step - loss: 0.0176 - acc: 1.0000 - val_loss: 0.1008 - val_acc: 0.9444\n",
      "Epoch 55/100\n",
      "5/5 [==============================] - 0s 6ms/step - loss: 0.0172 - acc: 1.0000 - val_loss: 0.0998 - val_acc: 0.9444\n",
      "Epoch 56/100\n",
      "5/5 [==============================] - 0s 6ms/step - loss: 0.0169 - acc: 1.0000 - val_loss: 0.0993 - val_acc: 0.9444\n",
      "Epoch 57/100\n",
      "5/5 [==============================] - 0s 6ms/step - loss: 0.0167 - acc: 1.0000 - val_loss: 0.0995 - val_acc: 0.9444\n",
      "Epoch 58/100\n",
      "5/5 [==============================] - 0s 5ms/step - loss: 0.0163 - acc: 1.0000 - val_loss: 0.1000 - val_acc: 0.9444\n",
      "Epoch 59/100\n",
      "5/5 [==============================] - 0s 6ms/step - loss: 0.0160 - acc: 1.0000 - val_loss: 0.1006 - val_acc: 0.9444\n",
      "Epoch 60/100\n",
      "5/5 [==============================] - 0s 5ms/step - loss: 0.0157 - acc: 1.0000 - val_loss: 0.1016 - val_acc: 0.9444\n",
      "Epoch 61/100\n",
      "5/5 [==============================] - 0s 5ms/step - loss: 0.0154 - acc: 1.0000 - val_loss: 0.1015 - val_acc: 0.9444\n",
      "Epoch 62/100\n",
      "5/5 [==============================] - 0s 5ms/step - loss: 0.0151 - acc: 1.0000 - val_loss: 0.1014 - val_acc: 0.9444\n",
      "Epoch 63/100\n",
      "5/5 [==============================] - 0s 6ms/step - loss: 0.0149 - acc: 1.0000 - val_loss: 0.1008 - val_acc: 0.9444\n",
      "Epoch 64/100\n"
     ]
    },
    {
     "name": "stdout",
     "output_type": "stream",
     "text": [
      "5/5 [==============================] - 0s 5ms/step - loss: 0.0147 - acc: 1.0000 - val_loss: 0.1004 - val_acc: 0.9444\n",
      "Epoch 65/100\n",
      "5/5 [==============================] - 0s 6ms/step - loss: 0.0144 - acc: 1.0000 - val_loss: 0.1001 - val_acc: 0.9444\n",
      "Epoch 66/100\n",
      "5/5 [==============================] - 0s 5ms/step - loss: 0.0142 - acc: 1.0000 - val_loss: 0.1003 - val_acc: 0.9444\n",
      "Epoch 67/100\n",
      "5/5 [==============================] - 0s 6ms/step - loss: 0.0140 - acc: 1.0000 - val_loss: 0.1007 - val_acc: 0.9444\n",
      "Epoch 68/100\n",
      "5/5 [==============================] - 0s 5ms/step - loss: 0.0137 - acc: 1.0000 - val_loss: 0.1005 - val_acc: 0.9444\n",
      "Epoch 69/100\n",
      "5/5 [==============================] - 0s 6ms/step - loss: 0.0135 - acc: 1.0000 - val_loss: 0.1012 - val_acc: 0.9444\n",
      "Epoch 70/100\n",
      "5/5 [==============================] - 0s 6ms/step - loss: 0.0133 - acc: 1.0000 - val_loss: 0.1020 - val_acc: 0.9444\n",
      "Epoch 71/100\n",
      "5/5 [==============================] - 0s 6ms/step - loss: 0.0131 - acc: 1.0000 - val_loss: 0.1028 - val_acc: 0.9444\n",
      "Epoch 72/100\n",
      "5/5 [==============================] - 0s 6ms/step - loss: 0.0129 - acc: 1.0000 - val_loss: 0.1031 - val_acc: 0.9444\n",
      "Epoch 73/100\n",
      "5/5 [==============================] - 0s 5ms/step - loss: 0.0127 - acc: 1.0000 - val_loss: 0.1023 - val_acc: 0.9444\n",
      "Epoch 74/100\n",
      "5/5 [==============================] - 0s 5ms/step - loss: 0.0125 - acc: 1.0000 - val_loss: 0.1019 - val_acc: 0.9444\n",
      "Epoch 75/100\n",
      "5/5 [==============================] - 0s 5ms/step - loss: 0.0123 - acc: 1.0000 - val_loss: 0.1026 - val_acc: 0.9444\n",
      "Epoch 76/100\n",
      "5/5 [==============================] - 0s 6ms/step - loss: 0.0121 - acc: 1.0000 - val_loss: 0.1030 - val_acc: 0.9444\n",
      "Epoch 77/100\n",
      "5/5 [==============================] - 0s 6ms/step - loss: 0.0119 - acc: 1.0000 - val_loss: 0.1034 - val_acc: 0.9444\n",
      "Epoch 78/100\n",
      "5/5 [==============================] - 0s 6ms/step - loss: 0.0119 - acc: 1.0000 - val_loss: 0.1053 - val_acc: 0.9444\n",
      "Epoch 79/100\n",
      "5/5 [==============================] - 0s 5ms/step - loss: 0.0116 - acc: 1.0000 - val_loss: 0.1051 - val_acc: 0.9444\n",
      "Epoch 80/100\n",
      "5/5 [==============================] - 0s 5ms/step - loss: 0.0115 - acc: 1.0000 - val_loss: 0.1056 - val_acc: 0.9444\n",
      "Epoch 81/100\n",
      "5/5 [==============================] - 0s 5ms/step - loss: 0.0113 - acc: 1.0000 - val_loss: 0.1048 - val_acc: 0.9444\n",
      "Epoch 82/100\n",
      "5/5 [==============================] - 0s 5ms/step - loss: 0.0111 - acc: 1.0000 - val_loss: 0.1047 - val_acc: 0.9444\n",
      "Epoch 83/100\n",
      "5/5 [==============================] - 0s 5ms/step - loss: 0.0110 - acc: 1.0000 - val_loss: 0.1049 - val_acc: 0.9444\n",
      "Epoch 84/100\n",
      "5/5 [==============================] - 0s 5ms/step - loss: 0.0108 - acc: 1.0000 - val_loss: 0.1054 - val_acc: 0.9444\n",
      "Epoch 85/100\n",
      "5/5 [==============================] - 0s 5ms/step - loss: 0.0107 - acc: 1.0000 - val_loss: 0.1054 - val_acc: 0.9444\n",
      "Epoch 86/100\n",
      "5/5 [==============================] - 0s 6ms/step - loss: 0.0106 - acc: 1.0000 - val_loss: 0.1053 - val_acc: 0.9444\n",
      "Epoch 87/100\n",
      "5/5 [==============================] - 0s 6ms/step - loss: 0.0104 - acc: 1.0000 - val_loss: 0.1054 - val_acc: 0.9444\n",
      "Epoch 88/100\n",
      "5/5 [==============================] - 0s 5ms/step - loss: 0.0103 - acc: 1.0000 - val_loss: 0.1064 - val_acc: 0.9444\n",
      "Epoch 89/100\n",
      "5/5 [==============================] - 0s 6ms/step - loss: 0.0101 - acc: 1.0000 - val_loss: 0.1071 - val_acc: 0.9444\n",
      "Epoch 90/100\n",
      "5/5 [==============================] - 0s 5ms/step - loss: 0.0101 - acc: 1.0000 - val_loss: 0.1092 - val_acc: 0.9444\n",
      "Epoch 91/100\n",
      "5/5 [==============================] - 0s 6ms/step - loss: 0.0099 - acc: 1.0000 - val_loss: 0.1092 - val_acc: 0.9444\n",
      "Epoch 92/100\n",
      "5/5 [==============================] - 0s 6ms/step - loss: 0.0098 - acc: 1.0000 - val_loss: 0.1096 - val_acc: 0.9444\n",
      "Epoch 93/100\n",
      "5/5 [==============================] - 0s 6ms/step - loss: 0.0096 - acc: 1.0000 - val_loss: 0.1104 - val_acc: 0.9444\n",
      "Epoch 94/100\n",
      "5/5 [==============================] - 0s 6ms/step - loss: 0.0095 - acc: 1.0000 - val_loss: 0.1106 - val_acc: 0.9444\n",
      "Epoch 95/100\n",
      "5/5 [==============================] - 0s 5ms/step - loss: 0.0094 - acc: 1.0000 - val_loss: 0.1101 - val_acc: 0.9444\n",
      "Epoch 96/100\n",
      "5/5 [==============================] - 0s 5ms/step - loss: 0.0093 - acc: 1.0000 - val_loss: 0.1096 - val_acc: 0.9444\n",
      "Epoch 97/100\n",
      "5/5 [==============================] - 0s 5ms/step - loss: 0.0092 - acc: 1.0000 - val_loss: 0.1093 - val_acc: 0.9444\n",
      "Epoch 98/100\n",
      "5/5 [==============================] - 0s 5ms/step - loss: 0.0091 - acc: 1.0000 - val_loss: 0.1081 - val_acc: 0.9444\n",
      "Epoch 99/100\n",
      "5/5 [==============================] - 0s 9ms/step - loss: 0.0089 - acc: 1.0000 - val_loss: 0.1076 - val_acc: 0.9444\n",
      "Epoch 100/100\n",
      "5/5 [==============================] - 0s 6ms/step - loss: 0.0088 - acc: 1.0000 - val_loss: 0.1069 - val_acc: 0.9444\n"
     ]
    },
    {
     "data": {
      "text/plain": [
       "<keras.callbacks.History at 0x7f78d1515060>"
      ]
     },
     "execution_count": 191,
     "metadata": {},
     "output_type": "execute_result"
    }
   ],
   "source": [
    "x_train, x_val, y_train, y_val = train_test_split(x_data_scaled, y_data_encoded,\n",
    "                                                  test_size=0.2,\n",
    "                                                  random_state=7)\n",
    "\n",
    "model = tf.keras.Sequential()\n",
    "model.add(tf.keras.layers.Dense(3, activation=\"softmax\"))\n",
    "\n",
    "model.compile(loss=tf.keras.losses.categorical_crossentropy,\n",
    "             optimizer=tf.keras.optimizers.Adam(learning_rate=0.02),\n",
    "             metrics=[\"acc\"])\n",
    "\n",
    "model.fit(x_train, y_train, validation_data=(x_val, y_val), epochs=100)"
   ]
  },
  {
   "attachments": {},
   "cell_type": "markdown",
   "id": "4cf6a93b",
   "metadata": {},
   "source": [
    "### 🛠️ 연습\n",
    "이진 논리 회귀를 직접 구현해보자.\n",
    "\n",
    "`!kaggle datasets download -d uciml/pima-indians-diabetes-database`\n",
    "\n",
    "`!unzip pima-indians-diabetes-database`"
   ]
  },
  {
   "cell_type": "code",
   "execution_count": 192,
   "id": "6e875fd0",
   "metadata": {},
   "outputs": [
    {
     "name": "stdout",
     "output_type": "stream",
     "text": [
      "Downloading pima-indians-diabetes-database.zip to /home/recona97/here/ml\r\n",
      "\r\n",
      "  0%|                                               | 0.00/8.91k [00:00<?, ?B/s]\r\n",
      "\r\n",
      "100%|██████████████████████████████████████| 8.91k/8.91k [00:00<00:00, 30.4MB/s]\r\n"
     ]
    }
   ],
   "source": [
    "!kaggle datasets download -d uciml/pima-indians-diabetes-database"
   ]
  },
  {
   "cell_type": "code",
   "execution_count": 193,
   "id": "e840fc69",
   "metadata": {},
   "outputs": [
    {
     "name": "stdout",
     "output_type": "stream",
     "text": [
      "Archive:  pima-indians-diabetes-database.zip\r\n",
      "  inflating: diabetes.csv            \r\n"
     ]
    }
   ],
   "source": [
    "!unzip pima-indians-diabetes-database"
   ]
  },
  {
   "cell_type": "code",
   "execution_count": 194,
   "id": "1b14d60d",
   "metadata": {},
   "outputs": [
    {
     "data": {
      "text/html": [
       "<div>\n",
       "<style scoped>\n",
       "    .dataframe tbody tr th:only-of-type {\n",
       "        vertical-align: middle;\n",
       "    }\n",
       "\n",
       "    .dataframe tbody tr th {\n",
       "        vertical-align: top;\n",
       "    }\n",
       "\n",
       "    .dataframe thead th {\n",
       "        text-align: right;\n",
       "    }\n",
       "</style>\n",
       "<table border=\"1\" class=\"dataframe\">\n",
       "  <thead>\n",
       "    <tr style=\"text-align: right;\">\n",
       "      <th></th>\n",
       "      <th>Pregnancies</th>\n",
       "      <th>Glucose</th>\n",
       "      <th>BloodPressure</th>\n",
       "      <th>SkinThickness</th>\n",
       "      <th>Insulin</th>\n",
       "      <th>BMI</th>\n",
       "      <th>DiabetesPedigreeFunction</th>\n",
       "      <th>Age</th>\n",
       "      <th>Outcome</th>\n",
       "    </tr>\n",
       "  </thead>\n",
       "  <tbody>\n",
       "    <tr>\n",
       "      <th>0</th>\n",
       "      <td>6</td>\n",
       "      <td>148</td>\n",
       "      <td>72</td>\n",
       "      <td>35</td>\n",
       "      <td>0</td>\n",
       "      <td>33.6</td>\n",
       "      <td>0.627</td>\n",
       "      <td>50</td>\n",
       "      <td>1</td>\n",
       "    </tr>\n",
       "    <tr>\n",
       "      <th>1</th>\n",
       "      <td>1</td>\n",
       "      <td>85</td>\n",
       "      <td>66</td>\n",
       "      <td>29</td>\n",
       "      <td>0</td>\n",
       "      <td>26.6</td>\n",
       "      <td>0.351</td>\n",
       "      <td>31</td>\n",
       "      <td>0</td>\n",
       "    </tr>\n",
       "    <tr>\n",
       "      <th>2</th>\n",
       "      <td>8</td>\n",
       "      <td>183</td>\n",
       "      <td>64</td>\n",
       "      <td>0</td>\n",
       "      <td>0</td>\n",
       "      <td>23.3</td>\n",
       "      <td>0.672</td>\n",
       "      <td>32</td>\n",
       "      <td>1</td>\n",
       "    </tr>\n",
       "    <tr>\n",
       "      <th>3</th>\n",
       "      <td>1</td>\n",
       "      <td>89</td>\n",
       "      <td>66</td>\n",
       "      <td>23</td>\n",
       "      <td>94</td>\n",
       "      <td>28.1</td>\n",
       "      <td>0.167</td>\n",
       "      <td>21</td>\n",
       "      <td>0</td>\n",
       "    </tr>\n",
       "    <tr>\n",
       "      <th>4</th>\n",
       "      <td>0</td>\n",
       "      <td>137</td>\n",
       "      <td>40</td>\n",
       "      <td>35</td>\n",
       "      <td>168</td>\n",
       "      <td>43.1</td>\n",
       "      <td>2.288</td>\n",
       "      <td>33</td>\n",
       "      <td>1</td>\n",
       "    </tr>\n",
       "  </tbody>\n",
       "</table>\n",
       "</div>"
      ],
      "text/plain": [
       "   Pregnancies  Glucose  BloodPressure  SkinThickness  Insulin   BMI   \n",
       "0            6      148             72             35        0  33.6  \\\n",
       "1            1       85             66             29        0  26.6   \n",
       "2            8      183             64              0        0  23.3   \n",
       "3            1       89             66             23       94  28.1   \n",
       "4            0      137             40             35      168  43.1   \n",
       "\n",
       "   DiabetesPedigreeFunction  Age  Outcome  \n",
       "0                     0.627   50        1  \n",
       "1                     0.351   31        0  \n",
       "2                     0.672   32        1  \n",
       "3                     0.167   21        0  \n",
       "4                     2.288   33        1  "
      ]
     },
     "execution_count": 194,
     "metadata": {},
     "output_type": "execute_result"
    }
   ],
   "source": [
    "df = pd.read_csv(\"diabetes.csv\")\n",
    "df.head(5)"
   ]
  },
  {
   "cell_type": "code",
   "execution_count": 221,
   "id": "32ffd96a",
   "metadata": {},
   "outputs": [
    {
     "name": "stdout",
     "output_type": "stream",
     "text": [
      "Epoch 1/100\n",
      "20/20 [==============================] - 0s 5ms/step - loss: 5.0592 - acc: 0.6482 - val_loss: 5.7092 - val_acc: 0.6299\n",
      "Epoch 2/100\n",
      "20/20 [==============================] - 0s 2ms/step - loss: 5.3008 - acc: 0.6564 - val_loss: 5.7092 - val_acc: 0.6299\n",
      "Epoch 3/100\n",
      "20/20 [==============================] - 0s 2ms/step - loss: 5.3008 - acc: 0.6564 - val_loss: 5.7092 - val_acc: 0.6299\n",
      "Epoch 4/100\n",
      "20/20 [==============================] - 0s 2ms/step - loss: 5.3008 - acc: 0.6564 - val_loss: 5.7092 - val_acc: 0.6299\n",
      "Epoch 5/100\n",
      "20/20 [==============================] - 0s 2ms/step - loss: 5.3008 - acc: 0.6564 - val_loss: 5.7092 - val_acc: 0.6299\n",
      "Epoch 6/100\n",
      "20/20 [==============================] - 0s 2ms/step - loss: 5.3008 - acc: 0.6564 - val_loss: 5.7092 - val_acc: 0.6299\n",
      "Epoch 7/100\n",
      "20/20 [==============================] - 0s 2ms/step - loss: 5.3008 - acc: 0.6564 - val_loss: 5.7092 - val_acc: 0.6299\n",
      "Epoch 8/100\n",
      "20/20 [==============================] - 0s 2ms/step - loss: 5.3008 - acc: 0.6564 - val_loss: 5.7092 - val_acc: 0.6299\n",
      "Epoch 9/100\n",
      "20/20 [==============================] - 0s 2ms/step - loss: 5.3008 - acc: 0.6564 - val_loss: 5.7092 - val_acc: 0.6299\n",
      "Epoch 10/100\n",
      "20/20 [==============================] - 0s 2ms/step - loss: 5.3008 - acc: 0.6564 - val_loss: 5.7092 - val_acc: 0.6299\n",
      "Epoch 11/100\n",
      "20/20 [==============================] - 0s 2ms/step - loss: 5.3008 - acc: 0.6564 - val_loss: 5.7092 - val_acc: 0.6299\n",
      "Epoch 12/100\n",
      "20/20 [==============================] - 0s 2ms/step - loss: 5.3008 - acc: 0.6564 - val_loss: 5.7092 - val_acc: 0.6299\n",
      "Epoch 13/100\n",
      "20/20 [==============================] - 0s 2ms/step - loss: 5.3008 - acc: 0.6564 - val_loss: 5.7092 - val_acc: 0.6299\n",
      "Epoch 14/100\n",
      "20/20 [==============================] - 0s 2ms/step - loss: 5.3008 - acc: 0.6564 - val_loss: 5.7092 - val_acc: 0.6299\n",
      "Epoch 15/100\n",
      "20/20 [==============================] - 0s 2ms/step - loss: 5.3008 - acc: 0.6564 - val_loss: 5.7092 - val_acc: 0.6299\n",
      "Epoch 16/100\n",
      "20/20 [==============================] - 0s 2ms/step - loss: 5.3008 - acc: 0.6564 - val_loss: 5.7092 - val_acc: 0.6299\n",
      "Epoch 17/100\n",
      "20/20 [==============================] - 0s 2ms/step - loss: 5.3008 - acc: 0.6564 - val_loss: 5.7092 - val_acc: 0.6299\n",
      "Epoch 18/100\n",
      "20/20 [==============================] - 0s 2ms/step - loss: 5.3008 - acc: 0.6564 - val_loss: 5.7092 - val_acc: 0.6299\n",
      "Epoch 19/100\n",
      "20/20 [==============================] - 0s 2ms/step - loss: 5.3008 - acc: 0.6564 - val_loss: 5.7092 - val_acc: 0.6299\n",
      "Epoch 20/100\n",
      "20/20 [==============================] - 0s 2ms/step - loss: 5.3008 - acc: 0.6564 - val_loss: 5.7092 - val_acc: 0.6299\n",
      "Epoch 21/100\n",
      "20/20 [==============================] - 0s 2ms/step - loss: 5.3008 - acc: 0.6564 - val_loss: 5.7092 - val_acc: 0.6299\n",
      "Epoch 22/100\n",
      "20/20 [==============================] - 0s 2ms/step - loss: 5.3008 - acc: 0.6564 - val_loss: 5.7092 - val_acc: 0.6299\n",
      "Epoch 23/100\n",
      "20/20 [==============================] - 0s 2ms/step - loss: 5.3008 - acc: 0.6564 - val_loss: 5.7092 - val_acc: 0.6299\n",
      "Epoch 24/100\n",
      "20/20 [==============================] - 0s 2ms/step - loss: 5.3008 - acc: 0.6564 - val_loss: 5.7092 - val_acc: 0.6299\n",
      "Epoch 25/100\n",
      "20/20 [==============================] - 0s 2ms/step - loss: 5.3008 - acc: 0.6564 - val_loss: 5.7092 - val_acc: 0.6299\n",
      "Epoch 26/100\n",
      "20/20 [==============================] - 0s 2ms/step - loss: 5.3008 - acc: 0.6564 - val_loss: 5.7092 - val_acc: 0.6299\n",
      "Epoch 27/100\n",
      "20/20 [==============================] - 0s 2ms/step - loss: 5.3008 - acc: 0.6564 - val_loss: 5.7092 - val_acc: 0.6299\n",
      "Epoch 28/100\n",
      "20/20 [==============================] - 0s 2ms/step - loss: 5.3008 - acc: 0.6564 - val_loss: 5.7092 - val_acc: 0.6299\n",
      "Epoch 29/100\n",
      "20/20 [==============================] - 0s 2ms/step - loss: 5.3008 - acc: 0.6564 - val_loss: 5.7092 - val_acc: 0.6299\n",
      "Epoch 30/100\n",
      "20/20 [==============================] - 0s 2ms/step - loss: 5.3008 - acc: 0.6564 - val_loss: 5.7092 - val_acc: 0.6299\n",
      "Epoch 31/100\n",
      "20/20 [==============================] - 0s 3ms/step - loss: 5.3008 - acc: 0.6564 - val_loss: 5.7092 - val_acc: 0.6299\n",
      "Epoch 32/100\n",
      "20/20 [==============================] - 0s 2ms/step - loss: 5.3008 - acc: 0.6564 - val_loss: 5.7092 - val_acc: 0.6299\n",
      "Epoch 33/100\n",
      "20/20 [==============================] - 0s 2ms/step - loss: 5.3008 - acc: 0.6564 - val_loss: 5.7092 - val_acc: 0.6299\n",
      "Epoch 34/100\n",
      "20/20 [==============================] - 0s 2ms/step - loss: 5.3008 - acc: 0.6564 - val_loss: 5.7092 - val_acc: 0.6299\n",
      "Epoch 35/100\n",
      "20/20 [==============================] - 0s 2ms/step - loss: 5.3008 - acc: 0.6564 - val_loss: 5.7092 - val_acc: 0.6299\n",
      "Epoch 36/100\n",
      "20/20 [==============================] - 0s 2ms/step - loss: 5.3008 - acc: 0.6564 - val_loss: 5.7092 - val_acc: 0.6299\n",
      "Epoch 37/100\n",
      "20/20 [==============================] - 0s 2ms/step - loss: 5.3008 - acc: 0.6564 - val_loss: 5.7092 - val_acc: 0.6299\n",
      "Epoch 38/100\n",
      "20/20 [==============================] - 0s 2ms/step - loss: 5.3008 - acc: 0.6564 - val_loss: 5.7092 - val_acc: 0.6299\n",
      "Epoch 39/100\n",
      "20/20 [==============================] - 0s 2ms/step - loss: 5.3008 - acc: 0.6564 - val_loss: 5.7092 - val_acc: 0.6299\n",
      "Epoch 40/100\n",
      "20/20 [==============================] - 0s 2ms/step - loss: 5.3008 - acc: 0.6564 - val_loss: 5.7092 - val_acc: 0.6299\n",
      "Epoch 41/100\n",
      "20/20 [==============================] - 0s 2ms/step - loss: 5.3008 - acc: 0.6564 - val_loss: 5.7092 - val_acc: 0.6299\n",
      "Epoch 42/100\n",
      "20/20 [==============================] - 0s 2ms/step - loss: 5.3008 - acc: 0.6564 - val_loss: 5.7092 - val_acc: 0.6299\n",
      "Epoch 43/100\n",
      "20/20 [==============================] - 0s 2ms/step - loss: 5.3008 - acc: 0.6564 - val_loss: 5.7092 - val_acc: 0.6299\n",
      "Epoch 44/100\n",
      "20/20 [==============================] - 0s 2ms/step - loss: 5.3008 - acc: 0.6564 - val_loss: 5.7092 - val_acc: 0.6299\n",
      "Epoch 45/100\n",
      "20/20 [==============================] - 0s 2ms/step - loss: 5.3008 - acc: 0.6564 - val_loss: 5.7092 - val_acc: 0.6299\n",
      "Epoch 46/100\n",
      "20/20 [==============================] - 0s 3ms/step - loss: 5.3008 - acc: 0.6564 - val_loss: 5.7092 - val_acc: 0.6299\n",
      "Epoch 47/100\n",
      "20/20 [==============================] - 0s 2ms/step - loss: 5.3008 - acc: 0.6564 - val_loss: 5.7092 - val_acc: 0.6299\n",
      "Epoch 48/100\n",
      "20/20 [==============================] - 0s 2ms/step - loss: 5.3008 - acc: 0.6564 - val_loss: 5.7092 - val_acc: 0.6299\n",
      "Epoch 49/100\n",
      "20/20 [==============================] - 0s 2ms/step - loss: 5.3008 - acc: 0.6564 - val_loss: 5.7092 - val_acc: 0.6299\n",
      "Epoch 50/100\n",
      "20/20 [==============================] - 0s 2ms/step - loss: 5.3008 - acc: 0.6564 - val_loss: 5.7092 - val_acc: 0.6299\n",
      "Epoch 51/100\n",
      "20/20 [==============================] - 0s 2ms/step - loss: 5.3008 - acc: 0.6564 - val_loss: 5.7092 - val_acc: 0.6299\n",
      "Epoch 52/100\n",
      "20/20 [==============================] - 0s 2ms/step - loss: 5.3008 - acc: 0.6564 - val_loss: 5.7092 - val_acc: 0.6299\n",
      "Epoch 53/100\n",
      "20/20 [==============================] - 0s 2ms/step - loss: 5.3008 - acc: 0.6564 - val_loss: 5.7092 - val_acc: 0.6299\n",
      "Epoch 54/100\n",
      "20/20 [==============================] - 0s 2ms/step - loss: 5.3008 - acc: 0.6564 - val_loss: 5.7092 - val_acc: 0.6299\n",
      "Epoch 55/100\n",
      "20/20 [==============================] - 0s 2ms/step - loss: 5.3008 - acc: 0.6564 - val_loss: 5.7092 - val_acc: 0.6299\n",
      "Epoch 56/100\n",
      "20/20 [==============================] - 0s 2ms/step - loss: 5.3008 - acc: 0.6564 - val_loss: 5.7092 - val_acc: 0.6299\n",
      "Epoch 57/100\n",
      "20/20 [==============================] - 0s 2ms/step - loss: 5.3008 - acc: 0.6564 - val_loss: 5.7092 - val_acc: 0.6299\n",
      "Epoch 58/100\n",
      "20/20 [==============================] - 0s 2ms/step - loss: 5.3008 - acc: 0.6564 - val_loss: 5.7092 - val_acc: 0.6299\n",
      "Epoch 59/100\n",
      "20/20 [==============================] - 0s 2ms/step - loss: 5.3008 - acc: 0.6564 - val_loss: 5.7092 - val_acc: 0.6299\n",
      "Epoch 60/100\n",
      "20/20 [==============================] - 0s 2ms/step - loss: 5.3008 - acc: 0.6564 - val_loss: 5.7092 - val_acc: 0.6299\n",
      "Epoch 61/100\n",
      "20/20 [==============================] - 0s 2ms/step - loss: 5.3008 - acc: 0.6564 - val_loss: 5.7092 - val_acc: 0.6299\n",
      "Epoch 62/100\n",
      "20/20 [==============================] - 0s 2ms/step - loss: 5.3008 - acc: 0.6564 - val_loss: 5.7092 - val_acc: 0.6299\n",
      "Epoch 63/100\n"
     ]
    },
    {
     "name": "stdout",
     "output_type": "stream",
     "text": [
      "20/20 [==============================] - 0s 2ms/step - loss: 5.3008 - acc: 0.6564 - val_loss: 5.7092 - val_acc: 0.6299\n",
      "Epoch 64/100\n",
      "20/20 [==============================] - 0s 2ms/step - loss: 5.3008 - acc: 0.6564 - val_loss: 5.7092 - val_acc: 0.6299\n",
      "Epoch 65/100\n",
      "20/20 [==============================] - 0s 2ms/step - loss: 5.3008 - acc: 0.6564 - val_loss: 5.7092 - val_acc: 0.6299\n",
      "Epoch 66/100\n",
      "20/20 [==============================] - 0s 2ms/step - loss: 5.3008 - acc: 0.6564 - val_loss: 5.7092 - val_acc: 0.6299\n",
      "Epoch 67/100\n",
      "20/20 [==============================] - 0s 2ms/step - loss: 5.3008 - acc: 0.6564 - val_loss: 5.7092 - val_acc: 0.6299\n",
      "Epoch 68/100\n",
      "20/20 [==============================] - 0s 2ms/step - loss: 5.3008 - acc: 0.6564 - val_loss: 5.7092 - val_acc: 0.6299\n",
      "Epoch 69/100\n",
      "20/20 [==============================] - 0s 3ms/step - loss: 5.3008 - acc: 0.6564 - val_loss: 5.7092 - val_acc: 0.6299\n",
      "Epoch 70/100\n",
      "20/20 [==============================] - 0s 2ms/step - loss: 5.3008 - acc: 0.6564 - val_loss: 5.7092 - val_acc: 0.6299\n",
      "Epoch 71/100\n",
      "20/20 [==============================] - 0s 2ms/step - loss: 5.3008 - acc: 0.6564 - val_loss: 5.7092 - val_acc: 0.6299\n",
      "Epoch 72/100\n",
      "20/20 [==============================] - 0s 2ms/step - loss: 5.3008 - acc: 0.6564 - val_loss: 5.7092 - val_acc: 0.6299\n",
      "Epoch 73/100\n",
      "20/20 [==============================] - 0s 2ms/step - loss: 5.3008 - acc: 0.6564 - val_loss: 5.7092 - val_acc: 0.6299\n",
      "Epoch 74/100\n",
      "20/20 [==============================] - 0s 2ms/step - loss: 5.3008 - acc: 0.6564 - val_loss: 5.7092 - val_acc: 0.6299\n",
      "Epoch 75/100\n",
      "20/20 [==============================] - 0s 2ms/step - loss: 5.3008 - acc: 0.6564 - val_loss: 5.7092 - val_acc: 0.6299\n",
      "Epoch 76/100\n",
      "20/20 [==============================] - 0s 2ms/step - loss: 5.3008 - acc: 0.6564 - val_loss: 5.7092 - val_acc: 0.6299\n",
      "Epoch 77/100\n",
      "20/20 [==============================] - 0s 2ms/step - loss: 5.3008 - acc: 0.6564 - val_loss: 5.7092 - val_acc: 0.6299\n",
      "Epoch 78/100\n",
      "20/20 [==============================] - 0s 2ms/step - loss: 5.3008 - acc: 0.6564 - val_loss: 5.7092 - val_acc: 0.6299\n",
      "Epoch 79/100\n",
      "20/20 [==============================] - 0s 2ms/step - loss: 5.3008 - acc: 0.6564 - val_loss: 5.7092 - val_acc: 0.6299\n",
      "Epoch 80/100\n",
      "20/20 [==============================] - 0s 2ms/step - loss: 5.3008 - acc: 0.6564 - val_loss: 5.7092 - val_acc: 0.6299\n",
      "Epoch 81/100\n",
      "20/20 [==============================] - 0s 2ms/step - loss: 5.3008 - acc: 0.6564 - val_loss: 5.7092 - val_acc: 0.6299\n",
      "Epoch 82/100\n",
      "20/20 [==============================] - 0s 2ms/step - loss: 5.3008 - acc: 0.6564 - val_loss: 5.7092 - val_acc: 0.6299\n",
      "Epoch 83/100\n",
      "20/20 [==============================] - 0s 2ms/step - loss: 5.3008 - acc: 0.6564 - val_loss: 5.7092 - val_acc: 0.6299\n",
      "Epoch 84/100\n",
      "20/20 [==============================] - 0s 2ms/step - loss: 5.3008 - acc: 0.6564 - val_loss: 5.7092 - val_acc: 0.6299\n",
      "Epoch 85/100\n",
      "20/20 [==============================] - 0s 2ms/step - loss: 5.3008 - acc: 0.6564 - val_loss: 5.7092 - val_acc: 0.6299\n",
      "Epoch 86/100\n",
      "20/20 [==============================] - 0s 2ms/step - loss: 5.3008 - acc: 0.6564 - val_loss: 5.7092 - val_acc: 0.6299\n",
      "Epoch 87/100\n",
      "20/20 [==============================] - 0s 2ms/step - loss: 5.3008 - acc: 0.6564 - val_loss: 5.7092 - val_acc: 0.6299\n",
      "Epoch 88/100\n",
      "20/20 [==============================] - 0s 2ms/step - loss: 5.3008 - acc: 0.6564 - val_loss: 5.7092 - val_acc: 0.6299\n",
      "Epoch 89/100\n",
      "20/20 [==============================] - 0s 2ms/step - loss: 5.3008 - acc: 0.6564 - val_loss: 5.7092 - val_acc: 0.6299\n",
      "Epoch 90/100\n",
      "20/20 [==============================] - 0s 2ms/step - loss: 5.3008 - acc: 0.6564 - val_loss: 5.7092 - val_acc: 0.6299\n",
      "Epoch 91/100\n",
      "20/20 [==============================] - 0s 2ms/step - loss: 5.3008 - acc: 0.6564 - val_loss: 5.7092 - val_acc: 0.6299\n",
      "Epoch 92/100\n",
      "20/20 [==============================] - 0s 2ms/step - loss: 5.3008 - acc: 0.6564 - val_loss: 5.7092 - val_acc: 0.6299\n",
      "Epoch 93/100\n",
      "20/20 [==============================] - 0s 2ms/step - loss: 5.3008 - acc: 0.6564 - val_loss: 5.7092 - val_acc: 0.6299\n",
      "Epoch 94/100\n",
      "20/20 [==============================] - 0s 2ms/step - loss: 5.3008 - acc: 0.6564 - val_loss: 5.7092 - val_acc: 0.6299\n",
      "Epoch 95/100\n",
      "20/20 [==============================] - 0s 2ms/step - loss: 5.3008 - acc: 0.6564 - val_loss: 5.7092 - val_acc: 0.6299\n",
      "Epoch 96/100\n",
      "20/20 [==============================] - 0s 2ms/step - loss: 5.3008 - acc: 0.6564 - val_loss: 5.7092 - val_acc: 0.6299\n",
      "Epoch 97/100\n",
      "20/20 [==============================] - 0s 2ms/step - loss: 5.3008 - acc: 0.6564 - val_loss: 5.7092 - val_acc: 0.6299\n",
      "Epoch 98/100\n",
      "20/20 [==============================] - 0s 2ms/step - loss: 5.3008 - acc: 0.6564 - val_loss: 5.7092 - val_acc: 0.6299\n",
      "Epoch 99/100\n",
      "20/20 [==============================] - 0s 2ms/step - loss: 5.3008 - acc: 0.6564 - val_loss: 5.7092 - val_acc: 0.6299\n",
      "Epoch 100/100\n",
      "20/20 [==============================] - 0s 2ms/step - loss: 5.3008 - acc: 0.6564 - val_loss: 5.7092 - val_acc: 0.6299\n"
     ]
    },
    {
     "data": {
      "text/plain": [
       "<keras.callbacks.History at 0x7f78d69b19f0>"
      ]
     },
     "execution_count": 221,
     "metadata": {},
     "output_type": "execute_result"
    }
   ],
   "source": [
    "# 전처리\n",
    "# null 값이 있는지 확인\n",
    "df.isnull().sum()\n",
    "df = df.dropna()\n",
    "\n",
    "# 데이터 분류\n",
    "x_data = df.drop(columns=[\"Outcome\"])\n",
    "y_data = df[[\"Outcome\"]]\n",
    "\n",
    "# 데이터 타입 변환\n",
    "x_data = x_data.astype(np.float32)\n",
    "y_data = y_data.astype(np.float32)\n",
    "\n",
    "# 데이터 세트 분류\n",
    "x_train, x_val, y_train, y_val = train_test_split(x_data, y_data, \n",
    "                                                    test_size=0.2, \n",
    "                                                    random_state=7)\n",
    "\n",
    "# 모델 생성\n",
    "model = tf.keras.Sequential()\n",
    "model.add(tf.keras.layers.Dense(len(x_data), activation=\"sigmoid\"))\n",
    "model.add(tf.keras.layers.Dense(1))\n",
    "\n",
    "# 모델 튜닝\n",
    "model.compile(loss=tf.keras.losses.binary_crossentropy,\n",
    "             optimizer=tf.keras.optimizers.Adam(learning_rate=0.075),\n",
    "             metrics=[\"acc\"])\n",
    "\n",
    "# 모델 피팅\n",
    "model.fit(x_train, y_train, validation_data=(x_val, y_val), epochs=100)"
   ]
  },
  {
   "cell_type": "code",
   "execution_count": null,
   "id": "be65ff84",
   "metadata": {},
   "outputs": [],
   "source": []
  }
 ],
 "metadata": {
  "kernelspec": {
   "display_name": "Python 3 (ipykernel)",
   "language": "python",
   "name": "python3"
  },
  "language_info": {
   "codemirror_mode": {
    "name": "ipython",
    "version": 3
   },
   "file_extension": ".py",
   "mimetype": "text/x-python",
   "name": "python",
   "nbconvert_exporter": "python",
   "pygments_lexer": "ipython3",
   "version": "3.10.6"
  }
 },
 "nbformat": 4,
 "nbformat_minor": 5
}
