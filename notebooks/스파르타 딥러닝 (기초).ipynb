{
 "cells": [
  {
   "attachments": {},
   "cell_type": "markdown",
   "id": "09bce317",
   "metadata": {},
   "source": [
    "### 딥러닝의 역사\n",
    "\n",
    "* Perceptron\n",
    "* Multilayer Perceptrons\n",
    "* Backpropagation\n",
    "\n",
    "### 딥러닝 네트워크의 아키텍쳐\n",
    "\n",
    "Input Layer   => Hidden Layer(s) => Output Layer\n",
    "ㅡㅡㅡㅡㅡㅡㅡㅡㅡㅡㅡㅡㅡㅡㅡㅡㅡㅡㅡㅡㅡㅡㅡㅡㅡㅡㅡㅡㅡㅡ\n",
    "Input Node(s) => Hidden Node(s)  => Output Node(s)\n",
    "\n",
    "\n",
    "보통 Hidden layer가 갖는 hidden node의 개수를 점차 늘이다가 점차 줄이는 방향으로 설계를 한다.\n",
    "\n",
    "딥러닝에서는 선형 회귀 대신에 Dense Layer 또는 Fully Connected Layer (FCL)라는 표현을 사용한다.\n",
    "\n",
    "* Overfitting -\n",
    "* Underfitting - \n",
    "* Best Fit - \n",
    "\n",
    "### 딥러닝에 사용되는 스킬\n",
    "\n",
    "* 데이터 증강 기법 (Data augmentation) - 과적합을 해결하는 가장 좋은 방법은 데이터의 개수를 늘리는 것이다. 하지만 실무에서는 대게 데이터가 부족할 때가 태반이다. 이럴 때 데이터를 보충하기 위해 사용하는 방법 중 하나가 데이터 증강 기법이다. 데이터 증강 기법은 원본 데이터를 여러 가지 방법으로 변형하고 복사하여 여러 데이터로 증강시키는 것을 의미한다.\n",
    "\n",
    "* 드랍 아웃 (Drop Out) - FCL이 항상 최선의 결과를 도출하는 것은 아니다. 레이어의 노드 일부를 랜덤하게 탈락시켜 연산해보는 방법을 드랍 아웃이라고 한다. 어떤 비율로 노드를 탈락시켜야 할지는 반복 실험을 통해 파악해야 한다.\n",
    "\n",
    "\"사공이 많은 배가 산으로 간다.\"\n",
    "\n",
    "* 앙상블 (Ensemble) - 기법은 아니고 일종의 개념이다. 앙상블은 여러 뉴럴 네트워크를 통해 얻은 여러 결과를 종합하여 하나의 결과를 얻는 것을 의미한다.\n",
    "\n",
    "* Learning Rate Decay - 실무에서 자주 사용되는 기법 중 하나로, local minimum에 빠르게 도달하고 싶을 때 사용한다. Learning Rate(미분 계수)를 변화시키면서 연산을 수행하는 것을 의미한다."
   ]
  },
  {
   "attachments": {},
   "cell_type": "markdown",
   "id": "3e5a0a49",
   "metadata": {},
   "source": [
    "### 딥러닝 실습"
   ]
  },
  {
   "cell_type": "code",
   "execution_count": 1,
   "id": "86a114a3",
   "metadata": {},
   "outputs": [
    {
     "name": "stderr",
     "output_type": "stream",
     "text": [
      "2023-05-16 21:09:37.187791: I tensorflow/core/util/port.cc:110] oneDNN custom operations are on. You may see slightly different numerical results due to floating-point round-off errors from different computation orders. To turn them off, set the environment variable `TF_ENABLE_ONEDNN_OPTS=0`.\n",
      "2023-05-16 21:09:37.209889: I tensorflow/tsl/cuda/cudart_stub.cc:28] Could not find cuda drivers on your machine, GPU will not be used.\n",
      "2023-05-16 21:09:37.387206: I tensorflow/tsl/cuda/cudart_stub.cc:28] Could not find cuda drivers on your machine, GPU will not be used.\n",
      "2023-05-16 21:09:37.388427: I tensorflow/core/platform/cpu_feature_guard.cc:182] This TensorFlow binary is optimized to use available CPU instructions in performance-critical operations.\n",
      "To enable the following instructions: AVX2 AVX_VNNI FMA, in other operations, rebuild TensorFlow with the appropriate compiler flags.\n",
      "2023-05-16 21:09:38.198999: W tensorflow/compiler/tf2tensorrt/utils/py_utils.cc:38] TF-TRT Warning: Could not find TensorRT\n"
     ]
    }
   ],
   "source": [
    "# XOR 데이터 세트\n",
    "import numpy as np\n",
    "import tensorflow as tf"
   ]
  },
  {
   "cell_type": "code",
   "execution_count": 3,
   "id": "ae677961",
   "metadata": {},
   "outputs": [],
   "source": [
    "x_data = np.array([[0,0], [1,0],[0,1],[1,1]], dtype=np.float32)\n",
    "y_data = np.array([[0],[1],[1],[0]], dtype=np.float32)"
   ]
  },
  {
   "cell_type": "code",
   "execution_count": 6,
   "id": "139dcdb2",
   "metadata": {},
   "outputs": [
    {
     "data": {
      "text/plain": [
       "<keras.callbacks.History at 0x7fecc05bcd60>"
      ]
     },
     "execution_count": 6,
     "metadata": {},
     "output_type": "execute_result"
    }
   ],
   "source": [
    "# Binary Logistic Regression 모델 생성\n",
    "model = tf.keras.Sequential()\n",
    "model.add(tf.keras.layers.Dense(1, activation=\"sigmoid\"))\n",
    "\n",
    "model.compile(loss=tf.keras.losses.binary_crossentropy,\n",
    "             optimizer=tf.keras.optimizers.SGD(learning_rate=0.1),\n",
    "             metrics=[\"acc\"])\n",
    "\n",
    "model.fit(x_data, y_data, epochs=1000, verbose=0)"
   ]
  },
  {
   "cell_type": "code",
   "execution_count": 7,
   "id": "81fbcde2",
   "metadata": {},
   "outputs": [
    {
     "name": "stdout",
     "output_type": "stream",
     "text": [
      "1/1 [==============================] - 0s 37ms/step\n"
     ]
    },
    {
     "data": {
      "text/plain": [
       "array([[0.49831092],\n",
       "       [0.49977922],\n",
       "       [0.49969065],\n",
       "       [0.50115895]], dtype=float32)"
      ]
     },
     "execution_count": 7,
     "metadata": {},
     "output_type": "execute_result"
    }
   ],
   "source": [
    "# XOR 문제는 이진 논리로 풀 수 없구나?\n",
    "y_pred = model.predict(x_data)\n",
    "y_pred"
   ]
  },
  {
   "cell_type": "code",
   "execution_count": 10,
   "id": "c063aa0e",
   "metadata": {},
   "outputs": [
    {
     "data": {
      "text/plain": [
       "<keras.callbacks.History at 0x7fecc0a94040>"
      ]
     },
     "execution_count": 10,
     "metadata": {},
     "output_type": "execute_result"
    }
   ],
   "source": [
    "# 다른 모델 생성\n",
    "model = tf.keras.Sequential()\n",
    "model.add(tf.keras.layers.Dense(8, activation=\"relu\")) # 히든 레이어를 추가한다.\n",
    "model.add(tf.keras.layers.Dense(1, activation=\"sigmoid\"))\n",
    "\n",
    "model.compile(loss=tf.keras.losses.binary_crossentropy,\n",
    "             optimizer=tf.keras.optimizers.SGD(learning_rate=0.1))\n",
    "\n",
    "model.fit(x_data, y_data, epochs=1000, verbose=0)"
   ]
  },
  {
   "cell_type": "code",
   "execution_count": 11,
   "id": "c1e99af5",
   "metadata": {},
   "outputs": [
    {
     "name": "stdout",
     "output_type": "stream",
     "text": [
      "1/1 [==============================] - 0s 26ms/step\n"
     ]
    },
    {
     "data": {
      "text/plain": [
       "array([[0.08833533],\n",
       "       [0.9844845 ],\n",
       "       [0.9734549 ],\n",
       "       [0.01520777]], dtype=float32)"
      ]
     },
     "execution_count": 11,
     "metadata": {},
     "output_type": "execute_result"
    }
   ],
   "source": [
    "y_pred = model.predict(x_data)\n",
    "y_pred"
   ]
  },
  {
   "cell_type": "code",
   "execution_count": 13,
   "id": "d0e28f17",
   "metadata": {},
   "outputs": [],
   "source": [
    "import numpy as np\n",
    "from tensorflow.keras.models import Sequential, Model\n",
    "from tensorflow.keras.layers import Dense, Input\n",
    "from tensorflow.keras.losses import binary_crossentropy\n",
    "from tensorflow.keras.optimizers import Adam"
   ]
  },
  {
   "cell_type": "code",
   "execution_count": 14,
   "id": "7c83dae3",
   "metadata": {},
   "outputs": [
    {
     "name": "stdout",
     "output_type": "stream",
     "text": [
      "Model: \"model\"\n",
      "_________________________________________________________________\n",
      " Layer (type)                Output Shape              Param #   \n",
      "=================================================================\n",
      " input_1 (InputLayer)        [(None, 2)]               0         \n",
      "                                                                 \n",
      " dense_6 (Dense)             (None, 8)                 24        \n",
      "                                                                 \n",
      " dense_7 (Dense)             (None, 1)                 9         \n",
      "                                                                 \n",
      "=================================================================\n",
      "Total params: 33\n",
      "Trainable params: 33\n",
      "Non-trainable params: 0\n",
      "_________________________________________________________________\n"
     ]
    }
   ],
   "source": [
    "#  실무에 Sequential API는 잘 사용되지 않는다. 대신 복잡한 연산을 위해 Functional API를 사용한다.\n",
    "input = Input(shape=(2,))\n",
    "hidden = Dense(8, activation=\"relu\")(input)\n",
    "output = Dense(1, activation=\"sigmoid\")(hidden)\n",
    "model = Model(inputs=input, outputs=output)\n",
    "\n",
    "model.compile(loss=binary_crossentropy,\n",
    "             optimizer=Adam(learning_rate=0.1))\n",
    "\n",
    "model.summary()\n",
    "# 맨 앞의 None은 배치 사이즈의 개수를 의미한다."
   ]
  },
  {
   "cell_type": "code",
   "execution_count": 15,
   "id": "900141bb",
   "metadata": {},
   "outputs": [
    {
     "name": "stdout",
     "output_type": "stream",
     "text": [
      "1/1 [==============================] - 0s 28ms/step\n"
     ]
    },
    {
     "data": {
      "text/plain": [
       "array([[3.7591039e-05],\n",
       "       [9.9998003e-01],\n",
       "       [9.9998248e-01],\n",
       "       [1.6362796e-05]], dtype=float32)"
      ]
     },
     "execution_count": 15,
     "metadata": {},
     "output_type": "execute_result"
    }
   ],
   "source": [
    "model.fit(x_data, y_data, epochs=1000, verbose=0)\n",
    "y_pred = model.predict(x_data)\n",
    "\n",
    "y_pred"
   ]
  },
  {
   "cell_type": "code",
   "execution_count": 20,
   "id": "3a989199",
   "metadata": {},
   "outputs": [],
   "source": [
    "# 딥러닝 실습\n",
    "import os\n",
    "os.environ[\"KAGGLE_USERNAME\"]=\"gyeongsugim\"\n",
    "os.environ[\"KAGGLE_KEY\"]=\"13ef87a9410279c26d00c6ec2999b870\""
   ]
  },
  {
   "cell_type": "code",
   "execution_count": 21,
   "id": "e01cd4c3",
   "metadata": {},
   "outputs": [
    {
     "name": "stdout",
     "output_type": "stream",
     "text": [
      "Downloading sign-language-mnist.zip to /home/recona97/here/ml\n",
      "100%|██████████████████████████████████████| 62.6M/62.6M [00:06<00:00, 9.99MB/s]\n",
      "100%|██████████████████████████████████████| 62.6M/62.6M [00:06<00:00, 9.58MB/s]\n"
     ]
    }
   ],
   "source": [
    "!kaggle datasets download -d datamunge/sign-language-mnist"
   ]
  },
  {
   "attachments": {},
   "cell_type": "markdown",
   "id": "145c2418",
   "metadata": {},
   "source": []
  },
  {
   "cell_type": "code",
   "execution_count": 22,
   "id": "f41f3128",
   "metadata": {},
   "outputs": [
    {
     "name": "stdout",
     "output_type": "stream",
     "text": [
      "Archive:  sign-language-mnist.zip\n",
      "  inflating: amer_sign2.png          \n",
      "  inflating: amer_sign3.png          \n",
      "  inflating: american_sign_language.PNG  \n",
      "  inflating: sign_mnist_test.csv     \n",
      "  inflating: sign_mnist_test/sign_mnist_test.csv  \n",
      "  inflating: sign_mnist_train.csv    \n",
      "  inflating: sign_mnist_train/sign_mnist_train.csv  \n"
     ]
    }
   ],
   "source": [
    "!unzip sign-language-mnist.zip"
   ]
  },
  {
   "cell_type": "code",
   "execution_count": 1,
   "id": "fde464bb",
   "metadata": {},
   "outputs": [
    {
     "name": "stderr",
     "output_type": "stream",
     "text": [
      "2023-05-17 01:50:48.601686: I tensorflow/core/util/port.cc:110] oneDNN custom operations are on. You may see slightly different numerical results due to floating-point round-off errors from different computation orders. To turn them off, set the environment variable `TF_ENABLE_ONEDNN_OPTS=0`.\n",
      "2023-05-17 01:50:48.604731: I tensorflow/tsl/cuda/cudart_stub.cc:28] Could not find cuda drivers on your machine, GPU will not be used.\n",
      "2023-05-17 01:50:48.653357: I tensorflow/tsl/cuda/cudart_stub.cc:28] Could not find cuda drivers on your machine, GPU will not be used.\n",
      "2023-05-17 01:50:48.654754: I tensorflow/core/platform/cpu_feature_guard.cc:182] This TensorFlow binary is optimized to use available CPU instructions in performance-critical operations.\n",
      "To enable the following instructions: AVX2 AVX_VNNI FMA, in other operations, rebuild TensorFlow with the appropriate compiler flags.\n",
      "2023-05-17 01:50:49.226924: W tensorflow/compiler/tf2tensorrt/utils/py_utils.cc:38] TF-TRT Warning: Could not find TensorRT\n"
     ]
    }
   ],
   "source": [
    "import numpy as np\n",
    "import pandas as pd\n",
    "import matplotlib.pyplot as plt\n",
    "import seaborn as sbn\n",
    "from sklearn.model_selection import train_test_split\n",
    "from sklearn.preprocessing import StandardScaler\n",
    "from sklearn.preprocessing import OneHotEncoder\n",
    "from tensorflow.keras.models import Model\n",
    "from tensorflow.keras.layers import Dense, Input\n",
    "from tensorflow.keras.optimizers import Adam, SGD"
   ]
  },
  {
   "cell_type": "code",
   "execution_count": 6,
   "id": "5e548261",
   "metadata": {},
   "outputs": [
    {
     "data": {
      "text/html": [
       "<div>\n",
       "<style scoped>\n",
       "    .dataframe tbody tr th:only-of-type {\n",
       "        vertical-align: middle;\n",
       "    }\n",
       "\n",
       "    .dataframe tbody tr th {\n",
       "        vertical-align: top;\n",
       "    }\n",
       "\n",
       "    .dataframe thead th {\n",
       "        text-align: right;\n",
       "    }\n",
       "</style>\n",
       "<table border=\"1\" class=\"dataframe\">\n",
       "  <thead>\n",
       "    <tr style=\"text-align: right;\">\n",
       "      <th></th>\n",
       "      <th>label</th>\n",
       "      <th>pixel1</th>\n",
       "      <th>pixel2</th>\n",
       "      <th>pixel3</th>\n",
       "      <th>pixel4</th>\n",
       "      <th>pixel5</th>\n",
       "      <th>pixel6</th>\n",
       "      <th>pixel7</th>\n",
       "      <th>pixel8</th>\n",
       "      <th>pixel9</th>\n",
       "      <th>...</th>\n",
       "      <th>pixel775</th>\n",
       "      <th>pixel776</th>\n",
       "      <th>pixel777</th>\n",
       "      <th>pixel778</th>\n",
       "      <th>pixel779</th>\n",
       "      <th>pixel780</th>\n",
       "      <th>pixel781</th>\n",
       "      <th>pixel782</th>\n",
       "      <th>pixel783</th>\n",
       "      <th>pixel784</th>\n",
       "    </tr>\n",
       "  </thead>\n",
       "  <tbody>\n",
       "    <tr>\n",
       "      <th>0</th>\n",
       "      <td>3</td>\n",
       "      <td>107</td>\n",
       "      <td>118</td>\n",
       "      <td>127</td>\n",
       "      <td>134</td>\n",
       "      <td>139</td>\n",
       "      <td>143</td>\n",
       "      <td>146</td>\n",
       "      <td>150</td>\n",
       "      <td>153</td>\n",
       "      <td>...</td>\n",
       "      <td>207</td>\n",
       "      <td>207</td>\n",
       "      <td>207</td>\n",
       "      <td>207</td>\n",
       "      <td>206</td>\n",
       "      <td>206</td>\n",
       "      <td>206</td>\n",
       "      <td>204</td>\n",
       "      <td>203</td>\n",
       "      <td>202</td>\n",
       "    </tr>\n",
       "    <tr>\n",
       "      <th>1</th>\n",
       "      <td>6</td>\n",
       "      <td>155</td>\n",
       "      <td>157</td>\n",
       "      <td>156</td>\n",
       "      <td>156</td>\n",
       "      <td>156</td>\n",
       "      <td>157</td>\n",
       "      <td>156</td>\n",
       "      <td>158</td>\n",
       "      <td>158</td>\n",
       "      <td>...</td>\n",
       "      <td>69</td>\n",
       "      <td>149</td>\n",
       "      <td>128</td>\n",
       "      <td>87</td>\n",
       "      <td>94</td>\n",
       "      <td>163</td>\n",
       "      <td>175</td>\n",
       "      <td>103</td>\n",
       "      <td>135</td>\n",
       "      <td>149</td>\n",
       "    </tr>\n",
       "    <tr>\n",
       "      <th>2</th>\n",
       "      <td>2</td>\n",
       "      <td>187</td>\n",
       "      <td>188</td>\n",
       "      <td>188</td>\n",
       "      <td>187</td>\n",
       "      <td>187</td>\n",
       "      <td>186</td>\n",
       "      <td>187</td>\n",
       "      <td>188</td>\n",
       "      <td>187</td>\n",
       "      <td>...</td>\n",
       "      <td>202</td>\n",
       "      <td>201</td>\n",
       "      <td>200</td>\n",
       "      <td>199</td>\n",
       "      <td>198</td>\n",
       "      <td>199</td>\n",
       "      <td>198</td>\n",
       "      <td>195</td>\n",
       "      <td>194</td>\n",
       "      <td>195</td>\n",
       "    </tr>\n",
       "    <tr>\n",
       "      <th>3</th>\n",
       "      <td>2</td>\n",
       "      <td>211</td>\n",
       "      <td>211</td>\n",
       "      <td>212</td>\n",
       "      <td>212</td>\n",
       "      <td>211</td>\n",
       "      <td>210</td>\n",
       "      <td>211</td>\n",
       "      <td>210</td>\n",
       "      <td>210</td>\n",
       "      <td>...</td>\n",
       "      <td>235</td>\n",
       "      <td>234</td>\n",
       "      <td>233</td>\n",
       "      <td>231</td>\n",
       "      <td>230</td>\n",
       "      <td>226</td>\n",
       "      <td>225</td>\n",
       "      <td>222</td>\n",
       "      <td>229</td>\n",
       "      <td>163</td>\n",
       "    </tr>\n",
       "    <tr>\n",
       "      <th>4</th>\n",
       "      <td>13</td>\n",
       "      <td>164</td>\n",
       "      <td>167</td>\n",
       "      <td>170</td>\n",
       "      <td>172</td>\n",
       "      <td>176</td>\n",
       "      <td>179</td>\n",
       "      <td>180</td>\n",
       "      <td>184</td>\n",
       "      <td>185</td>\n",
       "      <td>...</td>\n",
       "      <td>92</td>\n",
       "      <td>105</td>\n",
       "      <td>105</td>\n",
       "      <td>108</td>\n",
       "      <td>133</td>\n",
       "      <td>163</td>\n",
       "      <td>157</td>\n",
       "      <td>163</td>\n",
       "      <td>164</td>\n",
       "      <td>179</td>\n",
       "    </tr>\n",
       "  </tbody>\n",
       "</table>\n",
       "<p>5 rows × 785 columns</p>\n",
       "</div>"
      ],
      "text/plain": [
       "   label  pixel1  pixel2  pixel3  pixel4  pixel5  pixel6  pixel7  pixel8   \n",
       "0      3     107     118     127     134     139     143     146     150  \\\n",
       "1      6     155     157     156     156     156     157     156     158   \n",
       "2      2     187     188     188     187     187     186     187     188   \n",
       "3      2     211     211     212     212     211     210     211     210   \n",
       "4     13     164     167     170     172     176     179     180     184   \n",
       "\n",
       "   pixel9  ...  pixel775  pixel776  pixel777  pixel778  pixel779  pixel780   \n",
       "0     153  ...       207       207       207       207       206       206  \\\n",
       "1     158  ...        69       149       128        87        94       163   \n",
       "2     187  ...       202       201       200       199       198       199   \n",
       "3     210  ...       235       234       233       231       230       226   \n",
       "4     185  ...        92       105       105       108       133       163   \n",
       "\n",
       "   pixel781  pixel782  pixel783  pixel784  \n",
       "0       206       204       203       202  \n",
       "1       175       103       135       149  \n",
       "2       198       195       194       195  \n",
       "3       225       222       229       163  \n",
       "4       157       163       164       179  \n",
       "\n",
       "[5 rows x 785 columns]"
      ]
     },
     "execution_count": 6,
     "metadata": {},
     "output_type": "execute_result"
    }
   ],
   "source": [
    "train_df = pd.read_csv(\"sign_mnist_train.csv\")\n",
    "train_df.head(5)"
   ]
  },
  {
   "cell_type": "code",
   "execution_count": 8,
   "id": "f74f7eb0",
   "metadata": {},
   "outputs": [
    {
     "data": {
      "text/html": [
       "<div>\n",
       "<style scoped>\n",
       "    .dataframe tbody tr th:only-of-type {\n",
       "        vertical-align: middle;\n",
       "    }\n",
       "\n",
       "    .dataframe tbody tr th {\n",
       "        vertical-align: top;\n",
       "    }\n",
       "\n",
       "    .dataframe thead th {\n",
       "        text-align: right;\n",
       "    }\n",
       "</style>\n",
       "<table border=\"1\" class=\"dataframe\">\n",
       "  <thead>\n",
       "    <tr style=\"text-align: right;\">\n",
       "      <th></th>\n",
       "      <th>label</th>\n",
       "      <th>pixel1</th>\n",
       "      <th>pixel2</th>\n",
       "      <th>pixel3</th>\n",
       "      <th>pixel4</th>\n",
       "      <th>pixel5</th>\n",
       "      <th>pixel6</th>\n",
       "      <th>pixel7</th>\n",
       "      <th>pixel8</th>\n",
       "      <th>pixel9</th>\n",
       "      <th>...</th>\n",
       "      <th>pixel775</th>\n",
       "      <th>pixel776</th>\n",
       "      <th>pixel777</th>\n",
       "      <th>pixel778</th>\n",
       "      <th>pixel779</th>\n",
       "      <th>pixel780</th>\n",
       "      <th>pixel781</th>\n",
       "      <th>pixel782</th>\n",
       "      <th>pixel783</th>\n",
       "      <th>pixel784</th>\n",
       "    </tr>\n",
       "  </thead>\n",
       "  <tbody>\n",
       "    <tr>\n",
       "      <th>0</th>\n",
       "      <td>6</td>\n",
       "      <td>149</td>\n",
       "      <td>149</td>\n",
       "      <td>150</td>\n",
       "      <td>150</td>\n",
       "      <td>150</td>\n",
       "      <td>151</td>\n",
       "      <td>151</td>\n",
       "      <td>150</td>\n",
       "      <td>151</td>\n",
       "      <td>...</td>\n",
       "      <td>138</td>\n",
       "      <td>148</td>\n",
       "      <td>127</td>\n",
       "      <td>89</td>\n",
       "      <td>82</td>\n",
       "      <td>96</td>\n",
       "      <td>106</td>\n",
       "      <td>112</td>\n",
       "      <td>120</td>\n",
       "      <td>107</td>\n",
       "    </tr>\n",
       "    <tr>\n",
       "      <th>1</th>\n",
       "      <td>5</td>\n",
       "      <td>126</td>\n",
       "      <td>128</td>\n",
       "      <td>131</td>\n",
       "      <td>132</td>\n",
       "      <td>133</td>\n",
       "      <td>134</td>\n",
       "      <td>135</td>\n",
       "      <td>135</td>\n",
       "      <td>136</td>\n",
       "      <td>...</td>\n",
       "      <td>47</td>\n",
       "      <td>104</td>\n",
       "      <td>194</td>\n",
       "      <td>183</td>\n",
       "      <td>186</td>\n",
       "      <td>184</td>\n",
       "      <td>184</td>\n",
       "      <td>184</td>\n",
       "      <td>182</td>\n",
       "      <td>180</td>\n",
       "    </tr>\n",
       "    <tr>\n",
       "      <th>2</th>\n",
       "      <td>10</td>\n",
       "      <td>85</td>\n",
       "      <td>88</td>\n",
       "      <td>92</td>\n",
       "      <td>96</td>\n",
       "      <td>105</td>\n",
       "      <td>123</td>\n",
       "      <td>135</td>\n",
       "      <td>143</td>\n",
       "      <td>147</td>\n",
       "      <td>...</td>\n",
       "      <td>68</td>\n",
       "      <td>166</td>\n",
       "      <td>242</td>\n",
       "      <td>227</td>\n",
       "      <td>230</td>\n",
       "      <td>227</td>\n",
       "      <td>226</td>\n",
       "      <td>225</td>\n",
       "      <td>224</td>\n",
       "      <td>222</td>\n",
       "    </tr>\n",
       "    <tr>\n",
       "      <th>3</th>\n",
       "      <td>0</td>\n",
       "      <td>203</td>\n",
       "      <td>205</td>\n",
       "      <td>207</td>\n",
       "      <td>206</td>\n",
       "      <td>207</td>\n",
       "      <td>209</td>\n",
       "      <td>210</td>\n",
       "      <td>209</td>\n",
       "      <td>210</td>\n",
       "      <td>...</td>\n",
       "      <td>154</td>\n",
       "      <td>248</td>\n",
       "      <td>247</td>\n",
       "      <td>248</td>\n",
       "      <td>253</td>\n",
       "      <td>236</td>\n",
       "      <td>230</td>\n",
       "      <td>240</td>\n",
       "      <td>253</td>\n",
       "      <td>255</td>\n",
       "    </tr>\n",
       "    <tr>\n",
       "      <th>4</th>\n",
       "      <td>3</td>\n",
       "      <td>188</td>\n",
       "      <td>191</td>\n",
       "      <td>193</td>\n",
       "      <td>195</td>\n",
       "      <td>199</td>\n",
       "      <td>201</td>\n",
       "      <td>202</td>\n",
       "      <td>203</td>\n",
       "      <td>203</td>\n",
       "      <td>...</td>\n",
       "      <td>26</td>\n",
       "      <td>40</td>\n",
       "      <td>64</td>\n",
       "      <td>48</td>\n",
       "      <td>29</td>\n",
       "      <td>46</td>\n",
       "      <td>49</td>\n",
       "      <td>46</td>\n",
       "      <td>46</td>\n",
       "      <td>53</td>\n",
       "    </tr>\n",
       "  </tbody>\n",
       "</table>\n",
       "<p>5 rows × 785 columns</p>\n",
       "</div>"
      ],
      "text/plain": [
       "   label  pixel1  pixel2  pixel3  pixel4  pixel5  pixel6  pixel7  pixel8   \n",
       "0      6     149     149     150     150     150     151     151     150  \\\n",
       "1      5     126     128     131     132     133     134     135     135   \n",
       "2     10      85      88      92      96     105     123     135     143   \n",
       "3      0     203     205     207     206     207     209     210     209   \n",
       "4      3     188     191     193     195     199     201     202     203   \n",
       "\n",
       "   pixel9  ...  pixel775  pixel776  pixel777  pixel778  pixel779  pixel780   \n",
       "0     151  ...       138       148       127        89        82        96  \\\n",
       "1     136  ...        47       104       194       183       186       184   \n",
       "2     147  ...        68       166       242       227       230       227   \n",
       "3     210  ...       154       248       247       248       253       236   \n",
       "4     203  ...        26        40        64        48        29        46   \n",
       "\n",
       "   pixel781  pixel782  pixel783  pixel784  \n",
       "0       106       112       120       107  \n",
       "1       184       184       182       180  \n",
       "2       226       225       224       222  \n",
       "3       230       240       253       255  \n",
       "4        49        46        46        53  \n",
       "\n",
       "[5 rows x 785 columns]"
      ]
     },
     "execution_count": 8,
     "metadata": {},
     "output_type": "execute_result"
    }
   ],
   "source": [
    "test_df = pd.read_csv(\"sign_mnist_test.csv\")\n",
    "test_df.head(5)"
   ]
  },
  {
   "cell_type": "code",
   "execution_count": 11,
   "id": "1ff69358",
   "metadata": {},
   "outputs": [
    {
     "data": {
      "image/png": "[encoded data removed]",
      "text/plain": [
       "<Figure size 1600x1000 with 1 Axes>"
      ]
     },
     "metadata": {},
     "output_type": "display_data"
    }
   ],
   "source": [
    "plt.figure(figsize=[16,10])\n",
    "sbn.countplot(x=train_df[\"label\"])\n",
    "plt.show()"
   ]
  },
  {
   "cell_type": "code",
   "execution_count": 28,
   "id": "e9af2f62",
   "metadata": {},
   "outputs": [
    {
     "data": {
      "text/plain": [
       "((27455, 784),\n",
       " (27455, 1),\n",
       " (7172, 784),\n",
       " (7172, 1),\n",
       " array([[ 6.],\n",
       "        [ 5.],\n",
       "        [10.],\n",
       "        ...,\n",
       "        [ 2.],\n",
       "        [ 4.],\n",
       "        [ 2.]], dtype=float32))"
      ]
     },
     "execution_count": 28,
     "metadata": {},
     "output_type": "execute_result"
    }
   ],
   "source": [
    "train_df = train_df.astype(np.float32)\n",
    "x_train = train_df.drop(columns=[\"label\"]).values\n",
    "y_train = train_df[[\"label\"]].values\n",
    "\n",
    "test_df = test_df.astype(np.float32)\n",
    "x_test = test_df.drop(columns=[\"label\"]).values\n",
    "y_test = test_df[[\"label\"]].values\n",
    "\n",
    "\n",
    "x_train.shape, y_train.shape, x_test.shape, y_test.shape, y_test"
   ]
  },
  {
   "cell_type": "code",
   "execution_count": 20,
   "id": "28811134",
   "metadata": {},
   "outputs": [
    {
     "data": {
      "image/png": "[encoded data removed]",
      "text/plain": [
       "<Figure size 640x480 with 1 Axes>"
      ]
     },
     "metadata": {},
     "output_type": "display_data"
    }
   ],
   "source": [
    "# 데이터 미리보기\n",
    "index = 1\n",
    "plt.title(str(y_train[index]))\n",
    "plt.imshow(x_train[index].reshape((28,28)), cmap=\"gray\")\n",
    "plt.show()"
   ]
  },
  {
   "cell_type": "code",
   "execution_count": 29,
   "id": "a63966d3",
   "metadata": {},
   "outputs": [
    {
     "data": {
      "text/plain": [
       "((27455, 24), (7172, 24))"
      ]
     },
     "execution_count": 29,
     "metadata": {},
     "output_type": "execute_result"
    }
   ],
   "source": [
    "# One-hot Encoding\n",
    "encoder = OneHotEncoder()\n",
    "y_train = encoder.fit_transform(y_train).toarray()\n",
    "y_test = encoder.fit_transform(y_test).toarray()\n",
    "\n",
    "y_train.shape, y_test.shape"
   ]
  },
  {
   "cell_type": "code",
   "execution_count": 30,
   "id": "1862e522",
   "metadata": {},
   "outputs": [],
   "source": [
    "x_train = x_train / 255.\n",
    "x_test = x_test / 255."
   ]
  },
  {
   "cell_type": "code",
   "execution_count": 33,
   "id": "0588a53c",
   "metadata": {},
   "outputs": [
    {
     "name": "stdout",
     "output_type": "stream",
     "text": [
      "Model: \"model\"\n",
      "_________________________________________________________________\n",
      " Layer (type)                Output Shape              Param #   \n",
      "=================================================================\n",
      " input_3 (InputLayer)        [(None, 784)]             0         \n",
      "                                                                 \n",
      " dense_6 (Dense)             (None, 1024)              803840    \n",
      "                                                                 \n",
      " dense_7 (Dense)             (None, 512)               524800    \n",
      "                                                                 \n",
      " dense_8 (Dense)             (None, 256)               131328    \n",
      "                                                                 \n",
      " dense_9 (Dense)             (None, 24)                6168      \n",
      "                                                                 \n",
      "=================================================================\n",
      "Total params: 1,466,136\n",
      "Trainable params: 1,466,136\n",
      "Non-trainable params: 0\n",
      "_________________________________________________________________\n"
     ]
    }
   ],
   "source": [
    "input = Input(shape=(784,))\n",
    "hidden = Dense(1024, activation=\"relu\")(input)\n",
    "hidden = Dense(512, activation=\"relu\")(hidden)\n",
    "hidden = Dense(256, activation=\"relu\")(hidden)\n",
    "output = Dense(24, activation=\"softmax\")(hidden)\n",
    "\n",
    "model = Model(inputs=input, outputs=output)\n",
    "\n",
    "model.compile(loss=\"categorical_crossentropy\",\n",
    "             optimizer=Adam(learning_rate=0.001),\n",
    "             metrics=[\"acc\"])\n",
    "\n",
    "model.summary()"
   ]
  },
  {
   "cell_type": "code",
   "execution_count": 34,
   "id": "a38c3447",
   "metadata": {},
   "outputs": [
    {
     "name": "stdout",
     "output_type": "stream",
     "text": [
      "Epoch 1/20\n",
      "858/858 [==============================] - 6s 7ms/step - loss: 1.7066 - acc: 0.4436 - val_loss: 1.3808 - val_acc: 0.5848\n",
      "Epoch 2/20\n",
      "858/858 [==============================] - 6s 7ms/step - loss: 0.6189 - acc: 0.7819 - val_loss: 0.8575 - val_acc: 0.7500\n",
      "Epoch 3/20\n",
      "858/858 [==============================] - 6s 8ms/step - loss: 0.3053 - acc: 0.8948 - val_loss: 0.8302 - val_acc: 0.7366\n",
      "Epoch 4/20\n",
      "858/858 [==============================] - 6s 7ms/step - loss: 0.1729 - acc: 0.9421 - val_loss: 1.0805 - val_acc: 0.7386\n",
      "Epoch 5/20\n",
      "858/858 [==============================] - 6s 7ms/step - loss: 0.1049 - acc: 0.9663 - val_loss: 0.8035 - val_acc: 0.8035\n",
      "Epoch 6/20\n",
      "858/858 [==============================] - 6s 7ms/step - loss: 0.0989 - acc: 0.9679 - val_loss: 0.9332 - val_acc: 0.8054\n",
      "Epoch 7/20\n",
      "858/858 [==============================] - 6s 7ms/step - loss: 0.0701 - acc: 0.9780 - val_loss: 0.7431 - val_acc: 0.8455\n",
      "Epoch 8/20\n",
      "858/858 [==============================] - 6s 7ms/step - loss: 0.0753 - acc: 0.9783 - val_loss: 1.1174 - val_acc: 0.6857\n",
      "Epoch 9/20\n",
      "858/858 [==============================] - 6s 7ms/step - loss: 0.0690 - acc: 0.9780 - val_loss: 0.7539 - val_acc: 0.8303\n",
      "Epoch 10/20\n",
      "858/858 [==============================] - 6s 7ms/step - loss: 7.2588e-04 - acc: 1.0000 - val_loss: 0.7857 - val_acc: 0.8433\n",
      "Epoch 11/20\n",
      "858/858 [==============================] - 6s 7ms/step - loss: 3.3471e-04 - acc: 1.0000 - val_loss: 0.8383 - val_acc: 0.8479\n",
      "Epoch 12/20\n",
      "858/858 [==============================] - 6s 7ms/step - loss: 1.8141e-04 - acc: 1.0000 - val_loss: 0.8904 - val_acc: 0.8476\n",
      "Epoch 13/20\n",
      "858/858 [==============================] - 6s 7ms/step - loss: 1.1008e-04 - acc: 1.0000 - val_loss: 0.9413 - val_acc: 0.8408\n",
      "Epoch 14/20\n",
      "858/858 [==============================] - 6s 7ms/step - loss: 6.7844e-05 - acc: 1.0000 - val_loss: 1.0065 - val_acc: 0.8426\n",
      "Epoch 15/20\n",
      "858/858 [==============================] - 6s 7ms/step - loss: 0.2028 - acc: 0.9462 - val_loss: 0.7552 - val_acc: 0.8141\n",
      "Epoch 16/20\n",
      "858/858 [==============================] - 6s 7ms/step - loss: 0.0679 - acc: 0.9796 - val_loss: 0.7257 - val_acc: 0.8574\n",
      "Epoch 17/20\n",
      "858/858 [==============================] - 6s 7ms/step - loss: 0.0013 - acc: 1.0000 - val_loss: 1.1905 - val_acc: 0.7718\n",
      "Epoch 18/20\n",
      "858/858 [==============================] - 6s 7ms/step - loss: 0.1094 - acc: 0.9686 - val_loss: 0.8140 - val_acc: 0.8073\n",
      "Epoch 19/20\n",
      "858/858 [==============================] - 6s 7ms/step - loss: 0.0052 - acc: 0.9991 - val_loss: 0.7939 - val_acc: 0.8429\n",
      "Epoch 20/20\n",
      "858/858 [==============================] - 6s 7ms/step - loss: 4.2223e-04 - acc: 1.0000 - val_loss: 0.8476 - val_acc: 0.8369\n"
     ]
    }
   ],
   "source": [
    "history = model.fit(x_train, y_train,\n",
    "                   validation_data=(x_test, y_test),\n",
    "                   epochs=20)"
   ]
  },
  {
   "cell_type": "code",
   "execution_count": 35,
   "id": "15dcff81",
   "metadata": {},
   "outputs": [
    {
     "data": {
      "text/plain": [
       "[<matplotlib.lines.Line2D at 0x7fc2ec298ac0>]"
      ]
     },
     "execution_count": 35,
     "metadata": {},
     "output_type": "execute_result"
    },
    {
     "data": {
      "image/png": "[encoded data removed]",
      "text/plain": [
       "<Figure size 1600x1000 with 1 Axes>"
      ]
     },
     "metadata": {},
     "output_type": "display_data"
    }
   ],
   "source": [
    "plt.figure(figsize=(16,10))\n",
    "plt.plot(history.history[\"loss\"])\n",
    "plt.plot(history.history[\"val_loss\"])"
   ]
  },
  {
   "cell_type": "code",
   "execution_count": 36,
   "id": "40e32bf1",
   "metadata": {},
   "outputs": [
    {
     "data": {
      "text/plain": [
       "[<matplotlib.lines.Line2D at 0x7fc2ec2de2c0>]"
      ]
     },
     "execution_count": 36,
     "metadata": {},
     "output_type": "execute_result"
    },
    {
     "data": {
      "image/png": "[encoded data removed]",
      "text/plain": [
       "<Figure size 1600x1000 with 1 Axes>"
      ]
     },
     "metadata": {},
     "output_type": "display_data"
    }
   ],
   "source": [
    "plt.figure(figsize=(16,10))\n",
    "plt.plot(history.history[\"acc\"])\n",
    "plt.plot(history.history[\"val_acc\"])"
   ]
  },
  {
   "cell_type": "code",
   "execution_count": null,
   "id": "1e9abc65",
   "metadata": {},
   "outputs": [],
   "source": []
  }
 ],
 "metadata": {
  "kernelspec": {
   "display_name": "Python 3 (ipykernel)",
   "language": "python",
   "name": "python3"
  },
  "language_info": {
   "codemirror_mode": {
    "name": "ipython",
    "version": 3
   },
   "file_extension": ".py",
   "mimetype": "text/x-python",
   "name": "python",
   "nbconvert_exporter": "python",
   "pygments_lexer": "ipython3",
   "version": "3.10.6"
  }
 },
 "nbformat": 4,
 "nbformat_minor": 5
}
